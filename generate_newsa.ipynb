{
 "cells": [
  {
   "cell_type": "code",
   "execution_count": 1,
   "metadata": {},
   "outputs": [],
   "source": [
    "import numpy as np\n",
    "import torch as th\n",
    "from concurrent.futures import ProcessPoolExecutor\n",
    "\n",
    "from glob import glob\n",
    "from utils import *\n",
    "import ray\n",
    "import pandas as pd\n",
    "import seaborn as sns\n",
    "import matplotlib.pyplot as plt\n",
    "\n",
    "\n",
    "df_result = pd.read_csv(\"./result.csv\", index_col=0)\n",
    "sigs_name = df_result.index.tolist()\n",
    "sigs_dir = [\n",
    "    sorted(\n",
    "        glob(f\"checkpoints/{name}/*.json\"),\n",
    "        key=lambda x: int(x.split(\"/\")[-1].split(\"_\")[0]),\n",
    "    )[-1]\n",
    "    for name in sigs_name\n",
    "]\n",
    "\n",
    "\n",
    "sigs_dict = {}\n",
    "with ProcessPoolExecutor(80) as executor:\n",
    "    for name, value in zip(\n",
    "        sigs_name,\n",
    "        executor.map(\n",
    "            json_to_factor,\n",
    "            sigs_dir,\n",
    "            [20190103] * len(sigs_name),\n",
    "            [20211231] * len(sigs_name),\n",
    "        ),\n",
    "        strict=True,\n",
    "    ):\n",
    "        sigs_dict[name] = value\n"
   ]
  },
  {
   "cell_type": "code",
   "execution_count": 2,
   "metadata": {},
   "outputs": [],
   "source": [
    "sigs = th.stack(list(sigs_dict.values()),dim=2)"
   ]
  },
  {
   "cell_type": "code",
   "execution_count": 3,
   "metadata": {},
   "outputs": [
    {
     "data": {
      "text/plain": [
       "torch.Size([11548, 6000, 101])"
      ]
     },
     "execution_count": 3,
     "metadata": {},
     "output_type": "execute_result"
    }
   ],
   "source": [
    "sigs.shape"
   ]
  },
  {
   "cell_type": "code",
   "execution_count": 4,
   "metadata": {},
   "outputs": [],
   "source": [
    "sigs = th.concat([th.zeros(100,sigs.shape[1],sigs.shape[2]),sigs], dim=0)"
   ]
  },
  {
   "cell_type": "code",
   "execution_count": 5,
   "metadata": {},
   "outputs": [
    {
     "data": {
      "text/plain": [
       "torch.Size([11648, 6000, 101])"
      ]
     },
     "execution_count": 5,
     "metadata": {},
     "output_type": "execute_result"
    }
   ],
   "source": [
    "sigs.shape"
   ]
  },
  {
   "cell_type": "code",
   "execution_count": 10,
   "metadata": {},
   "outputs": [],
   "source": [
    "sigs = sigs.reshape(-1,16,6000,sigs.shape[-1])"
   ]
  },
  {
   "cell_type": "code",
   "execution_count": 1,
   "metadata": {},
   "outputs": [],
   "source": [
    "import SharedArray as sa"
   ]
  },
  {
   "cell_type": "code",
   "execution_count": 7,
   "metadata": {},
   "outputs": [],
   "source": [
    "X905 = sa.attach('X_905P_22')"
   ]
  },
  {
   "cell_type": "code",
   "execution_count": 8,
   "metadata": {},
   "outputs": [
    {
     "data": {
      "text/plain": [
       "(971, 16, 6000, 994)"
      ]
     },
     "execution_count": 8,
     "metadata": {},
     "output_type": "execute_result"
    }
   ],
   "source": [
    "X905.shape"
   ]
  },
  {
   "cell_type": "code",
   "execution_count": 11,
   "metadata": {},
   "outputs": [],
   "source": [
    "Xsr1 = np.concatenate([X905[:sigs.shape[0],...],sigs],axis=3)"
   ]
  },
  {
   "cell_type": "code",
   "execution_count": null,
   "metadata": {},
   "outputs": [],
   "source": [
    "try:\n",
    "    saxsr = sa.create('Xsr1', Xsr1.shape, dtype=np.float32)\n",
    "    saxsr[:] = Xsr1\n",
    "except:\n",
    "    sa.delete('Xsr1')\n",
    "    saxsr = sa.create('Xsr1', Xsr1.shape, dtype=np.float32)\n",
    "    saxsr[:] = Xsr1"
   ]
  },
  {
   "cell_type": "code",
   "execution_count": null,
   "metadata": {},
   "outputs": [],
   "source": []
  }
 ],
 "metadata": {
  "kernelspec": {
   "display_name": "ag",
   "language": "python",
   "name": "python3"
  },
  "language_info": {
   "codemirror_mode": {
    "name": "ipython",
    "version": 3
   },
   "file_extension": ".py",
   "mimetype": "text/x-python",
   "name": "python",
   "nbconvert_exporter": "python",
   "pygments_lexer": "ipython3",
   "version": "3.11.3"
  },
  "orig_nbformat": 4
 },
 "nbformat": 4,
 "nbformat_minor": 2
}
