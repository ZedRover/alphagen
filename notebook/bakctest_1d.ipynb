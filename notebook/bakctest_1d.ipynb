{
 "cells": [
  {
   "cell_type": "code",
   "execution_count": 1,
   "metadata": {},
   "outputs": [],
   "source": [
    "import os\n",
    "\n",
    "os.chdir(\"../\")\n",
    "import numpy as np\n",
    "import torch as th\n",
    "from glob import glob\n",
    "from utils import *\n",
    "import ray\n",
    "import pandas as pd\n",
    "import seaborn as sns\n",
    "import matplotlib.pyplot as plt\n",
    "from alphagen.config import HORIZON_BACK\n"
   ]
  },
  {
   "cell_type": "code",
   "execution_count": 2,
   "metadata": {},
   "outputs": [],
   "source": [
    "json_paths = glob(\"checkpoints/*ret1d*\")\n",
    "json_paths = [\n",
    "    sorted(\n",
    "        glob(f\"{name}/*.json\"),\n",
    "        key=lambda x: int(x.split(\"/\")[-1].split(\"_\")[0]),\n",
    "    )[-1]\n",
    "    for name in json_paths\n",
    "]\n"
   ]
  },
  {
   "cell_type": "code",
   "execution_count": 3,
   "metadata": {},
   "outputs": [],
   "source": [
    "data = ArgData(\n",
    "    start_time=20190103,\n",
    "    end_time=20211231,\n",
    "    device=torch.device(\"cpu\"),\n",
    "    max_backtrack_days=HORIZON_BACK,\n",
    ")\n"
   ]
  },
  {
   "cell_type": "code",
   "execution_count": 4,
   "metadata": {},
   "outputs": [],
   "source": [
    "def json_to_factor(path):\n",
    "    with open(path, \"r\") as f:\n",
    "        alpha = json.load(f)\n",
    "    factors = [\n",
    "        Feature(getattr(FeatureType, expr[1:])).evaluate(data)\n",
    "        if expr[0] == \"$\"\n",
    "        else formula_to_expression(expr).evaluate(data)\n",
    "        for expr in alpha[\"exprs\"]\n",
    "    ]\n",
    "    weights = torch.tensor(alpha[\"weights\"])\n",
    "    factor_value = sum(f * w for f, w in zip(factors, weights))\n",
    "    factor_value = normalize_by_day(factor_value)\n",
    "    return factor_value\n"
   ]
  },
  {
   "cell_type": "code",
   "execution_count": 5,
   "metadata": {},
   "outputs": [
    {
     "name": "stderr",
     "output_type": "stream",
     "text": [
      " 12%|███████▎                                                    | 4/33 [02:52<23:14, 48.08s/it]"
     ]
    }
   ],
   "source": [
    "from tqdm import  trange\n",
    "alphas =  []\n",
    "for i in trange(len(json_paths)):\n",
    "    alphas.append(json_to_factor(json_paths[i]))"
   ]
  },
  {
   "cell_type": "code",
   "execution_count": null,
   "metadata": {},
   "outputs": [
    {
     "ename": "RuntimeError",
     "evalue": "[enforce fail at alloc_cpu.cpp:75] err == 0. DefaultCPUAllocator: can't allocate memory: you tried to allocate 48248784000 bytes. Error code 12 (Cannot allocate memory)",
     "output_type": "error",
     "traceback": [
      "\u001b[0;31m---------------------------------------------------------------------------\u001b[0m",
      "\u001b[0;31m_RemoteTraceback\u001b[0m                          Traceback (most recent call last)",
      "\u001b[0;31m_RemoteTraceback\u001b[0m: \n\"\"\"\nTraceback (most recent call last):\n  File \"/home/ray/anaconda3/envs/ag/lib/python3.11/concurrent/futures/process.py\", line 256, in _process_worker\n    r = call_item.fn(*call_item.args, **call_item.kwargs)\n        ^^^^^^^^^^^^^^^^^^^^^^^^^^^^^^^^^^^^^^^^^^^^^^^^^\n  File \"/home/ray/anaconda3/envs/ag/lib/python3.11/concurrent/futures/process.py\", line 205, in _process_chunk\n    return [fn(*args) for args in chunk]\n           ^^^^^^^^^^^^^^^^^^^^^^^^^^^^^\n  File \"/home/ray/anaconda3/envs/ag/lib/python3.11/concurrent/futures/process.py\", line 205, in <listcomp>\n    return [fn(*args) for args in chunk]\n            ^^^^^^^^^\n  File \"/tmp/ipykernel_153473/4080890902.py\", line 4, in json_to_factor\n    factors = [\n              ^\n  File \"/tmp/ipykernel_153473/4080890902.py\", line 7, in <listcomp>\n    else formula_to_expression(expr).evaluate(data)\n         ^^^^^^^^^^^^^^^^^^^^^^^^^^^^^^^^^^^^^^^^^^\n  File \"/home/ray/workspace/alphagen/alphagen/data/expression.py\", line 278, in evaluate\n    return self._apply(values)  # (L, S)\n           ^^^^^^^^^^^^^^^^^^^\n  File \"/home/ray/workspace/alphagen/alphagen/data/expression.py\", line 547, in _apply\n    return (weights * operand).sum(dim=-1)\n            ~~~~~~~~^~~~~~~~~\nRuntimeError: [enforce fail at alloc_cpu.cpp:75] err == 0. DefaultCPUAllocator: can't allocate memory: you tried to allocate 48248784000 bytes. Error code 12 (Cannot allocate memory)\n\"\"\"",
      "\nThe above exception was the direct cause of the following exception:\n",
      "\u001b[0;31mRuntimeError\u001b[0m                              Traceback (most recent call last)",
      "\u001b[1;32m/home/ray/workspace/alphagen/notebook/bakctest_1d.ipynb Cell 5\u001b[0m line \u001b[0;36m5\n\u001b[1;32m      <a href='vscode-notebook-cell://ssh-remote%2Bray/home/ray/workspace/alphagen/notebook/bakctest_1d.ipynb#W4sdnNjb2RlLXJlbW90ZQ%3D%3D?line=2'>3</a>\u001b[0m alphas \u001b[39m=\u001b[39m []\n\u001b[1;32m      <a href='vscode-notebook-cell://ssh-remote%2Bray/home/ray/workspace/alphagen/notebook/bakctest_1d.ipynb#W4sdnNjb2RlLXJlbW90ZQ%3D%3D?line=3'>4</a>\u001b[0m \u001b[39mwith\u001b[39;00m ProcessPoolExecutor(\u001b[39m80\u001b[39m) \u001b[39mas\u001b[39;00m executor:\n\u001b[0;32m----> <a href='vscode-notebook-cell://ssh-remote%2Bray/home/ray/workspace/alphagen/notebook/bakctest_1d.ipynb#W4sdnNjb2RlLXJlbW90ZQ%3D%3D?line=4'>5</a>\u001b[0m     \u001b[39mfor\u001b[39;00m value \u001b[39min\u001b[39;00m \u001b[39mzip\u001b[39m(\n\u001b[1;32m      <a href='vscode-notebook-cell://ssh-remote%2Bray/home/ray/workspace/alphagen/notebook/bakctest_1d.ipynb#W4sdnNjb2RlLXJlbW90ZQ%3D%3D?line=5'>6</a>\u001b[0m         executor\u001b[39m.\u001b[39mmap(\n\u001b[1;32m      <a href='vscode-notebook-cell://ssh-remote%2Bray/home/ray/workspace/alphagen/notebook/bakctest_1d.ipynb#W4sdnNjb2RlLXJlbW90ZQ%3D%3D?line=6'>7</a>\u001b[0m             json_to_factor,\n\u001b[1;32m      <a href='vscode-notebook-cell://ssh-remote%2Bray/home/ray/workspace/alphagen/notebook/bakctest_1d.ipynb#W4sdnNjb2RlLXJlbW90ZQ%3D%3D?line=7'>8</a>\u001b[0m             json_paths,\n\u001b[1;32m      <a href='vscode-notebook-cell://ssh-remote%2Bray/home/ray/workspace/alphagen/notebook/bakctest_1d.ipynb#W4sdnNjb2RlLXJlbW90ZQ%3D%3D?line=8'>9</a>\u001b[0m         ),\n\u001b[1;32m     <a href='vscode-notebook-cell://ssh-remote%2Bray/home/ray/workspace/alphagen/notebook/bakctest_1d.ipynb#W4sdnNjb2RlLXJlbW90ZQ%3D%3D?line=9'>10</a>\u001b[0m     ):\n\u001b[1;32m     <a href='vscode-notebook-cell://ssh-remote%2Bray/home/ray/workspace/alphagen/notebook/bakctest_1d.ipynb#W4sdnNjb2RlLXJlbW90ZQ%3D%3D?line=10'>11</a>\u001b[0m         alphas\u001b[39m.\u001b[39mappend(value)\n",
      "File \u001b[0;32m~/anaconda3/envs/ag/lib/python3.11/concurrent/futures/process.py:602\u001b[0m, in \u001b[0;36m_chain_from_iterable_of_lists\u001b[0;34m(iterable)\u001b[0m\n\u001b[1;32m    596\u001b[0m \u001b[39mdef\u001b[39;00m \u001b[39m_chain_from_iterable_of_lists\u001b[39m(iterable):\n\u001b[1;32m    597\u001b[0m \u001b[39m    \u001b[39m\u001b[39m\"\"\"\u001b[39;00m\n\u001b[1;32m    598\u001b[0m \u001b[39m    Specialized implementation of itertools.chain.from_iterable.\u001b[39;00m\n\u001b[1;32m    599\u001b[0m \u001b[39m    Each item in *iterable* should be a list.  This function is\u001b[39;00m\n\u001b[1;32m    600\u001b[0m \u001b[39m    careful not to keep references to yielded objects.\u001b[39;00m\n\u001b[1;32m    601\u001b[0m \u001b[39m    \"\"\"\u001b[39;00m\n\u001b[0;32m--> 602\u001b[0m     \u001b[39mfor\u001b[39;00m element \u001b[39min\u001b[39;00m iterable:\n\u001b[1;32m    603\u001b[0m         element\u001b[39m.\u001b[39mreverse()\n\u001b[1;32m    604\u001b[0m         \u001b[39mwhile\u001b[39;00m element:\n",
      "File \u001b[0;32m~/anaconda3/envs/ag/lib/python3.11/concurrent/futures/_base.py:619\u001b[0m, in \u001b[0;36mExecutor.map.<locals>.result_iterator\u001b[0;34m()\u001b[0m\n\u001b[1;32m    616\u001b[0m \u001b[39mwhile\u001b[39;00m fs:\n\u001b[1;32m    617\u001b[0m     \u001b[39m# Careful not to keep a reference to the popped future\u001b[39;00m\n\u001b[1;32m    618\u001b[0m     \u001b[39mif\u001b[39;00m timeout \u001b[39mis\u001b[39;00m \u001b[39mNone\u001b[39;00m:\n\u001b[0;32m--> 619\u001b[0m         \u001b[39myield\u001b[39;00m _result_or_cancel(fs\u001b[39m.\u001b[39;49mpop())\n\u001b[1;32m    620\u001b[0m     \u001b[39melse\u001b[39;00m:\n\u001b[1;32m    621\u001b[0m         \u001b[39myield\u001b[39;00m _result_or_cancel(fs\u001b[39m.\u001b[39mpop(), end_time \u001b[39m-\u001b[39m time\u001b[39m.\u001b[39mmonotonic())\n",
      "File \u001b[0;32m~/anaconda3/envs/ag/lib/python3.11/concurrent/futures/_base.py:317\u001b[0m, in \u001b[0;36m_result_or_cancel\u001b[0;34m(***failed resolving arguments***)\u001b[0m\n\u001b[1;32m    315\u001b[0m \u001b[39mtry\u001b[39;00m:\n\u001b[1;32m    316\u001b[0m     \u001b[39mtry\u001b[39;00m:\n\u001b[0;32m--> 317\u001b[0m         \u001b[39mreturn\u001b[39;00m fut\u001b[39m.\u001b[39;49mresult(timeout)\n\u001b[1;32m    318\u001b[0m     \u001b[39mfinally\u001b[39;00m:\n\u001b[1;32m    319\u001b[0m         fut\u001b[39m.\u001b[39mcancel()\n",
      "File \u001b[0;32m~/anaconda3/envs/ag/lib/python3.11/concurrent/futures/_base.py:449\u001b[0m, in \u001b[0;36mFuture.result\u001b[0;34m(self, timeout)\u001b[0m\n\u001b[1;32m    447\u001b[0m     \u001b[39mraise\u001b[39;00m CancelledError()\n\u001b[1;32m    448\u001b[0m \u001b[39melif\u001b[39;00m \u001b[39mself\u001b[39m\u001b[39m.\u001b[39m_state \u001b[39m==\u001b[39m FINISHED:\n\u001b[0;32m--> 449\u001b[0m     \u001b[39mreturn\u001b[39;00m \u001b[39mself\u001b[39;49m\u001b[39m.\u001b[39;49m__get_result()\n\u001b[1;32m    451\u001b[0m \u001b[39mself\u001b[39m\u001b[39m.\u001b[39m_condition\u001b[39m.\u001b[39mwait(timeout)\n\u001b[1;32m    453\u001b[0m \u001b[39mif\u001b[39;00m \u001b[39mself\u001b[39m\u001b[39m.\u001b[39m_state \u001b[39min\u001b[39;00m [CANCELLED, CANCELLED_AND_NOTIFIED]:\n",
      "File \u001b[0;32m~/anaconda3/envs/ag/lib/python3.11/concurrent/futures/_base.py:401\u001b[0m, in \u001b[0;36mFuture.__get_result\u001b[0;34m(self)\u001b[0m\n\u001b[1;32m    399\u001b[0m \u001b[39mif\u001b[39;00m \u001b[39mself\u001b[39m\u001b[39m.\u001b[39m_exception:\n\u001b[1;32m    400\u001b[0m     \u001b[39mtry\u001b[39;00m:\n\u001b[0;32m--> 401\u001b[0m         \u001b[39mraise\u001b[39;00m \u001b[39mself\u001b[39m\u001b[39m.\u001b[39m_exception\n\u001b[1;32m    402\u001b[0m     \u001b[39mfinally\u001b[39;00m:\n\u001b[1;32m    403\u001b[0m         \u001b[39m# Break a reference cycle with the exception in self._exception\u001b[39;00m\n\u001b[1;32m    404\u001b[0m         \u001b[39mself\u001b[39m \u001b[39m=\u001b[39m \u001b[39mNone\u001b[39;00m\n",
      "\u001b[0;31mRuntimeError\u001b[0m: [enforce fail at alloc_cpu.cpp:75] err == 0. DefaultCPUAllocator: can't allocate memory: you tried to allocate 48248784000 bytes. Error code 12 (Cannot allocate memory)"
     ]
    }
   ],
   "source": [
    "# from concurrent.futures import ProcessPoolExecutor\n",
    "\n",
    "# alphas = []\n",
    "# with ProcessPoolExecutor(80) as executor:\n",
    "#     for value in zip(\n",
    "#         executor.map(\n",
    "#             json_to_factor,\n",
    "#             json_paths,\n",
    "#         ),\n",
    "#     ):\n",
    "#         alphas.append(value)"
   ]
  },
  {
   "cell_type": "code",
   "execution_count": null,
   "metadata": {},
   "outputs": [],
   "source": [
    "sig_ret1d = th.stack([i[0] for i in alphas], dim=-1)\n"
   ]
  },
  {
   "cell_type": "code",
   "execution_count": null,
   "metadata": {},
   "outputs": [],
   "source": [
    "sig_ret1d = th.concatenate(\n",
    "    [th.zeros(HORIZON_BACK, 6000, len(alphas)), sig_ret1d], dim=0\n",
    ")\n"
   ]
  },
  {
   "cell_type": "code",
   "execution_count": null,
   "metadata": {},
   "outputs": [],
   "source": [
    "import importlib\n",
    "import alphagen_ocean\n",
    "importlib.reload(alphagen_ocean.calculator)\n",
    "\n",
    "from alphagen_ocean.calculator import QLibStockDataCalculator\n"
   ]
  },
  {
   "cell_type": "code",
   "execution_count": null,
   "metadata": {},
   "outputs": [],
   "source": [
    "cal = QLibStockDataCalculator(data)\n"
   ]
  },
  {
   "cell_type": "code",
   "execution_count": null,
   "metadata": {},
   "outputs": [],
   "source": [
    "ret1d = cal.raw_ret1d\n",
    "ret2d = cal.raw_ret2d\n",
    "ret5d = cal.raw_ret5d\n"
   ]
  },
  {
   "cell_type": "code",
   "execution_count": null,
   "metadata": {},
   "outputs": [
    {
     "data": {
      "text/plain": [
       "11358"
      ]
     },
     "execution_count": 21,
     "metadata": {},
     "output_type": "execute_result"
    },
    {
     "name": "stderr",
     "output_type": "stream",
     "text": [
      "Exception ignored in atexit callback: <bound method InteractiveShell.atexit_operations of <ipykernel.zmqshell.ZMQInteractiveShell object at 0x7f857efcba90>>\n",
      "Traceback (most recent call last):\n",
      "  File \"/home/ray/anaconda3/envs/ag/lib/python3.11/site-packages/IPython/core/interactiveshell.py\", line 3875, in atexit_operations\n",
      "    self._atexit_once()\n",
      "  File \"/home/ray/anaconda3/envs/ag/lib/python3.11/site-packages/IPython/core/interactiveshell.py\", line 3854, in _atexit_once\n",
      "    self.reset(new_session=False)\n",
      "  File \"/home/ray/anaconda3/envs/ag/lib/python3.11/site-packages/IPython/core/interactiveshell.py\", line 1397, in reset\n",
      "    del ns[k]\n",
      "        ~~^^^\n",
      "  File \"/home/ray/anaconda3/envs/ag/lib/python3.11/site-packages/ray/_private/worker.py\", line 1723, in sigterm_handler\n",
      "    sys.exit(signum)\n",
      "SystemExit: 15\n"
     ]
    }
   ],
   "source": [
    "len(ret1d)"
   ]
  },
  {
   "cell_type": "code",
   "execution_count": null,
   "metadata": {},
   "outputs": [
    {
     "ename": "RuntimeError",
     "evalue": "The size of tensor a (11664) must match the size of tensor b (11358) at non-singleton dimension 0",
     "output_type": "error",
     "traceback": [
      "\u001b[0;31m---------------------------------------------------------------------------\u001b[0m",
      "\u001b[0;31mRuntimeError\u001b[0m                              Traceback (most recent call last)",
      "\u001b[1;32m/home/ray/workspace/alphagen/notebook/bakctest_1d.ipynb Cell 11\u001b[0m line \u001b[0;36m3\n\u001b[1;32m      <a href='vscode-notebook-cell://ssh-remote%2Bray/home/ray/workspace/alphagen/notebook/bakctest_1d.ipynb#X21sdnNjb2RlLXJlbW90ZQ%3D%3D?line=0'>1</a>\u001b[0m ic \u001b[39m=\u001b[39m []\n\u001b[1;32m      <a href='vscode-notebook-cell://ssh-remote%2Bray/home/ray/workspace/alphagen/notebook/bakctest_1d.ipynb#X21sdnNjb2RlLXJlbW90ZQ%3D%3D?line=1'>2</a>\u001b[0m \u001b[39mfor\u001b[39;00m i \u001b[39min\u001b[39;00m \u001b[39mrange\u001b[39m(sig_ret1d\u001b[39m.\u001b[39mshape[\u001b[39m-\u001b[39m\u001b[39m1\u001b[39m]):\n\u001b[0;32m----> <a href='vscode-notebook-cell://ssh-remote%2Bray/home/ray/workspace/alphagen/notebook/bakctest_1d.ipynb#X21sdnNjb2RlLXJlbW90ZQ%3D%3D?line=2'>3</a>\u001b[0m     ic\u001b[39m.\u001b[39mappend(batch_pearsonr(sig_ret1d[\u001b[39m.\u001b[39;49m\u001b[39m.\u001b[39;49m\u001b[39m.\u001b[39;49m, i], ret1d))\n",
      "File \u001b[0;32m~/workspace/alphagen/alphagen/utils/correlation.py:60\u001b[0m, in \u001b[0;36mbatch_pearsonr\u001b[0;34m(x, y)\u001b[0m\n\u001b[1;32m     59\u001b[0m \u001b[39mdef\u001b[39;00m \u001b[39mbatch_pearsonr\u001b[39m(x: Tensor, y: Tensor) \u001b[39m-\u001b[39m\u001b[39m>\u001b[39m Tensor:\n\u001b[0;32m---> 60\u001b[0m     \u001b[39mreturn\u001b[39;00m _batch_pearsonr_given_mask(\u001b[39m*\u001b[39m_mask_either_nan(x, y, fill_with\u001b[39m=\u001b[39;49m\u001b[39m0.0\u001b[39;49m))\n",
      "File \u001b[0;32m~/workspace/alphagen/alphagen/utils/correlation.py:11\u001b[0m, in \u001b[0;36m_mask_either_nan\u001b[0;34m(x, y, fill_with)\u001b[0m\n\u001b[1;32m      9\u001b[0m x \u001b[39m=\u001b[39m x\u001b[39m.\u001b[39mclone()  \u001b[39m# [days, stocks]\u001b[39;00m\n\u001b[1;32m     10\u001b[0m y \u001b[39m=\u001b[39m y\u001b[39m.\u001b[39mclone()  \u001b[39m# [days, stocks]\u001b[39;00m\n\u001b[0;32m---> 11\u001b[0m nan_mask \u001b[39m=\u001b[39m x\u001b[39m.\u001b[39;49misnan() \u001b[39m|\u001b[39;49m y\u001b[39m.\u001b[39;49misnan()\n\u001b[1;32m     12\u001b[0m x[nan_mask] \u001b[39m=\u001b[39m fill_with\n\u001b[1;32m     13\u001b[0m y[nan_mask] \u001b[39m=\u001b[39m fill_with\n",
      "\u001b[0;31mRuntimeError\u001b[0m: The size of tensor a (11664) must match the size of tensor b (11358) at non-singleton dimension 0"
     ]
    }
   ],
   "source": [
    "ic = []\n",
    "for i in range(sig_ret1d.shape[-1]):\n",
    "    ic.append(batch_pearsonr(sig_ret1d[..., i], ret1d))\n"
   ]
  },
  {
   "cell_type": "code",
   "execution_count": null,
   "metadata": {},
   "outputs": [],
   "source": [
    "mean_ic = [th.mean(i) for i in ic]\n"
   ]
  },
  {
   "cell_type": "code",
   "execution_count": null,
   "metadata": {},
   "outputs": [],
   "source": [
    "split_idx = 486 * 16\n"
   ]
  },
  {
   "cell_type": "code",
   "execution_count": null,
   "metadata": {},
   "outputs": [],
   "source": [
    "demo = ic[0]\n",
    "demo = np.array(demo)\n"
   ]
  },
  {
   "cell_type": "code",
   "execution_count": null,
   "metadata": {},
   "outputs": [
    {
     "data": {
      "text/plain": [
       "(11358,)"
      ]
     },
     "execution_count": 19,
     "metadata": {},
     "output_type": "execute_result"
    }
   ],
   "source": [
    "demo.shape"
   ]
  },
  {
   "cell_type": "code",
   "execution_count": null,
   "metadata": {},
   "outputs": [
    {
     "ename": "ValueError",
     "evalue": "cannot reshape array of size 11358 into shape (16)",
     "output_type": "error",
     "traceback": [
      "\u001b[0;31m---------------------------------------------------------------------------\u001b[0m",
      "\u001b[0;31mValueError\u001b[0m                                Traceback (most recent call last)",
      "\u001b[1;32m/home/ray/workspace/alphagen/notebook/bakctest_1d.ipynb Cell 16\u001b[0m line \u001b[0;36m4\n\u001b[1;32m      <a href='vscode-notebook-cell://ssh-remote%2Bray/home/ray/workspace/alphagen/notebook/bakctest_1d.ipynb#X24sdnNjb2RlLXJlbW90ZQ%3D%3D?line=1'>2</a>\u001b[0m \u001b[39mimport\u001b[39;00m \u001b[39mnumpy\u001b[39;00m \u001b[39mas\u001b[39;00m \u001b[39mnp\u001b[39;00m\n\u001b[1;32m      <a href='vscode-notebook-cell://ssh-remote%2Bray/home/ray/workspace/alphagen/notebook/bakctest_1d.ipynb#X24sdnNjb2RlLXJlbW90ZQ%3D%3D?line=2'>3</a>\u001b[0m \u001b[39mimport\u001b[39;00m \u001b[39mseaborn\u001b[39;00m \u001b[39mas\u001b[39;00m \u001b[39msns\u001b[39;00m\n\u001b[0;32m----> <a href='vscode-notebook-cell://ssh-remote%2Bray/home/ray/workspace/alphagen/notebook/bakctest_1d.ipynb#X24sdnNjb2RlLXJlbW90ZQ%3D%3D?line=3'>4</a>\u001b[0m reshaped_demo \u001b[39m=\u001b[39m demo\u001b[39m.\u001b[39;49mreshape(\u001b[39m-\u001b[39;49m\u001b[39m1\u001b[39;49m,\u001b[39m16\u001b[39;49m)\n\u001b[1;32m      <a href='vscode-notebook-cell://ssh-remote%2Bray/home/ray/workspace/alphagen/notebook/bakctest_1d.ipynb#X24sdnNjb2RlLXJlbW90ZQ%3D%3D?line=4'>5</a>\u001b[0m average_ic_16_points \u001b[39m=\u001b[39m np\u001b[39m.\u001b[39mmean(reshaped_demo, axis\u001b[39m=\u001b[39m\u001b[39m0\u001b[39m)\n\u001b[1;32m      <a href='vscode-notebook-cell://ssh-remote%2Bray/home/ray/workspace/alphagen/notebook/bakctest_1d.ipynb#X24sdnNjb2RlLXJlbW90ZQ%3D%3D?line=6'>7</a>\u001b[0m num_months \u001b[39m=\u001b[39m reshaped_demo\u001b[39m.\u001b[39mshape[\u001b[39m0\u001b[39m] \u001b[39m/\u001b[39m\u001b[39m/\u001b[39m \u001b[39m21\u001b[39m\n",
      "\u001b[0;31mValueError\u001b[0m: cannot reshape array of size 11358 into shape (16)"
     ]
    }
   ],
   "source": [
    "import matplotlib.pyplot as plt\n",
    "import numpy as np\n",
    "import seaborn as sns\n",
    "reshaped_demo = demo.reshape(-1,16)\n",
    "average_ic_16_points = np.mean(reshaped_demo, axis=0)\n",
    "\n",
    "num_months = reshaped_demo.shape[0] // 21\n",
    "\n",
    "monthly_ic = np.mean(reshaped_demo[:num_months * 21].reshape(num_months, 21, 16), axis=1).mean(axis=1)\n",
    "\n",
    "padded_monthly_ic = np.pad(monthly_ic, (0, 36 - len(monthly_ic)), 'constant')\n",
    "monthly_ic_reshaped = padded_monthly_ic.reshape(6, 6)\n",
    "plt.figure(figsize=(12, 6))\n",
    "\n",
    "plt.subplot(1, 2, 1)\n",
    "monthly_ic = np.mean(\n",
    "    reshaped_demo[: num_months * 21].reshape(num_months, 21, 16), axis=1\n",
    ").mean(axis=1)\n",
    "plt.xlabel('Time Points')\n",
    "padded_monthly_ic = np.pad(monthly_ic, (0, 36 - len(monthly_ic)), \"constant\")\n",
    "plt.title('Average IC at 16 Time Points')\n",
    "\n",
    "plt.subplot(1, 2, 2)\n",
    "sns.heatmap(monthly_ic_reshaped, annot=True, cmap=\"YlGnBu\", cbar_kws={'label': 'Monthly IC'})\n",
    "plt.xlabel('6-Month Period')\n",
    "plt.ylabel('Year')\n",
    "plt.xlabel(\"Time Points\")\n",
    "plt.ylabel(\"Average IC\")\n",
    "plt.title(\"Average IC at 16 Time Points\")\n",
    "plt.show()\n",
    "sns.heatmap(\n",
    "    monthly_ic_reshaped, annot=True, cmap=\"YlGnBu\", cbar_kws={\"label\": \"Monthly IC\"}\n",
    ")\n",
    "plt.xlabel(\"6-Month Period\")\n",
    "plt.ylabel(\"Year\")\n",
    "plt.title(\"Monthly IC for 3 Years (6x6 Grid)\")\n"
   ]
  },
  {
   "cell_type": "code",
   "execution_count": null,
   "metadata": {},
   "outputs": [],
   "source": []
  },
  {
   "cell_type": "code",
   "execution_count": null,
   "metadata": {},
   "outputs": [],
   "source": []
  },
  {
   "cell_type": "code",
   "execution_count": null,
   "metadata": {},
   "outputs": [],
   "source": []
  },
  {
   "cell_type": "code",
   "execution_count": null,
   "metadata": {},
   "outputs": [],
   "source": []
  }
 ],
 "metadata": {
  "kernelspec": {
   "display_name": "Python 3 (ipykernel)",
   "language": "python",
   "name": "python3"
  },
  "language_info": {
   "codemirror_mode": {
    "name": "ipython",
    "version": 3
   },
   "file_extension": ".py",
   "mimetype": "text/x-python",
   "name": "python",
   "nbconvert_exporter": "python",
   "pygments_lexer": "ipython3",
   "version": "3.11.3"
  },
  "orig_nbformat": 4
 },
 "nbformat": 4,
 "nbformat_minor": 2
}
