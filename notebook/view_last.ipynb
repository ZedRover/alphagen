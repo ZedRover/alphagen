{
 "cells": [
  {
   "cell_type": "code",
   "execution_count": null,
   "metadata": {},
   "outputs": [],
   "source": [
    "import sys\n",
    "sys.path.append(\"../\")\n",
    "from utils import *\n",
    "import numpy as np\n",
    "import modin.pandas as pd\n",
    "import SharedArray as sa"
   ]
  },
  {
   "cell_type": "code",
   "execution_count": null,
   "metadata": {},
   "outputs": [],
   "source": [
    "code = \"000537\"\n",
    "df = pd.read_csv(f\"../t0/stkCode_{code}.csv\",header=None)\n",
    "ret = sa.attach(f\"label_{code}\")\n",
    "ts = sa.attach(f\"timestamp_{code}\")"
   ]
  },
  {
   "cell_type": "code",
   "execution_count": null,
   "metadata": {},
   "outputs": [],
   "source": [
    "df.tail()"
   ]
  },
  {
   "cell_type": "code",
   "execution_count": null,
   "metadata": {},
   "outputs": [],
   "source": [
    "df = df.fillna(0)"
   ]
  },
  {
   "cell_type": "code",
   "execution_count": null,
   "metadata": {},
   "outputs": [],
   "source": [
    "df.index = ts"
   ]
  },
  {
   "cell_type": "code",
   "execution_count": null,
   "metadata": {},
   "outputs": [],
   "source": [
    "df = df.fillna(0)"
   ]
  },
  {
   "cell_type": "code",
   "execution_count": null,
   "metadata": {},
   "outputs": [],
   "source": [
    "df['ret'] = ret"
   ]
  },
  {
   "cell_type": "code",
   "execution_count": null,
   "metadata": {},
   "outputs": [],
   "source": [
    "from scipy.stats import spearmanr\n",
    "def calculate_ic(group):\n",
    "    ic_values = {}\n",
    "    ret = group['ret']\n",
    "    for column in group.columns:\n",
    "        if column != 'ret':\n",
    "            ic, _ = spearmanr(group[column], ret)\n",
    "            ic_values[column] = ic\n",
    "    return pd.Series(ic_values)\n"
   ]
  },
  {
   "cell_type": "code",
   "execution_count": null,
   "metadata": {},
   "outputs": [],
   "source": [
    "df.index = map(lambda x: str(int(x)),df.index)\n",
    "df_train = df[df.index<\"20211231\"]\n",
    "df_test = df[df.index>=\"20220101\"]\n",
    "# Calculate the average IC for each factor across all dates\n",
    "daily_ic_train = df_train.groupby(df_train.index).apply(calculate_ic)\n",
    "daily_ic_test = df_test.groupby(df_test.index).apply(calculate_ic)\n",
    "# average_ic = daily_ic.mean()\n",
    "# print(average_ic)"
   ]
  },
  {
   "cell_type": "code",
   "execution_count": null,
   "metadata": {},
   "outputs": [],
   "source": [
    "data = sa.attach(\"factor_000537\")\n",
    "df = pd.DataFrame(data)"
   ]
  },
  {
   "cell_type": "code",
   "execution_count": null,
   "metadata": {},
   "outputs": [],
   "source": []
  }
 ],
 "metadata": {
  "kernelspec": {
   "display_name": "base",
   "language": "python",
   "name": "python3"
  },
  "language_info": {
   "codemirror_mode": {
    "name": "ipython",
    "version": 3
   },
   "file_extension": ".py",
   "mimetype": "text/x-python",
   "name": "python",
   "nbconvert_exporter": "python",
   "pygments_lexer": "ipython3",
   "version": "3.11.9"
  }
 },
 "nbformat": 4,
 "nbformat_minor": 2
}
