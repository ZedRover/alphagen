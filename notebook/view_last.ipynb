{
 "cells": [
  {
   "cell_type": "code",
   "execution_count": 1,
   "metadata": {},
   "outputs": [
    {
     "name": "stdout",
     "output_type": "stream",
     "text": [
      "====================\n",
      "MAX_EXPR_LENGTH: 9\n",
      "MAX_EPISODE_LENGTH: 256\n",
      "CONSTANTS: [-500, -490, -480, -470, -460, -450, -440, -430, -420, -410, -400, -390, -380, -370, -360, -350, -340, -330, -320, -310, -300, -290, -280, -270, -260, -250, -240, -230, -220, -210, -200, -190, -180, -170, -160, -150, -140, -130, -120, -110, -100, -90, -80, -70, -60, -50, -40, -30, -20, -10, 0, 10, 20, 30, 40, 50, 60, 70, 80, 90, 100, 110, 120, 130, 140, 150, 160, 170, 180, 190, 200, 210, 220, 230, 240, 250, 260, 270, 280, 290, 300, 310, 320, 330, 340, 350, 360, 370, 380, 390, 400, 410, 420, 430, 440, 450, 460, 470, 480, 490]\n",
      "DELTA_TIMES: [1, 11, 21, 31, 41, 51, 61, 71, 81, 91, 101, 111, 121, 131, 141, 151, 161, 171, 181, 191, 201, 211, 221, 231, 241, 251, 261, 271, 281, 291, 301, 311, 321, 331, 341, 351, 361, 371, 381, 391, 401, 411, 421, 431, 441, 451, 461, 471, 481, 491]\n",
      "HORIZON_BACK: 4000\n",
      "====================\n"
     ]
    }
   ],
   "source": [
    "import sys\n",
    "sys.path.append(\"../\")\n",
    "from utils import *\n",
    "import numpy as np\n",
    "import pandas as pd\n",
    "import SharedArray as sa"
   ]
  },
  {
   "cell_type": "code",
   "execution_count": 2,
   "metadata": {},
   "outputs": [],
   "source": [
    "code = \"000537\"\n",
    "df = pd.read_csv(f\"../last_signal/stkCode_{code}.csv\",header=None)\n",
    "ret = sa.attach(f\"label_{code}\")"
   ]
  },
  {
   "cell_type": "code",
   "execution_count": 10,
   "metadata": {},
   "outputs": [
    {
     "name": "stdout",
     "output_type": "stream",
     "text": [
      "-0.003018897434312429\n",
      "-0.004433139896295524\n",
      "0.005089706741953314\n",
      "-0.004406159769359534\n",
      "-0.004537430627847972\n",
      "0.0017271915020439902\n",
      "-0.00024968090770443685\n",
      "-0.01065392748920004\n",
      "-0.005279162845321723\n",
      "-0.004533054076550209\n",
      "-0.00641844324602189\n",
      "-0.00475895968077417\n",
      "-0.004597887977312285\n",
      "-0.0038396681156043955\n",
      "-0.004102504352080956\n",
      "0.003116694612337531\n",
      "-0.004773212997905865\n",
      "-0.004020470300804022\n",
      "-0.004625298225242946\n",
      "0.0001380234409033977\n",
      "0.003385537839407784\n",
      "-0.0035764175701171377\n",
      "-0.00025857020831849924\n"
     ]
    }
   ],
   "source": [
    "n = len(df)\n",
    "df = df.fillna(0)\n",
    "y = ret.flatten()[n//2:]\n",
    "from scipy.stats import pearsonr\n",
    "for col in range(df.shape[1]):\n",
    "    x = df[col].values.flatten()[:n//2]\n",
    "    print(pearsonr(x,y)[0])"
   ]
  },
  {
   "cell_type": "code",
   "execution_count": null,
   "metadata": {},
   "outputs": [],
   "source": []
  }
 ],
 "metadata": {
  "kernelspec": {
   "display_name": "base",
   "language": "python",
   "name": "python3"
  },
  "language_info": {
   "codemirror_mode": {
    "name": "ipython",
    "version": 3
   },
   "file_extension": ".py",
   "mimetype": "text/x-python",
   "name": "python",
   "nbconvert_exporter": "python",
   "pygments_lexer": "ipython3",
   "version": "3.12.2"
  }
 },
 "nbformat": 4,
 "nbformat_minor": 2
}
