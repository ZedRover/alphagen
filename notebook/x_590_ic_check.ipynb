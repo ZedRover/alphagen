{
 "cells": [
  {
   "cell_type": "code",
   "execution_count": 1,
   "metadata": {},
   "outputs": [
    {
     "name": "stdout",
     "output_type": "stream",
     "text": [
      "MAX_EXPR_LENGTH: 10\n",
      "MAX_EPISODE_LENGTH: 256\n",
      "CONSTANTS: [-5.0, -2.0, -1.0, -0.5, -0.01, 0.01, 0.5, 1.0, 2.0, 5.0]\n",
      "DELTA_TIMES: [5, 8, 16, 20, 32, 40, 60, 70, 80, 90, 99, 128]\n",
      "HORIZON_BACK: 200\n"
     ]
    }
   ],
   "source": [
    "import sys\n",
    "sys.path.append(\"../\")\n",
    "from utils import SELECTED_CODES\n",
    "import numpy as np\n",
    "import pandas as pd\n",
    "import  cupy as cp\n",
    "import numba as nb\n",
    "import SharedArray as sa\n",
    "from tqdm import tqdm \n",
    "from  numba import jit,prange\n",
    "from mlutils.qrutils import corr"
   ]
  },
  {
   "cell_type": "code",
   "execution_count": 2,
   "metadata": {},
   "outputs": [],
   "source": [
    "def  get_data(code):\n",
    "    x = sa.attach(f\"X_590_{code}\")\n",
    "    y = sa.attach(f\"label_{code}\")\n",
    "    ts  = sa.attach(f\"timestamp_{code}\")\n",
    "    return  x,y,ts\n",
    "with  open(\"/mnt/disk2/X_590/column_names.txt\",\"r\") as f:\n",
    "    column_names = f.read().split(\"\\n\")"
   ]
  },
  {
   "cell_type": "code",
   "execution_count": 3,
   "metadata": {},
   "outputs": [
    {
     "name": "stderr",
     "output_type": "stream",
     "text": [
      "  0%|          | 0/100 [00:00<?, ?it/s]"
     ]
    },
    {
     "name": "stdout",
     "output_type": "stream",
     "text": [
      "002058 done\n",
      "300564 done\n",
      "300870 done\n",
      "300640 done\n",
      "300867 done\n",
      "300252 done\n",
      "002577 done\n",
      "300688 done\n",
      "002308 done\n",
      "300053 done\n",
      "300908 done\n",
      "300605 done\n",
      "000925 done\n",
      "002166 done\n",
      "002901 done\n",
      "300366 done\n",
      "300713 done\n",
      "000950 done\n",
      "300141 done\n",
      "002399 done\n",
      "002498 done\n",
      "300215 done\n",
      "300137 done\n",
      "002594 done\n",
      "000537 done\n"
     ]
    },
    {
     "name": "stderr",
     "output_type": "stream",
     "text": [
      "  1%|          | 1/100 [03:06<5:06:54, 186.01s/it]"
     ]
    },
    {
     "name": "stdout",
     "output_type": "stream",
     "text": [
      "300498 done\n",
      "002557 done\n",
      "002946 done\n",
      "300225 done\n",
      "002941 done\n",
      "000627 done\n"
     ]
    },
    {
     "name": "stderr",
     "output_type": "stream",
     "text": [
      "  2%|▏         | 2/100 [03:20<2:18:48, 84.99s/it] "
     ]
    },
    {
     "name": "stdout",
     "output_type": "stream",
     "text": [
      "300241 done\n"
     ]
    },
    {
     "name": "stderr",
     "output_type": "stream",
     "text": [
      " 21%|██        | 21/100 [03:22<06:44,  5.12s/it] "
     ]
    },
    {
     "name": "stdout",
     "output_type": "stream",
     "text": [
      "300913 done\n"
     ]
    },
    {
     "name": "stderr",
     "output_type": "stream",
     "text": [
      " 33%|███▎      | 33/100 [03:39<03:48,  3.41s/it]"
     ]
    },
    {
     "name": "stdout",
     "output_type": "stream",
     "text": [
      "600232 done\n",
      "600647 done\n",
      "600302 done\n",
      "600006 done\n"
     ]
    },
    {
     "name": "stderr",
     "output_type": "stream",
     "text": [
      " 34%|███▍      | 34/100 [05:01<08:13,  7.48s/it]"
     ]
    },
    {
     "name": "stdout",
     "output_type": "stream",
     "text": [
      "600817 done\n",
      "600012 done\n"
     ]
    },
    {
     "name": "stderr",
     "output_type": "stream",
     "text": [
      " 35%|███▌      | 35/100 [05:13<08:29,  7.84s/it]"
     ]
    },
    {
     "name": "stdout",
     "output_type": "stream",
     "text": [
      "600123 done\n",
      "600107 done\n"
     ]
    },
    {
     "name": "stderr",
     "output_type": "stream",
     "text": [
      " 36%|███▌      | 36/100 [05:17<07:57,  7.46s/it]"
     ]
    },
    {
     "name": "stdout",
     "output_type": "stream",
     "text": [
      "600665 done\n",
      "600644 done\n",
      "600493 done\n",
      "600578 done\n",
      "601019 done\n",
      "600428 done\n",
      "600740 done\n",
      "600859 done\n",
      "600163 done\n",
      "600218 done\n",
      "600127 done\n",
      "600557 done\n"
     ]
    },
    {
     "name": "stderr",
     "output_type": "stream",
     "text": [
      " 38%|███▊      | 38/100 [06:15<12:17, 11.89s/it]"
     ]
    },
    {
     "name": "stdout",
     "output_type": "stream",
     "text": [
      "600267 done\n",
      "600797 done\n",
      "601330 done\n",
      "600834 done\n",
      "600704 done\n",
      "600395 done\n",
      "603006 done\n",
      "600984 done\n",
      "603037 done\n",
      "600176 done\n"
     ]
    },
    {
     "name": "stderr",
     "output_type": "stream",
     "text": [
      " 40%|████      | 40/100 [07:12<15:34, 15.57s/it]"
     ]
    },
    {
     "name": "stdout",
     "output_type": "stream",
     "text": [
      "600426 done\n"
     ]
    },
    {
     "name": "stderr",
     "output_type": "stream",
     "text": [
      " 46%|████▌     | 46/100 [07:13<07:13,  8.02s/it]"
     ]
    },
    {
     "name": "stdout",
     "output_type": "stream",
     "text": [
      "603017 done\n",
      "600862 done\n"
     ]
    },
    {
     "name": "stderr",
     "output_type": "stream",
     "text": [
      " 60%|██████    | 60/100 [07:21<02:16,  3.41s/it]"
     ]
    },
    {
     "name": "stdout",
     "output_type": "stream",
     "text": [
      "600893 done\n"
     ]
    },
    {
     "name": "stderr",
     "output_type": "stream",
     "text": [
      " 61%|██████    | 61/100 [07:30<02:24,  3.70s/it]"
     ]
    },
    {
     "name": "stdout",
     "output_type": "stream",
     "text": [
      "603269 done\n",
      "688309 done\n",
      "603388 done\n",
      "603192 done\n",
      "688215 done\n",
      "603368 done\n",
      "688057 done\n",
      "603559 done\n",
      "603212 done\n",
      "688165 done\n",
      "603856 done\n",
      "601881 done\n"
     ]
    },
    {
     "name": "stderr",
     "output_type": "stream",
     "text": [
      " 65%|██████▌   | 65/100 [08:43<04:20,  7.43s/it]"
     ]
    },
    {
     "name": "stdout",
     "output_type": "stream",
     "text": [
      "603878 done\n",
      "603390 done\n",
      "603018 done\n"
     ]
    },
    {
     "name": "stderr",
     "output_type": "stream",
     "text": [
      " 68%|██████▊   | 68/100 [08:50<03:22,  6.34s/it]"
     ]
    },
    {
     "name": "stdout",
     "output_type": "stream",
     "text": [
      "603357 done\n"
     ]
    },
    {
     "name": "stderr",
     "output_type": "stream",
     "text": [
      " 73%|███████▎  | 73/100 [08:51<01:54,  4.25s/it]"
     ]
    },
    {
     "name": "stdout",
     "output_type": "stream",
     "text": [
      "688286 done\n",
      "688386 done\n",
      "605128 done\n",
      "603595 done\n"
     ]
    },
    {
     "name": "stderr",
     "output_type": "stream",
     "text": [
      " 78%|███████▊  | 78/100 [09:07<01:26,  3.92s/it]"
     ]
    },
    {
     "name": "stdout",
     "output_type": "stream",
     "text": [
      "603693 done\n"
     ]
    },
    {
     "name": "stderr",
     "output_type": "stream",
     "text": [
      " 79%|███████▉  | 79/100 [09:13<01:26,  4.10s/it]"
     ]
    },
    {
     "name": "stdout",
     "output_type": "stream",
     "text": [
      "603818 done\n",
      "688668 done\n",
      "605166 done\n",
      "603990 done\n",
      "603777 done\n",
      "603712 done\n"
     ]
    },
    {
     "name": "stderr",
     "output_type": "stream",
     "text": [
      " 80%|████████  | 80/100 [09:36<02:03,  6.16s/it]"
     ]
    },
    {
     "name": "stdout",
     "output_type": "stream",
     "text": [
      "688678 done\n",
      "688313 done\n",
      "603939 done\n"
     ]
    },
    {
     "name": "stderr",
     "output_type": "stream",
     "text": [
      " 85%|████████▌ | 85/100 [09:44<01:01,  4.11s/it]"
     ]
    },
    {
     "name": "stdout",
     "output_type": "stream",
     "text": [
      "688366 done\n"
     ]
    },
    {
     "name": "stderr",
     "output_type": "stream",
     "text": [
      " 95%|█████████▌| 95/100 [10:05<00:15,  3.02s/it]"
     ]
    },
    {
     "name": "stdout",
     "output_type": "stream",
     "text": [
      "689009 done\n",
      "688777 done\n"
     ]
    },
    {
     "name": "stderr",
     "output_type": "stream",
     "text": [
      "100%|██████████| 100/100 [10:08<00:00,  6.08s/it]\n"
     ]
    }
   ],
   "source": [
    "from concurrent.futures import ProcessPoolExecutor\n",
    "\n",
    "\n",
    "def calc(code):\n",
    "    x, y, z = get_data(code)\n",
    "    ic = corr(x, y)\n",
    "    print(f\"{code} done\")\n",
    "    return {code: ic}\n",
    "\n",
    "\n",
    "with ProcessPoolExecutor(max_workers=32) as executor:\n",
    "    res = list(tqdm(executor.map(calc, SELECTED_CODES), total=len(SELECTED_CODES)))"
   ]
  },
  {
   "cell_type": "code",
   "execution_count": 9,
   "metadata": {},
   "outputs": [],
   "source": [
    "data_dict = {}\n",
    "for item in res:\n",
    "    for key, value in item.items():\n",
    "        data_dict[key] = value"
   ]
  },
  {
   "cell_type": "code",
   "execution_count": 10,
   "metadata": {},
   "outputs": [],
   "source": [
    "df = pd.DataFrame.from_dict(data_dict, orient='index')"
   ]
  },
  {
   "cell_type": "code",
   "execution_count": 15,
   "metadata": {},
   "outputs": [],
   "source": [
    "df_met = df.describe().T"
   ]
  },
  {
   "cell_type": "code",
   "execution_count": 20,
   "metadata": {},
   "outputs": [
    {
     "data": {
      "text/html": [
       "<div>\n",
       "<style scoped>\n",
       "    .dataframe tbody tr th:only-of-type {\n",
       "        vertical-align: middle;\n",
       "    }\n",
       "\n",
       "    .dataframe tbody tr th {\n",
       "        vertical-align: top;\n",
       "    }\n",
       "\n",
       "    .dataframe thead th {\n",
       "        text-align: right;\n",
       "    }\n",
       "</style>\n",
       "<table border=\"1\" class=\"dataframe\">\n",
       "  <thead>\n",
       "    <tr style=\"text-align: right;\">\n",
       "      <th></th>\n",
       "      <th>count</th>\n",
       "      <th>mean</th>\n",
       "      <th>std</th>\n",
       "      <th>min</th>\n",
       "      <th>25%</th>\n",
       "      <th>50%</th>\n",
       "      <th>75%</th>\n",
       "      <th>max</th>\n",
       "    </tr>\n",
       "  </thead>\n",
       "  <tbody>\n",
       "    <tr>\n",
       "      <th>2</th>\n",
       "      <td>100.0</td>\n",
       "      <td>0.022020</td>\n",
       "      <td>0.014353</td>\n",
       "      <td>-0.001579</td>\n",
       "      <td>0.011045</td>\n",
       "      <td>0.020458</td>\n",
       "      <td>0.030481</td>\n",
       "      <td>0.064603</td>\n",
       "    </tr>\n",
       "    <tr>\n",
       "      <th>7</th>\n",
       "      <td>100.0</td>\n",
       "      <td>0.027941</td>\n",
       "      <td>0.017392</td>\n",
       "      <td>-0.009819</td>\n",
       "      <td>0.015350</td>\n",
       "      <td>0.023938</td>\n",
       "      <td>0.037201</td>\n",
       "      <td>0.075008</td>\n",
       "    </tr>\n",
       "    <tr>\n",
       "      <th>8</th>\n",
       "      <td>100.0</td>\n",
       "      <td>0.019513</td>\n",
       "      <td>0.012403</td>\n",
       "      <td>-0.007736</td>\n",
       "      <td>0.010588</td>\n",
       "      <td>0.020132</td>\n",
       "      <td>0.026718</td>\n",
       "      <td>0.051017</td>\n",
       "    </tr>\n",
       "    <tr>\n",
       "      <th>9</th>\n",
       "      <td>100.0</td>\n",
       "      <td>0.013023</td>\n",
       "      <td>0.008955</td>\n",
       "      <td>-0.006213</td>\n",
       "      <td>0.005703</td>\n",
       "      <td>0.013589</td>\n",
       "      <td>0.018127</td>\n",
       "      <td>0.036820</td>\n",
       "    </tr>\n",
       "    <tr>\n",
       "      <th>10</th>\n",
       "      <td>100.0</td>\n",
       "      <td>0.010930</td>\n",
       "      <td>0.007797</td>\n",
       "      <td>-0.006807</td>\n",
       "      <td>0.004900</td>\n",
       "      <td>0.011895</td>\n",
       "      <td>0.015301</td>\n",
       "      <td>0.029874</td>\n",
       "    </tr>\n",
       "    <tr>\n",
       "      <th>...</th>\n",
       "      <td>...</td>\n",
       "      <td>...</td>\n",
       "      <td>...</td>\n",
       "      <td>...</td>\n",
       "      <td>...</td>\n",
       "      <td>...</td>\n",
       "      <td>...</td>\n",
       "      <td>...</td>\n",
       "    </tr>\n",
       "    <tr>\n",
       "      <th>570</th>\n",
       "      <td>100.0</td>\n",
       "      <td>0.021939</td>\n",
       "      <td>0.019423</td>\n",
       "      <td>-0.026095</td>\n",
       "      <td>0.007635</td>\n",
       "      <td>0.020943</td>\n",
       "      <td>0.030581</td>\n",
       "      <td>0.074847</td>\n",
       "    </tr>\n",
       "    <tr>\n",
       "      <th>574</th>\n",
       "      <td>100.0</td>\n",
       "      <td>0.016274</td>\n",
       "      <td>0.019845</td>\n",
       "      <td>-0.032632</td>\n",
       "      <td>0.003077</td>\n",
       "      <td>0.013958</td>\n",
       "      <td>0.028035</td>\n",
       "      <td>0.076361</td>\n",
       "    </tr>\n",
       "    <tr>\n",
       "      <th>582</th>\n",
       "      <td>100.0</td>\n",
       "      <td>0.010806</td>\n",
       "      <td>0.008201</td>\n",
       "      <td>-0.006139</td>\n",
       "      <td>0.003954</td>\n",
       "      <td>0.011270</td>\n",
       "      <td>0.015918</td>\n",
       "      <td>0.032437</td>\n",
       "    </tr>\n",
       "    <tr>\n",
       "      <th>590</th>\n",
       "      <td>100.0</td>\n",
       "      <td>0.023728</td>\n",
       "      <td>0.013952</td>\n",
       "      <td>-0.005770</td>\n",
       "      <td>0.015004</td>\n",
       "      <td>0.021769</td>\n",
       "      <td>0.031498</td>\n",
       "      <td>0.064519</td>\n",
       "    </tr>\n",
       "    <tr>\n",
       "      <th>591</th>\n",
       "      <td>99.0</td>\n",
       "      <td>0.017981</td>\n",
       "      <td>0.009945</td>\n",
       "      <td>-0.003167</td>\n",
       "      <td>0.011481</td>\n",
       "      <td>0.017122</td>\n",
       "      <td>0.024510</td>\n",
       "      <td>0.043477</td>\n",
       "    </tr>\n",
       "  </tbody>\n",
       "</table>\n",
       "<p>81 rows × 8 columns</p>\n",
       "</div>"
      ],
      "text/plain": [
       "     count      mean       std       min       25%       50%       75%  \\\n",
       "2    100.0  0.022020  0.014353 -0.001579  0.011045  0.020458  0.030481   \n",
       "7    100.0  0.027941  0.017392 -0.009819  0.015350  0.023938  0.037201   \n",
       "8    100.0  0.019513  0.012403 -0.007736  0.010588  0.020132  0.026718   \n",
       "9    100.0  0.013023  0.008955 -0.006213  0.005703  0.013589  0.018127   \n",
       "10   100.0  0.010930  0.007797 -0.006807  0.004900  0.011895  0.015301   \n",
       "..     ...       ...       ...       ...       ...       ...       ...   \n",
       "570  100.0  0.021939  0.019423 -0.026095  0.007635  0.020943  0.030581   \n",
       "574  100.0  0.016274  0.019845 -0.032632  0.003077  0.013958  0.028035   \n",
       "582  100.0  0.010806  0.008201 -0.006139  0.003954  0.011270  0.015918   \n",
       "590  100.0  0.023728  0.013952 -0.005770  0.015004  0.021769  0.031498   \n",
       "591   99.0  0.017981  0.009945 -0.003167  0.011481  0.017122  0.024510   \n",
       "\n",
       "          max  \n",
       "2    0.064603  \n",
       "7    0.075008  \n",
       "8    0.051017  \n",
       "9    0.036820  \n",
       "10   0.029874  \n",
       "..        ...  \n",
       "570  0.074847  \n",
       "574  0.076361  \n",
       "582  0.032437  \n",
       "590  0.064519  \n",
       "591  0.043477  \n",
       "\n",
       "[81 rows x 8 columns]"
      ]
     },
     "execution_count": 20,
     "metadata": {},
     "output_type": "execute_result"
    }
   ],
   "source": [
    "df_met[df_met['mean']>0.01]"
   ]
  },
  {
   "cell_type": "code",
   "execution_count": null,
   "metadata": {},
   "outputs": [],
   "source": []
  },
  {
   "cell_type": "code",
   "execution_count": null,
   "metadata": {},
   "outputs": [],
   "source": [
    "# # 假设我们已经有 SELECTED_CODES 和 column_names\n",
    "# num_factors = len(column_names)  # 假定 column_names 已经加载\n",
    "\n",
    "# ic_results = {}\n",
    "# for code in tqdm(SELECTED_CODES):\n",
    "#     x, y, ts = get_data(code)\n",
    "#     daily_ic_avg = calculate_daily_ic_numba(x, y, ts, num_factors)\n",
    "#     ic_results[code] = daily_ic_avg\n",
    "\n",
    "# # 将结果转换为 Pandas DataFrame 并保存\n",
    "# import pandas as pd\n",
    "\n",
    "# results_df = pd.DataFrame.from_dict(ic_results, orient='index', columns=column_names)\n"
   ]
  },
  {
   "cell_type": "code",
   "execution_count": null,
   "metadata": {},
   "outputs": [],
   "source": []
  }
 ],
 "metadata": {
  "kernelspec": {
   "display_name": "py311",
   "language": "python",
   "name": "python3"
  },
  "language_info": {
   "codemirror_mode": {
    "name": "ipython",
    "version": 3
   },
   "file_extension": ".py",
   "mimetype": "text/x-python",
   "name": "python",
   "nbconvert_exporter": "python",
   "pygments_lexer": "ipython3",
   "version": "3.11.9"
  }
 },
 "nbformat": 4,
 "nbformat_minor": 2
}
