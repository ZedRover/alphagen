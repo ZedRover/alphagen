{
 "cells": [
  {
   "cell_type": "code",
   "execution_count": 4,
   "metadata": {},
   "outputs": [
    {
     "name": "stdout",
     "output_type": "stream",
     "text": [
      "[Taichi] Starting on arch=cuda\n"
     ]
    },
    {
     "ename": "TypeError",
     "evalue": "write_float(): incompatible function arguments. The following argument types are supported:\n    1. (self: taichi._lib.core.taichi_python.SNode, arg0: List[int], arg1: float) -> None\n\nInvoked with: <taichi._lib.core.taichi_python.SNode object at 0x7f9358bbb6f0>, (slice(None, 2, None), slice(None, 3, None), 0, 0, 0, 0, 0, 0, 0, 0, 0, 0), array([[1., 2., 3.],\n       [4., 5., 6.]], dtype=float32)",
     "output_type": "error",
     "traceback": [
      "\u001b[0;31m---------------------------------------------------------------------------\u001b[0m",
      "\u001b[0;31mTypeError\u001b[0m                                 Traceback (most recent call last)",
      "Cell \u001b[0;32mIn[4], line 52\u001b[0m\n\u001b[1;32m     50\u001b[0m \u001b[39m# 测试\u001b[39;00m\n\u001b[1;32m     51\u001b[0m x \u001b[39m=\u001b[39m torch\u001b[39m.\u001b[39mtensor([[\u001b[39m1.0\u001b[39m, \u001b[39m2.0\u001b[39m, \u001b[39m3.0\u001b[39m], [\u001b[39m4.0\u001b[39m, \u001b[39m5.0\u001b[39m, \u001b[39m6.0\u001b[39m]])\n\u001b[0;32m---> 52\u001b[0m mean, std \u001b[39m=\u001b[39m masked_mean_std_taichi(x)\n\u001b[1;32m     53\u001b[0m \u001b[39mprint\u001b[39m(mean, std)\n",
      "Cell \u001b[0;32mIn[4], line 38\u001b[0m, in \u001b[0;36mmasked_mean_std_taichi\u001b[0;34m(x, n, mask)\u001b[0m\n\u001b[1;32m     35\u001b[0m     n \u001b[39m=\u001b[39m (\u001b[39m~\u001b[39mmask)\u001b[39m.\u001b[39msum(dim\u001b[39m=\u001b[39m\u001b[39m1\u001b[39m)\n\u001b[1;32m     37\u001b[0m \u001b[39m# 将数据复制到taichi字段中\u001b[39;00m\n\u001b[0;32m---> 38\u001b[0m x_field[:num_days, :num_stocks] \u001b[39m=\u001b[39m x\u001b[39m.\u001b[39mnumpy()\n\u001b[1;32m     39\u001b[0m n_field[:num_days] \u001b[39m=\u001b[39m n\u001b[39m.\u001b[39mnumpy()\n\u001b[1;32m     40\u001b[0m mask_field[:num_days, :num_stocks] \u001b[39m=\u001b[39m mask\u001b[39m.\u001b[39mnumpy()\u001b[39m.\u001b[39mastype(\u001b[39mint\u001b[39m)\n",
      "File \u001b[0;32m~/anaconda3/envs/ag/lib/python3.11/site-packages/taichi/lang/util.py:321\u001b[0m, in \u001b[0;36mpython_scope.<locals>.wrapped\u001b[0;34m(*args, **kwargs)\u001b[0m\n\u001b[1;32m    318\u001b[0m \u001b[39m@functools\u001b[39m\u001b[39m.\u001b[39mwraps(func)\n\u001b[1;32m    319\u001b[0m \u001b[39mdef\u001b[39;00m \u001b[39mwrapped\u001b[39m(\u001b[39m*\u001b[39margs, \u001b[39m*\u001b[39m\u001b[39m*\u001b[39mkwargs):\n\u001b[1;32m    320\u001b[0m     \u001b[39massert\u001b[39;00m in_python_scope(), \u001b[39mf\u001b[39m\u001b[39m\"\u001b[39m\u001b[39m{\u001b[39;00mfunc\u001b[39m.\u001b[39m\u001b[39m__name__\u001b[39m\u001b[39m}\u001b[39;00m\u001b[39m cannot be called in Taichi-scope\u001b[39m\u001b[39m\"\u001b[39m\n\u001b[0;32m--> 321\u001b[0m     \u001b[39mreturn\u001b[39;00m func(\u001b[39m*\u001b[39;49margs, \u001b[39m*\u001b[39;49m\u001b[39m*\u001b[39;49mkwargs)\n",
      "File \u001b[0;32m~/anaconda3/envs/ag/lib/python3.11/site-packages/taichi/lang/field.py:362\u001b[0m, in \u001b[0;36mScalarField.__setitem__\u001b[0;34m(self, key, value)\u001b[0m\n\u001b[1;32m    359\u001b[0m \u001b[39m@python_scope\u001b[39m\n\u001b[1;32m    360\u001b[0m \u001b[39mdef\u001b[39;00m \u001b[39m__setitem__\u001b[39m(\u001b[39mself\u001b[39m, key, value):\n\u001b[1;32m    361\u001b[0m     \u001b[39mself\u001b[39m\u001b[39m.\u001b[39m_initialize_host_accessors()\n\u001b[0;32m--> 362\u001b[0m     \u001b[39mself\u001b[39;49m\u001b[39m.\u001b[39;49mhost_accessors[\u001b[39m0\u001b[39;49m]\u001b[39m.\u001b[39;49msetter(value, \u001b[39m*\u001b[39;49m\u001b[39mself\u001b[39;49m\u001b[39m.\u001b[39;49m_pad_key(key))\n",
      "File \u001b[0;32m~/anaconda3/envs/ag/lib/python3.11/site-packages/taichi/lang/field.py:409\u001b[0m, in \u001b[0;36mSNodeHostAccessor.__init__.<locals>.setter\u001b[0;34m(value, *key)\u001b[0m\n\u001b[1;32m    407\u001b[0m \u001b[39mdef\u001b[39;00m \u001b[39msetter\u001b[39m(value, \u001b[39m*\u001b[39mkey):\n\u001b[1;32m    408\u001b[0m     \u001b[39massert\u001b[39;00m \u001b[39mlen\u001b[39m(key) \u001b[39m==\u001b[39m _ti_core\u001b[39m.\u001b[39mget_max_num_indices()\n\u001b[0;32m--> 409\u001b[0m     write_func(key, value)\n\u001b[1;32m    410\u001b[0m     \u001b[39m# same as above\u001b[39;00m\n\u001b[1;32m    411\u001b[0m     \u001b[39mif\u001b[39;00m (\n\u001b[1;32m    412\u001b[0m         impl\u001b[39m.\u001b[39mget_runtime()\u001b[39m.\u001b[39mtarget_tape\n\u001b[1;32m    413\u001b[0m         \u001b[39mand\u001b[39;00m impl\u001b[39m.\u001b[39mget_runtime()\u001b[39m.\u001b[39mtarget_tape\u001b[39m.\u001b[39mgrad_checker\n\u001b[1;32m    414\u001b[0m         \u001b[39mand\u001b[39;00m \u001b[39mnot\u001b[39;00m impl\u001b[39m.\u001b[39mget_runtime()\u001b[39m.\u001b[39mgrad_replaced\n\u001b[1;32m    415\u001b[0m     ):\n",
      "\u001b[0;31mTypeError\u001b[0m: write_float(): incompatible function arguments. The following argument types are supported:\n    1. (self: taichi._lib.core.taichi_python.SNode, arg0: List[int], arg1: float) -> None\n\nInvoked with: <taichi._lib.core.taichi_python.SNode object at 0x7f9358bbb6f0>, (slice(None, 2, None), slice(None, 3, None), 0, 0, 0, 0, 0, 0, 0, 0, 0, 0), array([[1., 2., 3.],\n       [4., 5., 6.]], dtype=float32)"
     ]
    }
   ],
   "source": [
    "import taichi as ti\n",
    "import torch\n",
    "from typing import *\n",
    "\n",
    "ti.init(arch=ti.gpu)  # 使用GPU进行加速\n",
    "\n",
    "# 定义一个大的预定义大小\n",
    "MAX_DAYS = 1000\n",
    "MAX_STOCKS = 1000\n",
    "\n",
    "# 定义数据字段\n",
    "x_field = ti.field(dtype=ti.f32, shape=(MAX_DAYS, MAX_STOCKS))\n",
    "n_field = ti.field(dtype=ti.i32, shape=(MAX_DAYS,))\n",
    "mask_field = ti.field(dtype=ti.i32, shape=(MAX_DAYS, MAX_STOCKS))  # 使用整数代替布尔值\n",
    "mean_field = ti.field(dtype=ti.f32, shape=(MAX_DAYS,))\n",
    "std_field = ti.field(dtype=ti.f32, shape=(MAX_DAYS,))\n",
    "\n",
    "\n",
    "@ti.kernel\n",
    "def compute_mean_std(num_days: int, num_stocks: int):\n",
    "    for i in range(num_days):\n",
    "        sum_x = 0.0\n",
    "        sum_x2 = 0.0\n",
    "        for j in range(num_stocks):\n",
    "            if not mask_field[i, j]:\n",
    "                sum_x += x_field[i, j]\n",
    "                sum_x2 += x_field[i, j] ** 2\n",
    "        mean_val = sum_x / n_field[i]\n",
    "        mean_field[i] = mean_val\n",
    "        std_field[i] = ti.sqrt(sum_x2 / n_field[i] - mean_val**2)\n",
    "\n",
    "\n",
    "def masked_mean_std_taichi(\n",
    "    x: torch.Tensor,\n",
    "    n: Optional[torch.Tensor] = None,\n",
    "    mask: Optional[torch.Tensor] = None,\n",
    "):\n",
    "    num_days, num_stocks = x.shape\n",
    "    if mask is None:\n",
    "        mask = torch.isnan(x)\n",
    "    if n is None:\n",
    "        n = (~mask).sum(dim=1)\n",
    "\n",
    "    # 将数据复制到taichi字段中\n",
    "    x_field[:num_days, :num_stocks] = x.numpy()\n",
    "    n_field[:num_days] = n.numpy()\n",
    "    mask_field[:num_days, :num_stocks] = mask.numpy().astype(int)\n",
    "\n",
    "    compute_mean_std(num_days, num_stocks)\n",
    "\n",
    "    # 从taichi字段中获取结果\n",
    "    mean = mean_field[:num_days].to_numpy()\n",
    "    std = std_field[:num_days].to_numpy()\n",
    "\n",
    "    return torch.tensor(mean), torch.tensor(std)\n",
    "\n",
    "\n",
    "# 测试\n",
    "x = torch.tensor([[1.0, 2.0, 3.0], [4.0, 5.0, 6.0]])\n",
    "mean, std = masked_mean_std_taichi(x)\n",
    "print(mean, std)"
   ]
  },
  {
   "cell_type": "code",
   "execution_count": null,
   "metadata": {},
   "outputs": [],
   "source": []
  }
 ],
 "metadata": {
  "kernelspec": {
   "display_name": "ag",
   "language": "python",
   "name": "python3"
  },
  "language_info": {
   "codemirror_mode": {
    "name": "ipython",
    "version": 3
   },
   "file_extension": ".py",
   "mimetype": "text/x-python",
   "name": "python",
   "nbconvert_exporter": "python",
   "pygments_lexer": "ipython3",
   "version": "3.11.3"
  },
  "orig_nbformat": 4
 },
 "nbformat": 4,
 "nbformat_minor": 2
}
