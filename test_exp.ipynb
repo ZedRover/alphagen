{
 "cells": [
  {
   "cell_type": "code",
   "execution_count": 1,
   "metadata": {},
   "outputs": [],
   "source": [
    "from alphagen.data.expression_ocean import *\n",
    "from alphagen.data.expression import *\n",
    "import torch as th\n",
    "import numpy as np\n",
    "from alphagen_ocean.stock_data_ import StockData"
   ]
  },
  {
   "cell_type": "code",
   "execution_count": 2,
   "metadata": {},
   "outputs": [],
   "source": [
    "batch_x = th.randn(512, 6000)\n",
    "data_train = StockData(start_time=20190103, end_time=20201231, device=th.device(\"cpu\"))"
   ]
  },
  {
   "cell_type": "code",
   "execution_count": 4,
   "metadata": {},
   "outputs": [],
   "source": [
    "stack_x, stack_y = th.randn(512, 6000, 5), th.randn(512, 6000, 5)"
   ]
  },
  {
   "cell_type": "code",
   "execution_count": 6,
   "metadata": {},
   "outputs": [],
   "source": [
    "dim = -1\n",
    "xydot = (stack_x * stack_y).sum(dim=dim)\n",
    "xnorm = torch.linalg.norm(stack_x, 2, dim=dim)\n",
    "ynorm = torch.linalg.norm(stack_y, 2, dim=dim)"
   ]
  },
  {
   "cell_type": "code",
   "execution_count": 8,
   "metadata": {},
   "outputs": [
    {
     "data": {
      "text/plain": [
       "torch.Size([512, 6000])"
      ]
     },
     "execution_count": 8,
     "metadata": {},
     "output_type": "execute_result"
    }
   ],
   "source": [
    "(xydot / (xnorm * ynorm)).shape"
   ]
  },
  {
   "cell_type": "code",
   "execution_count": null,
   "metadata": {},
   "outputs": [],
   "source": []
  },
  {
   "cell_type": "code",
   "execution_count": null,
   "metadata": {},
   "outputs": [],
   "source": [
    "def shaping_check(opt, batch_x):\n",
    "    init_shape = batch_x.shape\n",
    "    if opt.n_args() == 1:\n",
    "        new_x = opt(batch_x)._apply(batch_x)\n",
    "    elif opt.n_args() == 2:\n",
    "        new_x = opt(batch_x, 5)._apply(batch_x, 5)\n",
    "    else:\n",
    "        print(\"3 args\")\n",
    "        return None\n",
    "    end_shape = new_x.shape\n",
    "    if end_shape != init_shape:\n",
    "        print(\"{} shape changed from {} to {}\".format(opt, init_shape, end_shape))\n",
    "    else:\n",
    "        pass\n",
    "\n",
    "\n",
    "shaping_check(CrsRank, batch_x)"
   ]
  },
  {
   "cell_type": "code",
   "execution_count": null,
   "metadata": {},
   "outputs": [],
   "source": [
    "def type_check(opt, batch_x):\n",
    "    init_type = batch_x.dtype\n",
    "    if opt.n_args() == 1:\n",
    "        new_x = opt(batch_x)._apply(batch_x)\n",
    "    elif opt.n_args() == 2:\n",
    "        new_x = opt(batch_x, 5)._apply(batch_x, 5)\n",
    "    end_type = new_x.dtype\n",
    "    if init_type != end_type:\n",
    "        print(\"{} type changed from {} to {}\".format(opt, init_type, end_type))\n",
    "\n",
    "\n",
    "type_check(CrsRank, batch_x)"
   ]
  },
  {
   "cell_type": "code",
   "execution_count": null,
   "metadata": {},
   "outputs": [],
   "source": [
    "for opt in OCOperators:\n",
    "    try:\n",
    "        shaping_check(opt, batch_x)\n",
    "    except Exception as e:\n",
    "        print(f\"Error of {opt}: {e}\")"
   ]
  },
  {
   "cell_type": "code",
   "execution_count": null,
   "metadata": {},
   "outputs": [
    {
     "data": {
      "text/plain": [
       "torch.Size([512])"
      ]
     },
     "execution_count": 6,
     "metadata": {},
     "output_type": "execute_result"
    }
   ],
   "source": [
    "Var(batch_x, 10)._apply(batch_x).shape"
   ]
  },
  {
   "cell_type": "code",
   "execution_count": null,
   "metadata": {},
   "outputs": [],
   "source": []
  },
  {
   "cell_type": "code",
   "execution_count": null,
   "metadata": {},
   "outputs": [],
   "source": []
  }
 ],
 "metadata": {
  "kernelspec": {
   "display_name": "qlib",
   "language": "python",
   "name": "python3"
  },
  "language_info": {
   "codemirror_mode": {
    "name": "ipython",
    "version": 3
   },
   "file_extension": ".py",
   "mimetype": "text/x-python",
   "name": "python",
   "nbconvert_exporter": "python",
   "pygments_lexer": "ipython3",
   "version": "3.8.0"
  },
  "orig_nbformat": 4
 },
 "nbformat": 4,
 "nbformat_minor": 2
}
