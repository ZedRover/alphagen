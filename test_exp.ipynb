{
 "cells": [
  {
   "cell_type": "code",
   "execution_count": 1,
   "metadata": {},
   "outputs": [],
   "source": [
    "from alphagen.data.expression_ocean import *\n",
    "from alphagen.data.expression import *\n",
    "import torch as th\n",
    "import numpy as np\n",
    "from alphagen_ocean.stock_data_ import StockData"
   ]
  },
  {
   "cell_type": "code",
   "execution_count": 2,
   "metadata": {},
   "outputs": [],
   "source": [
    "batch_x = th.randn(512, 6000)\n",
    "data_train = StockData(start_time=20190103, end_time=20201231, device=th.device(\"cpu\"))"
   ]
  },
  {
   "cell_type": "code",
   "execution_count": 3,
   "metadata": {},
   "outputs": [
    {
     "ename": "TypeError",
     "evalue": "full() received an invalid combination of arguments - got (device=torch.device, dtype=torch.dtype, fill_value=Tensor, size=tuple, ), but expected one of:\n * (tuple of ints size, Number fill_value, *, tuple of names names, torch.dtype dtype, torch.layout layout, torch.device device, bool pin_memory, bool requires_grad)\n * (tuple of ints size, Number fill_value, *, Tensor out, torch.dtype dtype, torch.layout layout, torch.device device, bool pin_memory, bool requires_grad)\n",
     "output_type": "error",
     "traceback": [
      "\u001b[0;31m---------------------------------------------------------------------------\u001b[0m",
      "\u001b[0;31mTypeError\u001b[0m                                 Traceback (most recent call last)",
      "\u001b[1;32m/home/ray/workspace/alphagen/test_exp.ipynb Cell 3\u001b[0m in \u001b[0;36m<cell line: 1>\u001b[0;34m()\u001b[0m\n\u001b[0;32m----> <a href='vscode-notebook-cell://ssh-remote%2Bray/home/ray/workspace/alphagen/test_exp.ipynb#X11sdnNjb2RlLXJlbW90ZQ%3D%3D?line=0'>1</a>\u001b[0m Abs(batch_x)\u001b[39m.\u001b[39;49mevaluate(data_train)\n",
      "File \u001b[0;32m~/workspace/alphagen/alphagen/data/expression.py:182\u001b[0m, in \u001b[0;36mUnaryOperator.evaluate\u001b[0;34m(self, data, period)\u001b[0m\n\u001b[1;32m    181\u001b[0m \u001b[39mdef\u001b[39;00m \u001b[39mevaluate\u001b[39m(\u001b[39mself\u001b[39m, data: StockData, period: \u001b[39mslice\u001b[39m \u001b[39m=\u001b[39m \u001b[39mslice\u001b[39m(\u001b[39m0\u001b[39m, \u001b[39m1\u001b[39m)) \u001b[39m-\u001b[39m\u001b[39m>\u001b[39m Tensor:\n\u001b[0;32m--> 182\u001b[0m     \u001b[39mreturn\u001b[39;00m \u001b[39mself\u001b[39m\u001b[39m.\u001b[39m_apply(\u001b[39mself\u001b[39;49m\u001b[39m.\u001b[39;49m_operand\u001b[39m.\u001b[39;49mevaluate(data, period))\n",
      "File \u001b[0;32m~/workspace/alphagen/alphagen/data/expression.py:120\u001b[0m, in \u001b[0;36mConstant.evaluate\u001b[0;34m(self, data, period)\u001b[0m\n\u001b[1;32m    118\u001b[0m dtype \u001b[39m=\u001b[39m data\u001b[39m.\u001b[39mdata\u001b[39m.\u001b[39mdtype\n\u001b[1;32m    119\u001b[0m days \u001b[39m=\u001b[39m period\u001b[39m.\u001b[39mstop \u001b[39m-\u001b[39m period\u001b[39m.\u001b[39mstart \u001b[39m-\u001b[39m \u001b[39m1\u001b[39m \u001b[39m+\u001b[39m data\u001b[39m.\u001b[39mn_days\n\u001b[0;32m--> 120\u001b[0m \u001b[39mreturn\u001b[39;00m torch\u001b[39m.\u001b[39;49mfull(\n\u001b[1;32m    121\u001b[0m     size\u001b[39m=\u001b[39;49m(days, data\u001b[39m.\u001b[39;49mn_stocks),\n\u001b[1;32m    122\u001b[0m     fill_value\u001b[39m=\u001b[39;49m\u001b[39mself\u001b[39;49m\u001b[39m.\u001b[39;49m_value,\n\u001b[1;32m    123\u001b[0m     dtype\u001b[39m=\u001b[39;49mdtype,\n\u001b[1;32m    124\u001b[0m     device\u001b[39m=\u001b[39;49mdevice,\n\u001b[1;32m    125\u001b[0m )\n",
      "\u001b[0;31mTypeError\u001b[0m: full() received an invalid combination of arguments - got (device=torch.device, dtype=torch.dtype, fill_value=Tensor, size=tuple, ), but expected one of:\n * (tuple of ints size, Number fill_value, *, tuple of names names, torch.dtype dtype, torch.layout layout, torch.device device, bool pin_memory, bool requires_grad)\n * (tuple of ints size, Number fill_value, *, Tensor out, torch.dtype dtype, torch.layout layout, torch.device device, bool pin_memory, bool requires_grad)\n"
     ]
    }
   ],
   "source": [
    "Abs(batch_x).evaluate(data_train)"
   ]
  },
  {
   "cell_type": "code",
   "execution_count": 3,
   "metadata": {},
   "outputs": [],
   "source": [
    "def shaping_check(opt, batch_x):\n",
    "    init_shape = batch_x.shape\n",
    "    if opt.n_args() == 1:\n",
    "        new_x = opt(batch_x)._apply(batch_x)\n",
    "    elif opt.n_args() == 2:\n",
    "        new_x = opt(batch_x, 5)._apply(batch_x, 5)\n",
    "    else:\n",
    "        print(\"3 args\")\n",
    "        return None\n",
    "    end_shape = new_x.shape\n",
    "    if end_shape != init_shape:\n",
    "        print(\"{} shape changed from {} to {}\".format(opt, init_shape, end_shape))\n",
    "    else:\n",
    "        pass\n",
    "\n",
    "\n",
    "shaping_check(CrsRank, batch_x)"
   ]
  },
  {
   "cell_type": "code",
   "execution_count": 4,
   "metadata": {},
   "outputs": [],
   "source": [
    "def type_check(opt, batch_x):\n",
    "    init_type = batch_x.dtype\n",
    "    if opt.n_args() == 1:\n",
    "        new_x = opt(batch_x)._apply(batch_x)\n",
    "    elif opt.n_args() == 2:\n",
    "        new_x = opt(batch_x, 5)._apply(batch_x, 5)\n",
    "    end_type = new_x.dtype\n",
    "    if init_type != end_type:\n",
    "        print(\"{} type changed from {} to {}\".format(opt, init_type, end_type))\n",
    "\n",
    "\n",
    "type_check(CrsRank, batch_x)"
   ]
  },
  {
   "cell_type": "code",
   "execution_count": 5,
   "metadata": {},
   "outputs": [],
   "source": [
    "for opt in OCOperators:\n",
    "    try:\n",
    "        shaping_check(opt, batch_x)\n",
    "    except Exception as e:\n",
    "        print(f\"Error of {opt}: {e}\")"
   ]
  },
  {
   "cell_type": "code",
   "execution_count": 6,
   "metadata": {},
   "outputs": [
    {
     "data": {
      "text/plain": [
       "torch.Size([512])"
      ]
     },
     "execution_count": 6,
     "metadata": {},
     "output_type": "execute_result"
    }
   ],
   "source": [
    "Var(batch_x, 10)._apply(batch_x).shape"
   ]
  },
  {
   "cell_type": "code",
   "execution_count": null,
   "metadata": {},
   "outputs": [],
   "source": []
  },
  {
   "cell_type": "code",
   "execution_count": null,
   "metadata": {},
   "outputs": [],
   "source": []
  }
 ],
 "metadata": {
  "kernelspec": {
   "display_name": "qlib",
   "language": "python",
   "name": "python3"
  },
  "language_info": {
   "codemirror_mode": {
    "name": "ipython",
    "version": 3
   },
   "file_extension": ".py",
   "mimetype": "text/x-python",
   "name": "python",
   "nbconvert_exporter": "python",
   "pygments_lexer": "ipython3",
   "version": "3.8.0"
  },
  "orig_nbformat": 4
 },
 "nbformat": 4,
 "nbformat_minor": 2
}
