{
 "cells": [
  {
   "cell_type": "code",
   "execution_count": 1,
   "metadata": {},
   "outputs": [],
   "source": [
    "import numpy as np\n",
    "import torch as th\n",
    "\n",
    "\n",
    "from glob import glob\n",
    "from utils import *\n",
    "import ray\n",
    "import pandas as pd\n",
    "import seaborn as sns\n",
    "import matplotlib.pyplot as plt"
   ]
  },
  {
   "cell_type": "code",
   "execution_count": 2,
   "metadata": {},
   "outputs": [
    {
     "name": "stderr",
     "output_type": "stream",
     "text": [
      "2023-08-25 10:58:50,373\tINFO worker.py:1612 -- Started a local Ray instance. View the dashboard at \u001b[1m\u001b[32mhttp://127.0.0.1:8266 \u001b[39m\u001b[22m\n"
     ]
    },
    {
     "data": {
      "application/vnd.jupyter.widget-view+json": {
       "model_id": "51d157ebe8a64261b832f420109d1999",
       "version_major": 2,
       "version_minor": 0
      },
      "text/html": [
       "<div class=\"lm-Widget p-Widget lm-Panel p-Panel jp-Cell-outputWrapper\">\n",
       "    <div style=\"margin-left: 50px;display: flex;flex-direction: row;align-items: center\">\n",
       "        <div class=\"jp-RenderedHTMLCommon\" style=\"display: flex; flex-direction: row;\">\n",
       "  <svg viewBox=\"0 0 567 224\" fill=\"none\" xmlns=\"http://www.w3.org/2000/svg\" style=\"height: 3em;\">\n",
       "    <g clip-path=\"url(#clip0_4338_178347)\">\n",
       "        <path d=\"M341.29 165.561H355.29L330.13 129.051C345.63 123.991 354.21 112.051 354.21 94.2307C354.21 71.3707 338.72 58.1807 311.88 58.1807H271V165.561H283.27V131.661H311.8C314.25 131.661 316.71 131.501 319.01 131.351L341.25 165.561H341.29ZM283.29 119.851V70.0007H311.82C331.3 70.0007 342.34 78.2907 342.34 94.5507C342.34 111.271 331.34 119.861 311.82 119.861L283.29 119.851ZM451.4 138.411L463.4 165.561H476.74L428.74 58.1807H416L367.83 165.561H380.83L392.83 138.411H451.4ZM446.19 126.601H398L422 72.1407L446.24 126.601H446.19ZM526.11 128.741L566.91 58.1807H554.35L519.99 114.181L485.17 58.1807H472.44L514.01 129.181V165.541H526.13V128.741H526.11Z\" fill=\"var(--jp-ui-font-color0)\"/>\n",
       "        <path d=\"M82.35 104.44C84.0187 97.8827 87.8248 92.0678 93.1671 87.9146C98.5094 83.7614 105.083 81.5067 111.85 81.5067C118.617 81.5067 125.191 83.7614 130.533 87.9146C135.875 92.0678 139.681 97.8827 141.35 104.44H163.75C164.476 101.562 165.622 98.8057 167.15 96.2605L127.45 56.5605C121.071 60.3522 113.526 61.6823 106.235 60.3005C98.9443 58.9187 92.4094 54.9203 87.8602 49.0574C83.3109 43.1946 81.0609 35.8714 81.5332 28.4656C82.0056 21.0599 85.1679 14.0819 90.4252 8.8446C95.6824 3.60726 102.672 0.471508 110.08 0.0272655C117.487 -0.416977 124.802 1.86091 130.647 6.4324C136.493 11.0039 140.467 17.5539 141.821 24.8501C143.175 32.1463 141.816 39.6859 138 46.0505L177.69 85.7505C182.31 82.9877 187.58 81.4995 192.962 81.4375C198.345 81.3755 203.648 82.742 208.33 85.3976C213.012 88.0532 216.907 91.9029 219.616 96.5544C222.326 101.206 223.753 106.492 223.753 111.875C223.753 117.258 222.326 122.545 219.616 127.197C216.907 131.848 213.012 135.698 208.33 138.353C203.648 141.009 198.345 142.375 192.962 142.313C187.58 142.251 182.31 140.763 177.69 138L138 177.7C141.808 184.071 143.155 191.614 141.79 198.91C140.424 206.205 136.44 212.75 130.585 217.313C124.731 221.875 117.412 224.141 110.004 223.683C102.596 223.226 95.6103 220.077 90.3621 214.828C85.1139 209.58 81.9647 202.595 81.5072 195.187C81.0497 187.779 83.3154 180.459 87.878 174.605C92.4405 168.751 98.9853 164.766 106.281 163.401C113.576 162.035 121.119 163.383 127.49 167.19L167.19 127.49C165.664 124.941 164.518 122.182 163.79 119.3H141.39C139.721 125.858 135.915 131.673 130.573 135.826C125.231 139.98 118.657 142.234 111.89 142.234C105.123 142.234 98.5494 139.98 93.2071 135.826C87.8648 131.673 84.0587 125.858 82.39 119.3H60C58.1878 126.495 53.8086 132.78 47.6863 136.971C41.5641 141.163 34.1211 142.972 26.7579 142.059C19.3947 141.146 12.6191 137.574 7.70605 132.014C2.79302 126.454 0.0813599 119.29 0.0813599 111.87C0.0813599 104.451 2.79302 97.2871 7.70605 91.7272C12.6191 86.1673 19.3947 82.5947 26.7579 81.6817C34.1211 80.7686 41.5641 82.5781 47.6863 86.7696C53.8086 90.9611 58.1878 97.2456 60 104.44H82.35ZM100.86 204.32C103.407 206.868 106.759 208.453 110.345 208.806C113.93 209.159 117.527 208.258 120.522 206.256C123.517 204.254 125.725 201.276 126.771 197.828C127.816 194.38 127.633 190.677 126.253 187.349C124.874 184.021 122.383 181.274 119.205 179.577C116.027 177.88 112.359 177.337 108.826 178.042C105.293 178.746 102.113 180.654 99.8291 183.44C97.5451 186.226 96.2979 189.718 96.3 193.32C96.2985 195.364 96.7006 197.388 97.4831 199.275C98.2656 201.163 99.4132 202.877 100.86 204.32ZM204.32 122.88C206.868 120.333 208.453 116.981 208.806 113.396C209.159 109.811 208.258 106.214 206.256 103.219C204.254 100.223 201.275 98.0151 197.827 96.97C194.38 95.9249 190.676 96.1077 187.348 97.4873C184.02 98.8669 181.274 101.358 179.577 104.536C177.879 107.714 177.337 111.382 178.041 114.915C178.746 118.448 180.653 121.627 183.439 123.911C186.226 126.195 189.717 127.443 193.32 127.44C195.364 127.443 197.388 127.042 199.275 126.259C201.163 125.476 202.878 124.328 204.32 122.88ZM122.88 19.4205C120.333 16.8729 116.981 15.2876 113.395 14.9347C109.81 14.5817 106.213 15.483 103.218 17.4849C100.223 19.4868 98.0146 22.4654 96.9696 25.9131C95.9245 29.3608 96.1073 33.0642 97.4869 36.3922C98.8665 39.7202 101.358 42.4668 104.535 44.1639C107.713 45.861 111.381 46.4036 114.914 45.6992C118.447 44.9949 121.627 43.0871 123.911 40.301C126.195 37.515 127.442 34.0231 127.44 30.4205C127.44 28.3772 127.038 26.3539 126.255 24.4664C125.473 22.5788 124.326 20.8642 122.88 19.4205ZM19.42 100.86C16.8725 103.408 15.2872 106.76 14.9342 110.345C14.5813 113.93 15.4826 117.527 17.4844 120.522C19.4863 123.518 22.4649 125.726 25.9127 126.771C29.3604 127.816 33.0638 127.633 36.3918 126.254C39.7198 124.874 42.4664 122.383 44.1635 119.205C45.8606 116.027 46.4032 112.359 45.6988 108.826C44.9944 105.293 43.0866 102.114 40.3006 99.8296C37.5145 97.5455 34.0227 96.2983 30.42 96.3005C26.2938 96.3018 22.337 97.9421 19.42 100.86ZM100.86 100.86C98.3125 103.408 96.7272 106.76 96.3742 110.345C96.0213 113.93 96.9226 117.527 98.9244 120.522C100.926 123.518 103.905 125.726 107.353 126.771C110.8 127.816 114.504 127.633 117.832 126.254C121.16 124.874 123.906 122.383 125.604 119.205C127.301 116.027 127.843 112.359 127.139 108.826C126.434 105.293 124.527 102.114 121.741 99.8296C118.955 97.5455 115.463 96.2983 111.86 96.3005C109.817 96.299 107.793 96.701 105.905 97.4835C104.018 98.2661 102.303 99.4136 100.86 100.86Z\" fill=\"#00AEEF\"/>\n",
       "    </g>\n",
       "    <defs>\n",
       "        <clipPath id=\"clip0_4338_178347\">\n",
       "            <rect width=\"566.93\" height=\"223.75\" fill=\"white\"/>\n",
       "        </clipPath>\n",
       "    </defs>\n",
       "  </svg>\n",
       "</div>\n",
       "\n",
       "        <table class=\"jp-RenderedHTMLCommon\" style=\"border-collapse: collapse;color: var(--jp-ui-font-color1);font-size: var(--jp-ui-font-size1);\">\n",
       "    <tr>\n",
       "        <td style=\"text-align: left\"><b>Python version:</b></td>\n",
       "        <td style=\"text-align: left\"><b>3.11.3</b></td>\n",
       "    </tr>\n",
       "    <tr>\n",
       "        <td style=\"text-align: left\"><b>Ray version:</b></td>\n",
       "        <td style=\"text-align: left\"><b>2.6.2</b></td>\n",
       "    </tr>\n",
       "    <tr>\n",
       "    <td style=\"text-align: left\"><b>Dashboard:</b></td>\n",
       "    <td style=\"text-align: left\"><b><a href=\"http://127.0.0.1:8266\" target=\"_blank\">http://127.0.0.1:8266</a></b></td>\n",
       "</tr>\n",
       "\n",
       "</table>\n",
       "\n",
       "    </div>\n",
       "</div>\n"
      ],
      "text/plain": [
       "RayContext(dashboard_url='127.0.0.1:8266', python_version='3.11.3', ray_version='2.6.2', ray_commit='92ad4bab9e93c7a207a44c65ab51295f92566cb4', protocol_version=None)"
      ]
     },
     "execution_count": 2,
     "metadata": {},
     "output_type": "execute_result"
    }
   ],
   "source": [
    "ray.init(num_cpus=160, ignore_reinit_error=True)"
   ]
  },
  {
   "cell_type": "code",
   "execution_count": 3,
   "metadata": {},
   "outputs": [
    {
     "name": "stdout",
     "output_type": "stream",
     "text": [
      "num of factors:124\n",
      "num of factors:124\n"
     ]
    }
   ],
   "source": [
    "insmp = Backtester(20190103, 20210101)\n",
    "otsmp = Backtester(20210101, 20211231)"
   ]
  },
  {
   "cell_type": "code",
   "execution_count": 4,
   "metadata": {},
   "outputs": [
    {
     "name": "stdout",
     "output_type": "stream",
     "text": [
      "calc_factor took 239 seconds\n"
     ]
    }
   ],
   "source": [
    "factors = insmp.calc_factor()"
   ]
  },
  {
   "cell_type": "code",
   "execution_count": 5,
   "metadata": {},
   "outputs": [
    {
     "name": "stdout",
     "output_type": "stream",
     "text": [
      "calc_factor took 140 seconds\n"
     ]
    }
   ],
   "source": [
    "factors2 = otsmp.calc_factor()"
   ]
  },
  {
   "cell_type": "code",
   "execution_count": 7,
   "metadata": {},
   "outputs": [
    {
     "name": "stdout",
     "output_type": "stream",
     "text": [
      "calc_ic took 584 seconds\n",
      "calc_ic took 285 seconds\n"
     ]
    }
   ],
   "source": [
    "df_ic = insmp.calc_ic()\n",
    "df_ic2 = otsmp.calc_ic()"
   ]
  },
  {
   "cell_type": "code",
   "execution_count": 8,
   "metadata": {},
   "outputs": [
    {
     "data": {
      "text/html": [
       "<div>\n",
       "<style scoped>\n",
       "    .dataframe tbody tr th:only-of-type {\n",
       "        vertical-align: middle;\n",
       "    }\n",
       "\n",
       "    .dataframe tbody tr th {\n",
       "        vertical-align: top;\n",
       "    }\n",
       "\n",
       "    .dataframe thead th {\n",
       "        text-align: right;\n",
       "    }\n",
       "</style>\n",
       "<table border=\"1\" class=\"dataframe\">\n",
       "  <thead>\n",
       "    <tr style=\"text-align: right;\">\n",
       "      <th></th>\n",
       "      <th>y1</th>\n",
       "      <th>y2</th>\n",
       "      <th>y5</th>\n",
       "    </tr>\n",
       "  </thead>\n",
       "  <tbody>\n",
       "    <tr>\n",
       "      <th>20230811171800_satd_lexpr08_lopt34_10_0042</th>\n",
       "      <td>0.042246</td>\n",
       "      <td>0.046690</td>\n",
       "      <td>0.060397</td>\n",
       "    </tr>\n",
       "    <tr>\n",
       "      <th>20230813143935_satd_lexpr08_lopt34_10_0322</th>\n",
       "      <td>0.019739</td>\n",
       "      <td>0.023186</td>\n",
       "      <td>0.032060</td>\n",
       "    </tr>\n",
       "    <tr>\n",
       "      <th>20230813143936_satd_lexpr08_lopt34_10_0714</th>\n",
       "      <td>0.020054</td>\n",
       "      <td>0.023814</td>\n",
       "      <td>0.034957</td>\n",
       "    </tr>\n",
       "    <tr>\n",
       "      <th>20230813145451_satd_lexpr08_lopt34_10_0856</th>\n",
       "      <td>0.045665</td>\n",
       "      <td>0.051074</td>\n",
       "      <td>0.071974</td>\n",
       "    </tr>\n",
       "    <tr>\n",
       "      <th>20230813145458_satd_lexpr08_lopt34_10_0262</th>\n",
       "      <td>0.039762</td>\n",
       "      <td>0.043808</td>\n",
       "      <td>0.061600</td>\n",
       "    </tr>\n",
       "    <tr>\n",
       "      <th>...</th>\n",
       "      <td>...</td>\n",
       "      <td>...</td>\n",
       "      <td>...</td>\n",
       "    </tr>\n",
       "    <tr>\n",
       "      <th>20230825003101_satd_lexpr10_lopt50_10_3581</th>\n",
       "      <td>0.048912</td>\n",
       "      <td>0.053101</td>\n",
       "      <td>0.063885</td>\n",
       "    </tr>\n",
       "    <tr>\n",
       "      <th>20230825090920_satd_lexpr10_lopt50_10_9548</th>\n",
       "      <td>0.014690</td>\n",
       "      <td>0.017996</td>\n",
       "      <td>0.025416</td>\n",
       "    </tr>\n",
       "    <tr>\n",
       "      <th>20230825090924_satd_lexpr10_lopt50_10_9750</th>\n",
       "      <td>0.013659</td>\n",
       "      <td>0.015380</td>\n",
       "      <td>0.028290</td>\n",
       "    </tr>\n",
       "    <tr>\n",
       "      <th>20230825090927_satd_lexpr10_lopt50_10_5052</th>\n",
       "      <td>0.028705</td>\n",
       "      <td>0.031422</td>\n",
       "      <td>0.040526</td>\n",
       "    </tr>\n",
       "    <tr>\n",
       "      <th>20230825103129_satd_lexpr10_lopt50_10_4933</th>\n",
       "      <td>0.035144</td>\n",
       "      <td>0.038567</td>\n",
       "      <td>0.059481</td>\n",
       "    </tr>\n",
       "  </tbody>\n",
       "</table>\n",
       "<p>94 rows × 3 columns</p>\n",
       "</div>"
      ],
      "text/plain": [
       "                                                  y1        y2        y5\n",
       "20230811171800_satd_lexpr08_lopt34_10_0042  0.042246  0.046690  0.060397\n",
       "20230813143935_satd_lexpr08_lopt34_10_0322  0.019739  0.023186  0.032060\n",
       "20230813143936_satd_lexpr08_lopt34_10_0714  0.020054  0.023814  0.034957\n",
       "20230813145451_satd_lexpr08_lopt34_10_0856  0.045665  0.051074  0.071974\n",
       "20230813145458_satd_lexpr08_lopt34_10_0262  0.039762  0.043808  0.061600\n",
       "...                                              ...       ...       ...\n",
       "20230825003101_satd_lexpr10_lopt50_10_3581  0.048912  0.053101  0.063885\n",
       "20230825090920_satd_lexpr10_lopt50_10_9548  0.014690  0.017996  0.025416\n",
       "20230825090924_satd_lexpr10_lopt50_10_9750  0.013659  0.015380  0.028290\n",
       "20230825090927_satd_lexpr10_lopt50_10_5052  0.028705  0.031422  0.040526\n",
       "20230825103129_satd_lexpr10_lopt50_10_4933  0.035144  0.038567  0.059481\n",
       "\n",
       "[94 rows x 3 columns]"
      ]
     },
     "execution_count": 8,
     "metadata": {},
     "output_type": "execute_result"
    }
   ],
   "source": [
    "insmp.df_ic.query(\"y1>.01 and y2>.015 and y5>.02\")"
   ]
  },
  {
   "cell_type": "code",
   "execution_count": 9,
   "metadata": {},
   "outputs": [
    {
     "data": {
      "text/html": [
       "<div>\n",
       "<style scoped>\n",
       "    .dataframe tbody tr th:only-of-type {\n",
       "        vertical-align: middle;\n",
       "    }\n",
       "\n",
       "    .dataframe tbody tr th {\n",
       "        vertical-align: top;\n",
       "    }\n",
       "\n",
       "    .dataframe thead th {\n",
       "        text-align: right;\n",
       "    }\n",
       "</style>\n",
       "<table border=\"1\" class=\"dataframe\">\n",
       "  <thead>\n",
       "    <tr style=\"text-align: right;\">\n",
       "      <th></th>\n",
       "      <th>y1</th>\n",
       "      <th>y2</th>\n",
       "      <th>y5</th>\n",
       "    </tr>\n",
       "  </thead>\n",
       "  <tbody>\n",
       "    <tr>\n",
       "      <th>20230811171800_satd_lexpr08_lopt34_10_0042</th>\n",
       "      <td>0.029942</td>\n",
       "      <td>0.032678</td>\n",
       "      <td>0.039297</td>\n",
       "    </tr>\n",
       "    <tr>\n",
       "      <th>20230813143935_satd_lexpr08_lopt34_10_0322</th>\n",
       "      <td>0.011797</td>\n",
       "      <td>0.013961</td>\n",
       "      <td>0.012473</td>\n",
       "    </tr>\n",
       "    <tr>\n",
       "      <th>20230813145451_satd_lexpr08_lopt34_10_0856</th>\n",
       "      <td>0.026510</td>\n",
       "      <td>0.029783</td>\n",
       "      <td>0.036930</td>\n",
       "    </tr>\n",
       "    <tr>\n",
       "      <th>20230813145458_satd_lexpr08_lopt34_10_0262</th>\n",
       "      <td>0.023295</td>\n",
       "      <td>0.025203</td>\n",
       "      <td>0.033990</td>\n",
       "    </tr>\n",
       "    <tr>\n",
       "      <th>20230813145501_satd_lexpr08_lopt34_10_0726</th>\n",
       "      <td>0.029467</td>\n",
       "      <td>0.029454</td>\n",
       "      <td>0.030696</td>\n",
       "    </tr>\n",
       "    <tr>\n",
       "      <th>...</th>\n",
       "      <td>...</td>\n",
       "      <td>...</td>\n",
       "      <td>...</td>\n",
       "    </tr>\n",
       "    <tr>\n",
       "      <th>20230825003035_satd_lexpr10_lopt50_10_6173</th>\n",
       "      <td>0.019370</td>\n",
       "      <td>0.022707</td>\n",
       "      <td>0.023508</td>\n",
       "    </tr>\n",
       "    <tr>\n",
       "      <th>20230825003047_satd_lexpr10_lopt50_10_5577</th>\n",
       "      <td>0.025244</td>\n",
       "      <td>0.027922</td>\n",
       "      <td>0.030913</td>\n",
       "    </tr>\n",
       "    <tr>\n",
       "      <th>20230825003101_satd_lexpr10_lopt50_10_3581</th>\n",
       "      <td>0.026536</td>\n",
       "      <td>0.029207</td>\n",
       "      <td>0.036954</td>\n",
       "    </tr>\n",
       "    <tr>\n",
       "      <th>20230825090927_satd_lexpr10_lopt50_10_5052</th>\n",
       "      <td>0.015517</td>\n",
       "      <td>0.017328</td>\n",
       "      <td>0.017932</td>\n",
       "    </tr>\n",
       "    <tr>\n",
       "      <th>20230825103129_satd_lexpr10_lopt50_10_4933</th>\n",
       "      <td>0.022861</td>\n",
       "      <td>0.025140</td>\n",
       "      <td>0.025315</td>\n",
       "    </tr>\n",
       "  </tbody>\n",
       "</table>\n",
       "<p>87 rows × 3 columns</p>\n",
       "</div>"
      ],
      "text/plain": [
       "                                                  y1        y2        y5\n",
       "20230811171800_satd_lexpr08_lopt34_10_0042  0.029942  0.032678  0.039297\n",
       "20230813143935_satd_lexpr08_lopt34_10_0322  0.011797  0.013961  0.012473\n",
       "20230813145451_satd_lexpr08_lopt34_10_0856  0.026510  0.029783  0.036930\n",
       "20230813145458_satd_lexpr08_lopt34_10_0262  0.023295  0.025203  0.033990\n",
       "20230813145501_satd_lexpr08_lopt34_10_0726  0.029467  0.029454  0.030696\n",
       "...                                              ...       ...       ...\n",
       "20230825003035_satd_lexpr10_lopt50_10_6173  0.019370  0.022707  0.023508\n",
       "20230825003047_satd_lexpr10_lopt50_10_5577  0.025244  0.027922  0.030913\n",
       "20230825003101_satd_lexpr10_lopt50_10_3581  0.026536  0.029207  0.036954\n",
       "20230825090927_satd_lexpr10_lopt50_10_5052  0.015517  0.017328  0.017932\n",
       "20230825103129_satd_lexpr10_lopt50_10_4933  0.022861  0.025140  0.025315\n",
       "\n",
       "[87 rows x 3 columns]"
      ]
     },
     "execution_count": 9,
     "metadata": {},
     "output_type": "execute_result"
    }
   ],
   "source": [
    "otsmp.df_ic.query(\"y1>0.01 and y2>0.01 and y5>0.01 and @insmp.df_ic.y1>.01 and @insmp.df_ic.y2>.015 and @insmp.df_ic.y5>.02\")"
   ]
  },
  {
   "cell_type": "code",
   "execution_count": 10,
   "metadata": {},
   "outputs": [],
   "source": [
    "selected_idx = otsmp.df_ic.query(\"y1>0.01 and y2>0.01 and y5>0.01 and @insmp.df_ic.y1>.01 and @insmp.df_ic.y2>.015 and @insmp.df_ic.y5>.02\").index"
   ]
  },
  {
   "cell_type": "code",
   "execution_count": 11,
   "metadata": {},
   "outputs": [],
   "source": [
    "feature_dict = dict(zip(otsmp.factor_names,otsmp.factors))"
   ]
  },
  {
   "cell_type": "code",
   "execution_count": 15,
   "metadata": {},
   "outputs": [],
   "source": [
    "selected_sigs = [feature_dict[i] for i in selected_idx]"
   ]
  },
  {
   "cell_type": "code",
   "execution_count": 17,
   "metadata": {},
   "outputs": [],
   "source": [
    "def calc_sig_corr(sigs):\n",
    "    n = len(sigs)\n",
    "    df_corr = np.ones((n,n))\n",
    "    corrs = []\n",
    "    for i in range(n):\n",
    "        for j in range(i+1,n):\n",
    "            ic = torch.nanmean(batch_pearsonr(sigs[i],sigs[j],))\n",
    "            df_corr[i,j] = ic\n",
    "            df_corr[j,i] = ic\n",
    "    return df_corr\n",
    "            "
   ]
  },
  {
   "cell_type": "code",
   "execution_count": 19,
   "metadata": {},
   "outputs": [],
   "source": [
    "df_corr = calc_sig_corr(selected_sigs)"
   ]
  },
  {
   "cell_type": "code",
   "execution_count": 21,
   "metadata": {},
   "outputs": [
    {
     "data": {
      "text/plain": [
       "(87, 87)"
      ]
     },
     "execution_count": 21,
     "metadata": {},
     "output_type": "execute_result"
    }
   ],
   "source": [
    "df_corr.shape"
   ]
  },
  {
   "cell_type": "code",
   "execution_count": 23,
   "metadata": {},
   "outputs": [],
   "source": [
    "df_corr = pd.DataFrame(df_corr)"
   ]
  },
  {
   "cell_type": "code",
   "execution_count": 26,
   "metadata": {},
   "outputs": [],
   "source": [
    "sigs = remove_high_corr_factors(df_corr.values)"
   ]
  },
  {
   "cell_type": "code",
   "execution_count": 28,
   "metadata": {},
   "outputs": [
    {
     "data": {
      "text/plain": [
       "64"
      ]
     },
     "execution_count": 28,
     "metadata": {},
     "output_type": "execute_result"
    }
   ],
   "source": [
    "len(sigs)"
   ]
  },
  {
   "cell_type": "code",
   "execution_count": 36,
   "metadata": {},
   "outputs": [],
   "source": [
    "final = [selected_idx[idx] for idx in sigs]"
   ]
  },
  {
   "cell_type": "code",
   "execution_count": 47,
   "metadata": {},
   "outputs": [],
   "source": [
    "\n",
    "# 设置显示最大列数\n",
    "pd.set_option('display.max_columns', None)\n",
    "\n",
    "# 设置显示最大行数\n",
    "pd.set_option('display.max_rows', None)\n",
    "finaldf =  otsmp.df_ic.loc[final]"
   ]
  },
  {
   "cell_type": "code",
   "execution_count": 49,
   "metadata": {},
   "outputs": [
    {
     "name": "stdout",
     "output_type": "stream",
     "text": [
      "                                                  y1        y2        y5\n",
      "20230811171800_satd_lexpr08_lopt34_10_0042  0.029942  0.032678  0.039297\n",
      "20230813143935_satd_lexpr08_lopt34_10_0322  0.011797  0.013961  0.012473\n",
      "20230813145451_satd_lexpr08_lopt34_10_0856  0.026510  0.029783  0.036930\n",
      "20230813145501_satd_lexpr08_lopt34_10_0726  0.029467  0.029454  0.030696\n",
      "20230814092613_satd_lexpr08_lopt34_10_0788  0.030076  0.031085  0.033477\n",
      "20230814092614_satd_lexpr08_lopt34_10_0177  0.010392  0.011457  0.016512\n",
      "20230814092615_satd_lexpr08_lopt34_10_0018  0.022174  0.023574  0.024581\n",
      "20230814092615_satd_lexpr08_lopt34_10_0143  0.022328  0.025780  0.027584\n",
      "20230814095857_satd_lexpr08_lopt34_10_0578  0.028826  0.031991  0.031900\n",
      "20230814102408_satd_lexpr15_lopt34_10_0319  0.026077  0.027266  0.035737\n",
      "20230814175110_satd_lexpr15_lopt34_10_0269  0.025901  0.027344  0.033700\n",
      "20230814175115_satd_lexpr15_lopt34_10_0852  0.035336  0.036327  0.041362\n",
      "20230815095228_satd_lexpr10_lopt34_10_0762  0.021678  0.022744  0.028150\n",
      "20230815095232_satd_lexpr10_lopt34_10_0094  0.033410  0.036408  0.040309\n",
      "20230815095245_satd_lexpr10_lopt34_10_0843  0.028485  0.029376  0.033939\n",
      "20230815095542_satd_lexpr10_lopt34_10_0251  0.015220  0.017070  0.021231\n",
      "20230815140616_satd_lexpr10_lopt34_10_0702  0.028414  0.029220  0.034689\n",
      "20230815140956_satd_lexpr10_lopt34_10_4844  0.021626  0.023106  0.022889\n",
      "20230815145016_satd_lexpr10_lopt34_10_8693  0.014266  0.016554  0.017075\n",
      "20230815145016_satd_lexpr10_lopt34_10_9005  0.014994  0.014106  0.011696\n",
      "20230816101455_satd_lexpr10_lopt34_10_0771  0.025670  0.027132  0.026704\n",
      "20230816101505_satd_lexpr10_lopt34_10_7336  0.025255  0.028720  0.032763\n",
      "20230816101532_satd_lexpr10_lopt34_10_4677  0.030159  0.031955  0.033973\n",
      "20230816165501_satd_lexpr10_lopt34_10_3975  0.023173  0.026298  0.031993\n",
      "20230816165506_satd_lexpr10_lopt34_10_8664  0.025859  0.028869  0.034804\n",
      "20230817091410_satd_lexpr10_lopt34_10_5018  0.015962  0.017199  0.016086\n",
      "20230817094253_satd_lexpr10_lopt34_10_1792  0.024398  0.026028  0.028866\n",
      "20230817094254_satd_lexpr10_lopt34_10_7451  0.021548  0.023196  0.023601\n",
      "20230817103215_satd_lexpr05_lopt34_10_4947  0.026624  0.026978  0.025739\n",
      "20230821092733_satd_lexpr10_lopt50_10_2200  0.030862  0.032597  0.044213\n",
      "20230821092811_satd_lexpr10_lopt50_10_4104  0.019972  0.021041  0.024045\n",
      "20230821130710_satd_lexpr10_lopt50_10_7015  0.021789  0.024747  0.028571\n",
      "20230821130715_satd_lexpr10_lopt50_10_0805  0.022254  0.022075  0.021466\n",
      "20230821175227_satd_lexpr10_lopt50_10_2159  0.023600  0.024651  0.031910\n",
      "20230821175234_satd_lexpr10_lopt50_10_4816  0.025161  0.027083  0.032349\n",
      "20230821175256_satd_lexpr10_lopt50_10_6398  0.011326  0.013539  0.011241\n",
      "20230821175303_satd_lexpr10_lopt50_10_1836  0.025622  0.028316  0.035158\n",
      "20230822092952_satd_lexpr10_lopt50_10_6041  0.019087  0.022993  0.018284\n",
      "20230822093001_satd_lexpr10_lopt50_10_0108  0.029293  0.029888  0.032506\n",
      "20230822093012_satd_lexpr10_lopt50_10_9504  0.019438  0.020971  0.022949\n",
      "20230822093021_satd_lexpr10_lopt50_10_9543  0.016032  0.017887  0.017734\n",
      "20230822112440_satd_lexpr10_lopt50_10_9320  0.025942  0.027793  0.033942\n",
      "20230822131115_satd_lexpr10_lopt50_10_5609  0.026766  0.028751  0.033732\n",
      "20230822140517_satd_lexpr10_lopt50_10_1992  0.010448  0.012872  0.011544\n",
      "20230822145833_satd_lexpr10_lopt50_10_9833  0.016988  0.018652  0.019610\n",
      "20230822154907_satd_lexpr08_lopt50_10_6197  0.025368  0.028415  0.029641\n",
      "20230822155423_satd_lexpr08_lopt50_10_6746  0.031441  0.032474  0.037017\n",
      "20230822172834_satd_lexpr08_lopt50_10_4714  0.021142  0.024592  0.035761\n",
      "20230822174148_satd_lexpr08_lopt50_10_7586  0.023648  0.024172  0.022945\n",
      "20230823000025_satd_lexpr08_lopt50_10_5070  0.017680  0.018467  0.025123\n",
      "20230823000029_satd_lexpr08_lopt50_10_5604  0.032545  0.032675  0.035690\n",
      "20230823095747_satd_lexpr08_lopt50_10_5819  0.013064  0.011460  0.012522\n",
      "20230823095751_satd_lexpr08_lopt50_10_2496  0.036442  0.038170  0.040606\n",
      "20230823095758_satd_lexpr08_lopt50_10_2261  0.016372  0.018290  0.017166\n",
      "20230823095804_satd_lexpr08_lopt50_10_9650  0.010208  0.012451  0.016049\n",
      "20230824092356_satd_lexpr08_lopt50_10_9193  0.017832  0.018410  0.020485\n",
      "20230824092404_satd_lexpr08_lopt50_10_3519  0.024365  0.028188  0.033969\n",
      "20230824092406_satd_lexpr08_lopt50_10_4656  0.032544  0.034378  0.036043\n",
      "20230824092406_satd_lexpr08_lopt50_10_9769  0.027182  0.025013  0.023946\n",
      "20230824092408_satd_lexpr08_lopt50_10_6211  0.020465  0.021855  0.027605\n",
      "20230825003035_satd_lexpr10_lopt50_10_6173  0.019370  0.022707  0.023508\n",
      "20230825003101_satd_lexpr10_lopt50_10_3581  0.026536  0.029207  0.036954\n",
      "20230825090927_satd_lexpr10_lopt50_10_5052  0.015517  0.017328  0.017932\n",
      "20230825103129_satd_lexpr10_lopt50_10_4933  0.022861  0.025140  0.025315\n"
     ]
    }
   ],
   "source": [
    "print(finaldf)"
   ]
  },
  {
   "cell_type": "code",
   "execution_count": 50,
   "metadata": {},
   "outputs": [
    {
     "data": {
      "text/html": [
       "<div>\n",
       "<style scoped>\n",
       "    .dataframe tbody tr th:only-of-type {\n",
       "        vertical-align: middle;\n",
       "    }\n",
       "\n",
       "    .dataframe tbody tr th {\n",
       "        vertical-align: top;\n",
       "    }\n",
       "\n",
       "    .dataframe thead th {\n",
       "        text-align: right;\n",
       "    }\n",
       "</style>\n",
       "<table border=\"1\" class=\"dataframe\">\n",
       "  <thead>\n",
       "    <tr style=\"text-align: right;\">\n",
       "      <th></th>\n",
       "      <th>y1</th>\n",
       "      <th>y2</th>\n",
       "      <th>y5</th>\n",
       "    </tr>\n",
       "  </thead>\n",
       "  <tbody>\n",
       "    <tr>\n",
       "      <th>count</th>\n",
       "      <td>64.000000</td>\n",
       "      <td>64.000000</td>\n",
       "      <td>64.000000</td>\n",
       "    </tr>\n",
       "    <tr>\n",
       "      <th>mean</th>\n",
       "      <td>0.023043</td>\n",
       "      <td>0.024733</td>\n",
       "      <td>0.027598</td>\n",
       "    </tr>\n",
       "    <tr>\n",
       "      <th>std</th>\n",
       "      <td>0.006447</td>\n",
       "      <td>0.006554</td>\n",
       "      <td>0.008456</td>\n",
       "    </tr>\n",
       "    <tr>\n",
       "      <th>min</th>\n",
       "      <td>0.010208</td>\n",
       "      <td>0.011457</td>\n",
       "      <td>0.011241</td>\n",
       "    </tr>\n",
       "    <tr>\n",
       "      <th>25%</th>\n",
       "      <td>0.018774</td>\n",
       "      <td>0.020391</td>\n",
       "      <td>0.021407</td>\n",
       "    </tr>\n",
       "    <tr>\n",
       "      <th>50%</th>\n",
       "      <td>0.023624</td>\n",
       "      <td>0.025460</td>\n",
       "      <td>0.028360</td>\n",
       "    </tr>\n",
       "    <tr>\n",
       "      <th>75%</th>\n",
       "      <td>0.026870</td>\n",
       "      <td>0.029210</td>\n",
       "      <td>0.033970</td>\n",
       "    </tr>\n",
       "    <tr>\n",
       "      <th>max</th>\n",
       "      <td>0.036442</td>\n",
       "      <td>0.038170</td>\n",
       "      <td>0.044213</td>\n",
       "    </tr>\n",
       "  </tbody>\n",
       "</table>\n",
       "</div>"
      ],
      "text/plain": [
       "              y1         y2         y5\n",
       "count  64.000000  64.000000  64.000000\n",
       "mean    0.023043   0.024733   0.027598\n",
       "std     0.006447   0.006554   0.008456\n",
       "min     0.010208   0.011457   0.011241\n",
       "25%     0.018774   0.020391   0.021407\n",
       "50%     0.023624   0.025460   0.028360\n",
       "75%     0.026870   0.029210   0.033970\n",
       "max     0.036442   0.038170   0.044213"
      ]
     },
     "execution_count": 50,
     "metadata": {},
     "output_type": "execute_result"
    }
   ],
   "source": [
    "finaldf.describe()"
   ]
  },
  {
   "cell_type": "code",
   "execution_count": null,
   "metadata": {},
   "outputs": [],
   "source": []
  },
  {
   "cell_type": "code",
   "execution_count": null,
   "metadata": {},
   "outputs": [],
   "source": []
  },
  {
   "cell_type": "code",
   "execution_count": null,
   "metadata": {},
   "outputs": [],
   "source": []
  },
  {
   "cell_type": "code",
   "execution_count": null,
   "metadata": {},
   "outputs": [],
   "source": []
  },
  {
   "cell_type": "code",
   "execution_count": null,
   "metadata": {},
   "outputs": [],
   "source": []
  },
  {
   "cell_type": "code",
   "execution_count": null,
   "metadata": {},
   "outputs": [],
   "source": []
  },
  {
   "cell_type": "code",
   "execution_count": null,
   "metadata": {},
   "outputs": [],
   "source": []
  }
 ],
 "metadata": {
  "kernelspec": {
   "display_name": "Python 3 (ipykernel)",
   "language": "python",
   "name": "python3"
  },
  "language_info": {
   "codemirror_mode": {
    "name": "ipython",
    "version": 3
   },
   "file_extension": ".py",
   "mimetype": "text/x-python",
   "name": "python",
   "nbconvert_exporter": "python",
   "pygments_lexer": "ipython3",
   "version": "3.11.3"
  }
 },
 "nbformat": 4,
 "nbformat_minor": 4
}
