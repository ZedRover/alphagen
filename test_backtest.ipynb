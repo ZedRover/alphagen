{
 "cells": [
  {
   "cell_type": "code",
   "execution_count": 1,
   "metadata": {},
   "outputs": [],
   "source": [
    "import numpy as np\n",
    "import torch as th\n",
    "\n",
    "\n",
    "from glob import glob\n",
    "from utils import *\n",
    "import ray\n",
    "import pandas as pd\n",
    "import seaborn as sns\n",
    "import matplotlib.pyplot as plt"
   ]
  },
  {
   "cell_type": "code",
   "execution_count": 2,
   "metadata": {},
   "outputs": [
    {
     "name": "stderr",
     "output_type": "stream",
     "text": [
      "2023-08-30 10:08:16,850\tINFO worker.py:1612 -- Started a local Ray instance. View the dashboard at \u001b[1m\u001b[32mhttp://127.0.0.1:8265 \u001b[39m\u001b[22m\n"
     ]
    },
    {
     "data": {
      "application/vnd.jupyter.widget-view+json": {
       "model_id": "ffccaf0118214104884723f016ad2e1d",
       "version_major": 2,
       "version_minor": 0
      },
      "text/html": [
       "<div class=\"lm-Widget p-Widget lm-Panel p-Panel jp-Cell-outputWrapper\">\n",
       "    <div style=\"margin-left: 50px;display: flex;flex-direction: row;align-items: center\">\n",
       "        <div class=\"jp-RenderedHTMLCommon\" style=\"display: flex; flex-direction: row;\">\n",
       "  <svg viewBox=\"0 0 567 224\" fill=\"none\" xmlns=\"http://www.w3.org/2000/svg\" style=\"height: 3em;\">\n",
       "    <g clip-path=\"url(#clip0_4338_178347)\">\n",
       "        <path d=\"M341.29 165.561H355.29L330.13 129.051C345.63 123.991 354.21 112.051 354.21 94.2307C354.21 71.3707 338.72 58.1807 311.88 58.1807H271V165.561H283.27V131.661H311.8C314.25 131.661 316.71 131.501 319.01 131.351L341.25 165.561H341.29ZM283.29 119.851V70.0007H311.82C331.3 70.0007 342.34 78.2907 342.34 94.5507C342.34 111.271 331.34 119.861 311.82 119.861L283.29 119.851ZM451.4 138.411L463.4 165.561H476.74L428.74 58.1807H416L367.83 165.561H380.83L392.83 138.411H451.4ZM446.19 126.601H398L422 72.1407L446.24 126.601H446.19ZM526.11 128.741L566.91 58.1807H554.35L519.99 114.181L485.17 58.1807H472.44L514.01 129.181V165.541H526.13V128.741H526.11Z\" fill=\"var(--jp-ui-font-color0)\"/>\n",
       "        <path d=\"M82.35 104.44C84.0187 97.8827 87.8248 92.0678 93.1671 87.9146C98.5094 83.7614 105.083 81.5067 111.85 81.5067C118.617 81.5067 125.191 83.7614 130.533 87.9146C135.875 92.0678 139.681 97.8827 141.35 104.44H163.75C164.476 101.562 165.622 98.8057 167.15 96.2605L127.45 56.5605C121.071 60.3522 113.526 61.6823 106.235 60.3005C98.9443 58.9187 92.4094 54.9203 87.8602 49.0574C83.3109 43.1946 81.0609 35.8714 81.5332 28.4656C82.0056 21.0599 85.1679 14.0819 90.4252 8.8446C95.6824 3.60726 102.672 0.471508 110.08 0.0272655C117.487 -0.416977 124.802 1.86091 130.647 6.4324C136.493 11.0039 140.467 17.5539 141.821 24.8501C143.175 32.1463 141.816 39.6859 138 46.0505L177.69 85.7505C182.31 82.9877 187.58 81.4995 192.962 81.4375C198.345 81.3755 203.648 82.742 208.33 85.3976C213.012 88.0532 216.907 91.9029 219.616 96.5544C222.326 101.206 223.753 106.492 223.753 111.875C223.753 117.258 222.326 122.545 219.616 127.197C216.907 131.848 213.012 135.698 208.33 138.353C203.648 141.009 198.345 142.375 192.962 142.313C187.58 142.251 182.31 140.763 177.69 138L138 177.7C141.808 184.071 143.155 191.614 141.79 198.91C140.424 206.205 136.44 212.75 130.585 217.313C124.731 221.875 117.412 224.141 110.004 223.683C102.596 223.226 95.6103 220.077 90.3621 214.828C85.1139 209.58 81.9647 202.595 81.5072 195.187C81.0497 187.779 83.3154 180.459 87.878 174.605C92.4405 168.751 98.9853 164.766 106.281 163.401C113.576 162.035 121.119 163.383 127.49 167.19L167.19 127.49C165.664 124.941 164.518 122.182 163.79 119.3H141.39C139.721 125.858 135.915 131.673 130.573 135.826C125.231 139.98 118.657 142.234 111.89 142.234C105.123 142.234 98.5494 139.98 93.2071 135.826C87.8648 131.673 84.0587 125.858 82.39 119.3H60C58.1878 126.495 53.8086 132.78 47.6863 136.971C41.5641 141.163 34.1211 142.972 26.7579 142.059C19.3947 141.146 12.6191 137.574 7.70605 132.014C2.79302 126.454 0.0813599 119.29 0.0813599 111.87C0.0813599 104.451 2.79302 97.2871 7.70605 91.7272C12.6191 86.1673 19.3947 82.5947 26.7579 81.6817C34.1211 80.7686 41.5641 82.5781 47.6863 86.7696C53.8086 90.9611 58.1878 97.2456 60 104.44H82.35ZM100.86 204.32C103.407 206.868 106.759 208.453 110.345 208.806C113.93 209.159 117.527 208.258 120.522 206.256C123.517 204.254 125.725 201.276 126.771 197.828C127.816 194.38 127.633 190.677 126.253 187.349C124.874 184.021 122.383 181.274 119.205 179.577C116.027 177.88 112.359 177.337 108.826 178.042C105.293 178.746 102.113 180.654 99.8291 183.44C97.5451 186.226 96.2979 189.718 96.3 193.32C96.2985 195.364 96.7006 197.388 97.4831 199.275C98.2656 201.163 99.4132 202.877 100.86 204.32ZM204.32 122.88C206.868 120.333 208.453 116.981 208.806 113.396C209.159 109.811 208.258 106.214 206.256 103.219C204.254 100.223 201.275 98.0151 197.827 96.97C194.38 95.9249 190.676 96.1077 187.348 97.4873C184.02 98.8669 181.274 101.358 179.577 104.536C177.879 107.714 177.337 111.382 178.041 114.915C178.746 118.448 180.653 121.627 183.439 123.911C186.226 126.195 189.717 127.443 193.32 127.44C195.364 127.443 197.388 127.042 199.275 126.259C201.163 125.476 202.878 124.328 204.32 122.88ZM122.88 19.4205C120.333 16.8729 116.981 15.2876 113.395 14.9347C109.81 14.5817 106.213 15.483 103.218 17.4849C100.223 19.4868 98.0146 22.4654 96.9696 25.9131C95.9245 29.3608 96.1073 33.0642 97.4869 36.3922C98.8665 39.7202 101.358 42.4668 104.535 44.1639C107.713 45.861 111.381 46.4036 114.914 45.6992C118.447 44.9949 121.627 43.0871 123.911 40.301C126.195 37.515 127.442 34.0231 127.44 30.4205C127.44 28.3772 127.038 26.3539 126.255 24.4664C125.473 22.5788 124.326 20.8642 122.88 19.4205ZM19.42 100.86C16.8725 103.408 15.2872 106.76 14.9342 110.345C14.5813 113.93 15.4826 117.527 17.4844 120.522C19.4863 123.518 22.4649 125.726 25.9127 126.771C29.3604 127.816 33.0638 127.633 36.3918 126.254C39.7198 124.874 42.4664 122.383 44.1635 119.205C45.8606 116.027 46.4032 112.359 45.6988 108.826C44.9944 105.293 43.0866 102.114 40.3006 99.8296C37.5145 97.5455 34.0227 96.2983 30.42 96.3005C26.2938 96.3018 22.337 97.9421 19.42 100.86ZM100.86 100.86C98.3125 103.408 96.7272 106.76 96.3742 110.345C96.0213 113.93 96.9226 117.527 98.9244 120.522C100.926 123.518 103.905 125.726 107.353 126.771C110.8 127.816 114.504 127.633 117.832 126.254C121.16 124.874 123.906 122.383 125.604 119.205C127.301 116.027 127.843 112.359 127.139 108.826C126.434 105.293 124.527 102.114 121.741 99.8296C118.955 97.5455 115.463 96.2983 111.86 96.3005C109.817 96.299 107.793 96.701 105.905 97.4835C104.018 98.2661 102.303 99.4136 100.86 100.86Z\" fill=\"#00AEEF\"/>\n",
       "    </g>\n",
       "    <defs>\n",
       "        <clipPath id=\"clip0_4338_178347\">\n",
       "            <rect width=\"566.93\" height=\"223.75\" fill=\"white\"/>\n",
       "        </clipPath>\n",
       "    </defs>\n",
       "  </svg>\n",
       "</div>\n",
       "\n",
       "        <table class=\"jp-RenderedHTMLCommon\" style=\"border-collapse: collapse;color: var(--jp-ui-font-color1);font-size: var(--jp-ui-font-size1);\">\n",
       "    <tr>\n",
       "        <td style=\"text-align: left\"><b>Python version:</b></td>\n",
       "        <td style=\"text-align: left\"><b>3.11.3</b></td>\n",
       "    </tr>\n",
       "    <tr>\n",
       "        <td style=\"text-align: left\"><b>Ray version:</b></td>\n",
       "        <td style=\"text-align: left\"><b>2.6.2</b></td>\n",
       "    </tr>\n",
       "    <tr>\n",
       "    <td style=\"text-align: left\"><b>Dashboard:</b></td>\n",
       "    <td style=\"text-align: left\"><b><a href=\"http://127.0.0.1:8265\" target=\"_blank\">http://127.0.0.1:8265</a></b></td>\n",
       "</tr>\n",
       "\n",
       "</table>\n",
       "\n",
       "    </div>\n",
       "</div>\n"
      ],
      "text/plain": [
       "RayContext(dashboard_url='127.0.0.1:8265', python_version='3.11.3', ray_version='2.6.2', ray_commit='92ad4bab9e93c7a207a44c65ab51295f92566cb4', protocol_version=None)"
      ]
     },
     "execution_count": 2,
     "metadata": {},
     "output_type": "execute_result"
    }
   ],
   "source": [
    "ray.init(num_cpus=160, ignore_reinit_error=True)"
   ]
  },
  {
   "cell_type": "code",
   "execution_count": 3,
   "metadata": {},
   "outputs": [
    {
     "name": "stdout",
     "output_type": "stream",
     "text": [
      "num of factors:180\n",
      "num of factors:180\n"
     ]
    }
   ],
   "source": [
    "insmp = Backtester(20190103, 20210101, pattern = \"./checkpoints/*sat*/\",)\n",
    "otsmp = Backtester(20210101, 20211231, pattern = \"./checkpoints/*sat*/\",)"
   ]
  },
  {
   "cell_type": "code",
   "execution_count": 4,
   "metadata": {},
   "outputs": [
    {
     "name": "stdout",
     "output_type": "stream",
     "text": [
      "calc_factor took 347 seconds\n",
      "calc_factor took 185 seconds\n"
     ]
    }
   ],
   "source": [
    "factors = insmp.calc_factor()\n",
    "factors2 = otsmp.calc_factor()"
   ]
  },
  {
   "cell_type": "code",
   "execution_count": 5,
   "metadata": {},
   "outputs": [
    {
     "name": "stdout",
     "output_type": "stream",
     "text": [
      "calc_ic took 576 seconds\n",
      "calc_ic took 325 seconds\n"
     ]
    }
   ],
   "source": [
    "df_ic = insmp.calc_ic()\n",
    "df_ic2 = otsmp.calc_ic()"
   ]
  },
  {
   "cell_type": "code",
   "execution_count": 6,
   "metadata": {},
   "outputs": [
    {
     "data": {
      "text/html": [
       "<div>\n",
       "<style scoped>\n",
       "    .dataframe tbody tr th:only-of-type {\n",
       "        vertical-align: middle;\n",
       "    }\n",
       "\n",
       "    .dataframe tbody tr th {\n",
       "        vertical-align: top;\n",
       "    }\n",
       "\n",
       "    .dataframe thead th {\n",
       "        text-align: right;\n",
       "    }\n",
       "</style>\n",
       "<table border=\"1\" class=\"dataframe\">\n",
       "  <thead>\n",
       "    <tr style=\"text-align: right;\">\n",
       "      <th></th>\n",
       "      <th>y1</th>\n",
       "      <th>y2</th>\n",
       "      <th>y5</th>\n",
       "    </tr>\n",
       "  </thead>\n",
       "  <tbody>\n",
       "    <tr>\n",
       "      <th>20230811171800_satd_lexpr08_lopt34_10_0042</th>\n",
       "      <td>0.029813</td>\n",
       "      <td>0.032791</td>\n",
       "      <td>0.039772</td>\n",
       "    </tr>\n",
       "    <tr>\n",
       "      <th>20230813143935_satd_lexpr08_lopt34_10_0322</th>\n",
       "      <td>0.011760</td>\n",
       "      <td>0.013922</td>\n",
       "      <td>0.012883</td>\n",
       "    </tr>\n",
       "    <tr>\n",
       "      <th>20230813145451_satd_lexpr08_lopt34_10_0856</th>\n",
       "      <td>0.026628</td>\n",
       "      <td>0.030035</td>\n",
       "      <td>0.037093</td>\n",
       "    </tr>\n",
       "    <tr>\n",
       "      <th>20230813145458_satd_lexpr08_lopt34_10_0262</th>\n",
       "      <td>0.023027</td>\n",
       "      <td>0.024977</td>\n",
       "      <td>0.034143</td>\n",
       "    </tr>\n",
       "    <tr>\n",
       "      <th>20230813145501_satd_lexpr08_lopt34_10_0726</th>\n",
       "      <td>0.029509</td>\n",
       "      <td>0.029523</td>\n",
       "      <td>0.031023</td>\n",
       "    </tr>\n",
       "    <tr>\n",
       "      <th>...</th>\n",
       "      <td>...</td>\n",
       "      <td>...</td>\n",
       "      <td>...</td>\n",
       "    </tr>\n",
       "    <tr>\n",
       "      <th>20230829165951_satd_lexpr20_lopt50_10_2307</th>\n",
       "      <td>0.017191</td>\n",
       "      <td>0.018013</td>\n",
       "      <td>0.019074</td>\n",
       "    </tr>\n",
       "    <tr>\n",
       "      <th>20230829165954_satd_lexpr20_lopt50_10_0028</th>\n",
       "      <td>0.029554</td>\n",
       "      <td>0.031833</td>\n",
       "      <td>0.035371</td>\n",
       "    </tr>\n",
       "    <tr>\n",
       "      <th>20230829165955_satd_lexpr20_lopt50_10_0561</th>\n",
       "      <td>0.015328</td>\n",
       "      <td>0.017678</td>\n",
       "      <td>0.019975</td>\n",
       "    </tr>\n",
       "    <tr>\n",
       "      <th>20230829171842_satd_lexpr20_lopt50_10_3566</th>\n",
       "      <td>0.010570</td>\n",
       "      <td>0.012524</td>\n",
       "      <td>0.012202</td>\n",
       "    </tr>\n",
       "    <tr>\n",
       "      <th>20230829184700_satd_lexpr20_lopt50_10_2728</th>\n",
       "      <td>0.027210</td>\n",
       "      <td>0.029444</td>\n",
       "      <td>0.034289</td>\n",
       "    </tr>\n",
       "  </tbody>\n",
       "</table>\n",
       "<p>128 rows × 3 columns</p>\n",
       "</div>"
      ],
      "text/plain": [
       "                                                  y1        y2        y5\n",
       "20230811171800_satd_lexpr08_lopt34_10_0042  0.029813  0.032791  0.039772\n",
       "20230813143935_satd_lexpr08_lopt34_10_0322  0.011760  0.013922  0.012883\n",
       "20230813145451_satd_lexpr08_lopt34_10_0856  0.026628  0.030035  0.037093\n",
       "20230813145458_satd_lexpr08_lopt34_10_0262  0.023027  0.024977  0.034143\n",
       "20230813145501_satd_lexpr08_lopt34_10_0726  0.029509  0.029523  0.031023\n",
       "...                                              ...       ...       ...\n",
       "20230829165951_satd_lexpr20_lopt50_10_2307  0.017191  0.018013  0.019074\n",
       "20230829165954_satd_lexpr20_lopt50_10_0028  0.029554  0.031833  0.035371\n",
       "20230829165955_satd_lexpr20_lopt50_10_0561  0.015328  0.017678  0.019975\n",
       "20230829171842_satd_lexpr20_lopt50_10_3566  0.010570  0.012524  0.012202\n",
       "20230829184700_satd_lexpr20_lopt50_10_2728  0.027210  0.029444  0.034289\n",
       "\n",
       "[128 rows x 3 columns]"
      ]
     },
     "execution_count": 6,
     "metadata": {},
     "output_type": "execute_result"
    }
   ],
   "source": [
    "otsmp.df_ic.query(\"y1>0.01 and y2>0.01 and y5>0.01 and @insmp.df_ic.y1>.01 and @insmp.df_ic.y2>.015 and @insmp.df_ic.y5>.02\")"
   ]
  },
  {
   "cell_type": "code",
   "execution_count": 7,
   "metadata": {},
   "outputs": [],
   "source": [
    "selected_idx = otsmp.df_ic.query(\"y1>0.01 and y2>0.01 and y5>0.01 and @insmp.df_ic.y1>.01 and @insmp.df_ic.y2>.015 and @insmp.df_ic.y5>.02\").index"
   ]
  },
  {
   "cell_type": "code",
   "execution_count": 8,
   "metadata": {},
   "outputs": [],
   "source": [
    "feature_dict = dict(zip(otsmp.factor_names,otsmp.factors))"
   ]
  },
  {
   "cell_type": "code",
   "execution_count": 9,
   "metadata": {},
   "outputs": [],
   "source": [
    "selected_sigs = [feature_dict[i] for i in selected_idx]"
   ]
  },
  {
   "cell_type": "code",
   "execution_count": 10,
   "metadata": {},
   "outputs": [],
   "source": [
    "def calc_sig_corr(sigs):\n",
    "    n = len(sigs)\n",
    "    df_corr = np.ones((n,n))\n",
    "    corrs = []\n",
    "    for i in range(n):\n",
    "        for j in range(i+1,n):\n",
    "            ic = torch.nanmean(batch_pearsonr(sigs[i],sigs[j],))\n",
    "            df_corr[i,j] = ic\n",
    "            df_corr[j,i] = ic\n",
    "    return df_corr\n",
    "            "
   ]
  },
  {
   "cell_type": "code",
   "execution_count": 11,
   "metadata": {},
   "outputs": [],
   "source": [
    "df_corr = calc_sig_corr(selected_sigs)"
   ]
  },
  {
   "cell_type": "code",
   "execution_count": 12,
   "metadata": {},
   "outputs": [
    {
     "data": {
      "text/plain": [
       "(128, 128)"
      ]
     },
     "execution_count": 12,
     "metadata": {},
     "output_type": "execute_result"
    }
   ],
   "source": [
    "df_corr.shape"
   ]
  },
  {
   "cell_type": "code",
   "execution_count": 13,
   "metadata": {},
   "outputs": [],
   "source": [
    "df_corr = pd.DataFrame(df_corr)"
   ]
  },
  {
   "cell_type": "code",
   "execution_count": 14,
   "metadata": {},
   "outputs": [
    {
     "name": "stdout",
     "output_type": "stream",
     "text": [
      "95\n"
     ]
    }
   ],
   "source": [
    "lowcorr_idx = remove_high_corr_factors(df_corr.values)\n",
    "print(len(lowcorr_idx))"
   ]
  },
  {
   "cell_type": "code",
   "execution_count": 15,
   "metadata": {},
   "outputs": [],
   "source": [
    "final = [selected_idx[idx] for idx in lowcorr_idx]"
   ]
  },
  {
   "cell_type": "code",
   "execution_count": 16,
   "metadata": {},
   "outputs": [],
   "source": [
    "\n",
    "# 设置显示最大列数\n",
    "pd.set_option('display.max_columns', None)\n",
    "\n",
    "# 设置显示最大行数\n",
    "pd.set_option('display.max_rows', None)\n",
    "finaldf =  otsmp.df_ic.loc[final]"
   ]
  },
  {
   "cell_type": "code",
   "execution_count": 17,
   "metadata": {},
   "outputs": [
    {
     "name": "stdout",
     "output_type": "stream",
     "text": [
      "                                                  y1        y2        y5\n",
      "20230811171800_satd_lexpr08_lopt34_10_0042  0.029813  0.032791  0.039772\n",
      "20230813143935_satd_lexpr08_lopt34_10_0322  0.011760  0.013922  0.012883\n",
      "20230813145451_satd_lexpr08_lopt34_10_0856  0.026628  0.030035  0.037093\n",
      "20230813145501_satd_lexpr08_lopt34_10_0726  0.029509  0.029523  0.031023\n",
      "20230814092613_satd_lexpr08_lopt34_10_0788  0.030111  0.031117  0.033647\n",
      "20230814092614_satd_lexpr08_lopt34_10_0177  0.010298  0.011240  0.015453\n",
      "20230814092615_satd_lexpr08_lopt34_10_0018  0.021988  0.023256  0.023869\n",
      "20230814092615_satd_lexpr08_lopt34_10_0143  0.022127  0.025572  0.027143\n",
      "20230814102408_satd_lexpr15_lopt34_10_0319  0.026133  0.027363  0.035816\n",
      "20230814175110_satd_lexpr15_lopt34_10_0269  0.025749  0.027213  0.033657\n",
      "20230814175115_satd_lexpr15_lopt34_10_0852  0.035036  0.036162  0.041299\n",
      "20230815095228_satd_lexpr10_lopt34_10_0762  0.021464  0.022482  0.027379\n",
      "20230815095232_satd_lexpr10_lopt34_10_0094  0.033472  0.036471  0.040288\n",
      "20230815095245_satd_lexpr10_lopt34_10_0843  0.028226  0.029200  0.033906\n",
      "20230815095542_satd_lexpr10_lopt34_10_0251  0.015143  0.017106  0.022294\n",
      "20230815140616_satd_lexpr10_lopt34_10_0702  0.028304  0.029108  0.034525\n",
      "20230815140956_satd_lexpr10_lopt34_10_4844  0.021485  0.023092  0.023469\n",
      "20230815145016_satd_lexpr10_lopt34_10_8693  0.014056  0.016170  0.016317\n",
      "20230815145016_satd_lexpr10_lopt34_10_9005  0.014732  0.013866  0.012209\n",
      "20230816101455_satd_lexpr10_lopt34_10_0771  0.025385  0.026914  0.026874\n",
      "20230816101505_satd_lexpr10_lopt34_10_7336  0.024942  0.028451  0.032724\n",
      "20230816101532_satd_lexpr10_lopt34_10_4677  0.030089  0.031868  0.034180\n",
      "20230816165501_satd_lexpr10_lopt34_10_3975  0.023279  0.026425  0.032419\n",
      "20230816165506_satd_lexpr10_lopt34_10_8664  0.025533  0.028755  0.034676\n",
      "20230817091410_satd_lexpr10_lopt34_10_5018  0.015771  0.016928  0.015975\n",
      "20230817094253_satd_lexpr10_lopt34_10_1792  0.024110  0.025859  0.029500\n",
      "20230817094254_satd_lexpr10_lopt34_10_7451  0.021322  0.023015  0.024184\n",
      "20230817103215_satd_lexpr05_lopt34_10_4947  0.026686  0.027207  0.026266\n",
      "20230821092811_satd_lexpr10_lopt50_10_4104  0.019886  0.020964  0.024294\n",
      "20230821130710_satd_lexpr10_lopt50_10_7015  0.021600  0.024574  0.028807\n",
      "20230821130715_satd_lexpr10_lopt50_10_0805  0.022010  0.021753  0.021213\n",
      "20230821175227_satd_lexpr10_lopt50_10_2159  0.023573  0.024698  0.031963\n",
      "20230821175234_satd_lexpr10_lopt50_10_4816  0.025240  0.027277  0.032590\n",
      "20230821175256_satd_lexpr10_lopt50_10_6398  0.011202  0.013388  0.011492\n",
      "20230822092952_satd_lexpr10_lopt50_10_6041  0.019105  0.022969  0.018482\n",
      "20230822093001_satd_lexpr10_lopt50_10_0108  0.029341  0.029946  0.032613\n",
      "20230822093012_satd_lexpr10_lopt50_10_9504  0.019190  0.020759  0.022909\n",
      "20230822093021_satd_lexpr10_lopt50_10_9543  0.016004  0.017901  0.018145\n",
      "20230822112440_satd_lexpr10_lopt50_10_9320  0.025919  0.027676  0.033504\n",
      "20230822131115_satd_lexpr10_lopt50_10_5609  0.026758  0.028797  0.033789\n",
      "20230822140517_satd_lexpr10_lopt50_10_1992  0.010328  0.012688  0.011538\n",
      "20230822145833_satd_lexpr10_lopt50_10_9833  0.016889  0.018582  0.019788\n",
      "20230822154907_satd_lexpr08_lopt50_10_6197  0.025593  0.028593  0.029634\n",
      "20230822155423_satd_lexpr08_lopt50_10_6746  0.031548  0.032585  0.036923\n",
      "20230822172834_satd_lexpr08_lopt50_10_4714  0.020842  0.024311  0.035606\n",
      "20230822174148_satd_lexpr08_lopt50_10_7586  0.023632  0.024262  0.023319\n",
      "20230823000025_satd_lexpr08_lopt50_10_5070  0.017732  0.018505  0.025059\n",
      "20230823000029_satd_lexpr08_lopt50_10_5604  0.032653  0.032845  0.036013\n",
      "20230823095747_satd_lexpr08_lopt50_10_5819  0.012996  0.011148  0.011648\n",
      "20230823095751_satd_lexpr08_lopt50_10_2496  0.036356  0.038088  0.040352\n",
      "20230823095758_satd_lexpr08_lopt50_10_2261  0.016317  0.018228  0.017583\n",
      "20230823095804_satd_lexpr08_lopt50_10_9650  0.010131  0.012202  0.015835\n",
      "20230824092356_satd_lexpr08_lopt50_10_9193  0.017717  0.018395  0.020556\n",
      "20230824092404_satd_lexpr08_lopt50_10_3519  0.024034  0.028028  0.033718\n",
      "20230824092406_satd_lexpr08_lopt50_10_4656  0.032482  0.034357  0.036382\n",
      "20230824092406_satd_lexpr08_lopt50_10_9769  0.027052  0.024880  0.023994\n",
      "20230824092408_satd_lexpr08_lopt50_10_6211  0.020320  0.021614  0.027208\n",
      "20230825003035_satd_lexpr10_lopt50_10_6173  0.019187  0.022581  0.023075\n",
      "20230825003101_satd_lexpr10_lopt50_10_3581  0.026470  0.029093  0.036581\n",
      "20230825090927_satd_lexpr10_lopt50_10_5052  0.015471  0.017252  0.018046\n",
      "20230825103129_satd_lexpr10_lopt50_10_4933  0.017925  0.018374  0.018952\n",
      "20230825130709_satd_lexpr10_lopt50_10_7822  0.013913  0.015093  0.017092\n",
      "20230825130717_satd_lexpr10_lopt50_10_4397  0.031507  0.035963  0.039715\n",
      "20230825155549_satd_lexpr10_lopt50_10_8222  0.032563  0.035158  0.039264\n",
      "20230825155554_satd_lexpr10_lopt50_10_0881  0.021703  0.022510  0.025203\n",
      "20230825155606_satd_lexpr10_lopt50_10_6919  0.016776  0.019384  0.023581\n",
      "20230826132348_satd_lexpr10_lopt50_10_5062  0.026143  0.027310  0.030638\n",
      "20230826132401_satd_lexpr10_lopt50_10_4328  0.016353  0.018430  0.020377\n",
      "20230826132404_satd_lexpr10_lopt50_10_7581  0.029877  0.032167  0.039413\n",
      "20230827010811_satd_lexpr10_lopt50_10_3236  0.017303  0.022024  0.020406\n",
      "20230827010815_satd_lexpr10_lopt50_10_6624  0.022093  0.024674  0.029772\n",
      "20230827010819_satd_lexpr10_lopt50_10_0782  0.025867  0.029322  0.033153\n",
      "20230827010822_satd_lexpr10_lopt50_10_8783  0.018393  0.019231  0.022017\n",
      "20230827133530_satd_lexpr10_lopt50_10_1376  0.033115  0.036924  0.041195\n",
      "20230827133530_satd_lexpr10_lopt50_10_2726  0.025668  0.028476  0.035850\n",
      "20230827133531_satd_lexpr10_lopt50_10_2189  0.025892  0.028621  0.029255\n",
      "20230827133532_satd_lexpr10_lopt50_10_2349  0.025400  0.026762  0.028809\n",
      "20230827133535_satd_lexpr10_lopt50_10_2084  0.012569  0.014043  0.014357\n",
      "20230828110829_satd_lexpr20_lopt50_10_3402  0.029794  0.033626  0.041235\n",
      "20230828110840_satd_lexpr20_lopt50_10_1995  0.022199  0.023704  0.031828\n",
      "20230828110848_satd_lexpr20_lopt50_10_0997  0.024986  0.023251  0.025829\n",
      "20230828110849_satd_lexpr20_lopt50_10_2167  0.022599  0.022960  0.025081\n",
      "20230828133208_satd_lexpr20_lopt50_10_4615  0.026878  0.030198  0.039842\n",
      "20230828133213_satd_lexpr20_lopt50_10_4186  0.026056  0.027216  0.031499\n",
      "20230828151742_satd_lexpr20_lopt50_10_3130  0.018927  0.022821  0.027633\n",
      "20230828164035_satd_lexpr20_lopt50_10_9874  0.028646  0.031744  0.037803\n",
      "20230828164039_satd_lexpr20_lopt50_10_3921  0.013666  0.016706  0.017330\n",
      "20230829091856_satd_lexpr20_lopt50_10_8628  0.022218  0.022725  0.028378\n",
      "20230829132027_satd_lexpr20_lopt50_10_6668  0.019209  0.020282  0.019400\n",
      "20230829132031_satd_lexpr20_lopt50_10_8629  0.022777  0.023559  0.031486\n",
      "20230829154450_satd_lexpr20_lopt50_10_4526  0.020918  0.022708  0.024867\n",
      "20230829165951_satd_lexpr20_lopt50_10_2307  0.017191  0.018013  0.019074\n",
      "20230829165954_satd_lexpr20_lopt50_10_0028  0.029554  0.031833  0.035371\n",
      "20230829165955_satd_lexpr20_lopt50_10_0561  0.015328  0.017678  0.019975\n",
      "20230829184700_satd_lexpr20_lopt50_10_2728  0.027210  0.029444  0.034289\n"
     ]
    }
   ],
   "source": [
    "print(finaldf)"
   ]
  },
  {
   "cell_type": "code",
   "execution_count": 18,
   "metadata": {},
   "outputs": [
    {
     "data": {
      "text/html": [
       "<div>\n",
       "<style scoped>\n",
       "    .dataframe tbody tr th:only-of-type {\n",
       "        vertical-align: middle;\n",
       "    }\n",
       "\n",
       "    .dataframe tbody tr th {\n",
       "        vertical-align: top;\n",
       "    }\n",
       "\n",
       "    .dataframe thead th {\n",
       "        text-align: right;\n",
       "    }\n",
       "</style>\n",
       "<table border=\"1\" class=\"dataframe\">\n",
       "  <thead>\n",
       "    <tr style=\"text-align: right;\">\n",
       "      <th></th>\n",
       "      <th>y1</th>\n",
       "      <th>y2</th>\n",
       "      <th>y5</th>\n",
       "    </tr>\n",
       "  </thead>\n",
       "  <tbody>\n",
       "    <tr>\n",
       "      <th>count</th>\n",
       "      <td>95.000000</td>\n",
       "      <td>95.000000</td>\n",
       "      <td>95.000000</td>\n",
       "    </tr>\n",
       "    <tr>\n",
       "      <th>mean</th>\n",
       "      <td>0.022757</td>\n",
       "      <td>0.024558</td>\n",
       "      <td>0.027700</td>\n",
       "    </tr>\n",
       "    <tr>\n",
       "      <th>std</th>\n",
       "      <td>0.006209</td>\n",
       "      <td>0.006460</td>\n",
       "      <td>0.008193</td>\n",
       "    </tr>\n",
       "    <tr>\n",
       "      <th>min</th>\n",
       "      <td>0.010131</td>\n",
       "      <td>0.011148</td>\n",
       "      <td>0.011492</td>\n",
       "    </tr>\n",
       "    <tr>\n",
       "      <th>25%</th>\n",
       "      <td>0.017829</td>\n",
       "      <td>0.019307</td>\n",
       "      <td>0.020884</td>\n",
       "    </tr>\n",
       "    <tr>\n",
       "      <th>50%</th>\n",
       "      <td>0.022777</td>\n",
       "      <td>0.024574</td>\n",
       "      <td>0.028378</td>\n",
       "    </tr>\n",
       "    <tr>\n",
       "      <th>75%</th>\n",
       "      <td>0.026722</td>\n",
       "      <td>0.029100</td>\n",
       "      <td>0.034043</td>\n",
       "    </tr>\n",
       "    <tr>\n",
       "      <th>max</th>\n",
       "      <td>0.036356</td>\n",
       "      <td>0.038088</td>\n",
       "      <td>0.041299</td>\n",
       "    </tr>\n",
       "  </tbody>\n",
       "</table>\n",
       "</div>"
      ],
      "text/plain": [
       "              y1         y2         y5\n",
       "count  95.000000  95.000000  95.000000\n",
       "mean    0.022757   0.024558   0.027700\n",
       "std     0.006209   0.006460   0.008193\n",
       "min     0.010131   0.011148   0.011492\n",
       "25%     0.017829   0.019307   0.020884\n",
       "50%     0.022777   0.024574   0.028378\n",
       "75%     0.026722   0.029100   0.034043\n",
       "max     0.036356   0.038088   0.041299"
      ]
     },
     "execution_count": 18,
     "metadata": {},
     "output_type": "execute_result"
    }
   ],
   "source": [
    "finaldf.describe()"
   ]
  },
  {
   "cell_type": "code",
   "execution_count": 19,
   "metadata": {},
   "outputs": [],
   "source": [
    "fs  = selected_sigs\n",
    "y1d = otsmp.calter.ret1d\n",
    "y2d = otsmp.calter.ret2d\n",
    "y5d = otsmp.calter.ret5d"
   ]
  },
  {
   "cell_type": "code",
   "execution_count": 20,
   "metadata": {},
   "outputs": [],
   "source": [
    "q1d = [batch_topk(fs[i],y1d) for i in range(len(fs))]\n",
    "q2d = [batch_topk(fs[i],y2d) for i in range(len(fs))]\n",
    "q5d = [batch_topk(fs[i],y5d) for i in range(len(fs))]"
   ]
  },
  {
   "cell_type": "code",
   "execution_count": null,
   "metadata": {},
   "outputs": [],
   "source": [
    "q1d = [q1d[idx] for idx in lowcorr_idx]\n",
    "q2d = [q2d[idx] for idx in lowcorr_idx]\n",
    "q5d = [q5d[idx] for idx  in lowcorr_idx]"
   ]
  },
  {
   "cell_type": "code",
   "execution_count": null,
   "metadata": {},
   "outputs": [],
   "source": [
    "finaldf['q1d'] = q1d\n",
    "finaldf['q2d'] = q2d\n",
    "finaldf['q5d'] = q5d"
   ]
  },
  {
   "cell_type": "code",
   "execution_count": null,
   "metadata": {},
   "outputs": [
    {
     "data": {
      "text/html": [
       "<div>\n",
       "<style scoped>\n",
       "    .dataframe tbody tr th:only-of-type {\n",
       "        vertical-align: middle;\n",
       "    }\n",
       "\n",
       "    .dataframe tbody tr th {\n",
       "        vertical-align: top;\n",
       "    }\n",
       "\n",
       "    .dataframe thead th {\n",
       "        text-align: right;\n",
       "    }\n",
       "</style>\n",
       "<table border=\"1\" class=\"dataframe\">\n",
       "  <thead>\n",
       "    <tr style=\"text-align: right;\">\n",
       "      <th></th>\n",
       "      <th>y1</th>\n",
       "      <th>y2</th>\n",
       "      <th>y5</th>\n",
       "      <th>q1d</th>\n",
       "      <th>q2d</th>\n",
       "      <th>q5d</th>\n",
       "    </tr>\n",
       "  </thead>\n",
       "  <tbody>\n",
       "    <tr>\n",
       "      <th>20230828110829_satd_lexpr20_lopt50_10_3402</th>\n",
       "      <td>0.021288</td>\n",
       "      <td>0.022038</td>\n",
       "      <td>0.022402</td>\n",
       "      <td>(0.00042, 6e-05)</td>\n",
       "      <td>(0.00072, 0.00024)</td>\n",
       "      <td>(0.00141, 0.00072)</td>\n",
       "    </tr>\n",
       "    <tr>\n",
       "      <th>20230828110840_satd_lexpr20_lopt50_10_1995</th>\n",
       "      <td>0.022279</td>\n",
       "      <td>0.023746</td>\n",
       "      <td>0.032066</td>\n",
       "      <td>(9e-05, -0.0009)</td>\n",
       "      <td>(7e-05, -0.00129)</td>\n",
       "      <td>(0.00111, -0.00069)</td>\n",
       "    </tr>\n",
       "    <tr>\n",
       "      <th>20230828110849_satd_lexpr20_lopt50_10_2167</th>\n",
       "      <td>0.022718</td>\n",
       "      <td>0.023017</td>\n",
       "      <td>0.024803</td>\n",
       "      <td>(7e-05, -0.00028)</td>\n",
       "      <td>(0.00012, -0.00047)</td>\n",
       "      <td>(0.00011, -0.00075)</td>\n",
       "    </tr>\n",
       "    <tr>\n",
       "      <th>20230828110853_satd_lexpr20_lopt50_10_8290</th>\n",
       "      <td>0.027974</td>\n",
       "      <td>0.029046</td>\n",
       "      <td>0.034231</td>\n",
       "      <td>(0.00062, 0.00085)</td>\n",
       "      <td>(0.00107, 0.00118)</td>\n",
       "      <td>(0.00243, 0.00305)</td>\n",
       "    </tr>\n",
       "  </tbody>\n",
       "</table>\n",
       "</div>"
      ],
      "text/plain": [
       "                                                  y1        y2        y5  \\\n",
       "20230828110829_satd_lexpr20_lopt50_10_3402  0.021288  0.022038  0.022402   \n",
       "20230828110840_satd_lexpr20_lopt50_10_1995  0.022279  0.023746  0.032066   \n",
       "20230828110849_satd_lexpr20_lopt50_10_2167  0.022718  0.023017  0.024803   \n",
       "20230828110853_satd_lexpr20_lopt50_10_8290  0.027974  0.029046  0.034231   \n",
       "\n",
       "                                                           q1d  \\\n",
       "20230828110829_satd_lexpr20_lopt50_10_3402    (0.00042, 6e-05)   \n",
       "20230828110840_satd_lexpr20_lopt50_10_1995    (9e-05, -0.0009)   \n",
       "20230828110849_satd_lexpr20_lopt50_10_2167   (7e-05, -0.00028)   \n",
       "20230828110853_satd_lexpr20_lopt50_10_8290  (0.00062, 0.00085)   \n",
       "\n",
       "                                                            q2d  \\\n",
       "20230828110829_satd_lexpr20_lopt50_10_3402   (0.00072, 0.00024)   \n",
       "20230828110840_satd_lexpr20_lopt50_10_1995    (7e-05, -0.00129)   \n",
       "20230828110849_satd_lexpr20_lopt50_10_2167  (0.00012, -0.00047)   \n",
       "20230828110853_satd_lexpr20_lopt50_10_8290   (0.00107, 0.00118)   \n",
       "\n",
       "                                                            q5d  \n",
       "20230828110829_satd_lexpr20_lopt50_10_3402   (0.00141, 0.00072)  \n",
       "20230828110840_satd_lexpr20_lopt50_10_1995  (0.00111, -0.00069)  \n",
       "20230828110849_satd_lexpr20_lopt50_10_2167  (0.00011, -0.00075)  \n",
       "20230828110853_satd_lexpr20_lopt50_10_8290   (0.00243, 0.00305)  "
      ]
     },
     "execution_count": 23,
     "metadata": {},
     "output_type": "execute_result"
    }
   ],
   "source": [
    "finaldf"
   ]
  },
  {
   "cell_type": "code",
   "execution_count": null,
   "metadata": {},
   "outputs": [],
   "source": [
    "# finaldf.to_csv('result.csv')"
   ]
  },
  {
   "cell_type": "code",
   "execution_count": null,
   "metadata": {},
   "outputs": [],
   "source": [
    "# df_corr.iloc[lowcorr_idx,lowcorr_idx].to_csv('df_corr.csv')"
   ]
  },
  {
   "cell_type": "code",
   "execution_count": 26,
   "metadata": {},
   "outputs": [
    {
     "data": {
      "text/html": [
       "<div>\n",
       "<style scoped>\n",
       "    .dataframe tbody tr th:only-of-type {\n",
       "        vertical-align: middle;\n",
       "    }\n",
       "\n",
       "    .dataframe tbody tr th {\n",
       "        vertical-align: top;\n",
       "    }\n",
       "\n",
       "    .dataframe thead th {\n",
       "        text-align: right;\n",
       "    }\n",
       "</style>\n",
       "<table border=\"1\" class=\"dataframe\">\n",
       "  <thead>\n",
       "    <tr style=\"text-align: right;\">\n",
       "      <th></th>\n",
       "      <th>0</th>\n",
       "      <th>1</th>\n",
       "      <th>2</th>\n",
       "      <th>3</th>\n",
       "    </tr>\n",
       "  </thead>\n",
       "  <tbody>\n",
       "    <tr>\n",
       "      <th>count</th>\n",
       "      <td>4.000000</td>\n",
       "      <td>4.000000</td>\n",
       "      <td>4.000000</td>\n",
       "      <td>4.000000</td>\n",
       "    </tr>\n",
       "    <tr>\n",
       "      <th>mean</th>\n",
       "      <td>0.263824</td>\n",
       "      <td>0.275655</td>\n",
       "      <td>0.281087</td>\n",
       "      <td>0.287631</td>\n",
       "    </tr>\n",
       "    <tr>\n",
       "      <th>std</th>\n",
       "      <td>0.178281</td>\n",
       "      <td>0.187343</td>\n",
       "      <td>0.188382</td>\n",
       "      <td>0.191851</td>\n",
       "    </tr>\n",
       "    <tr>\n",
       "      <th>min</th>\n",
       "      <td>0.000000</td>\n",
       "      <td>0.000000</td>\n",
       "      <td>0.000000</td>\n",
       "      <td>0.000000</td>\n",
       "    </tr>\n",
       "    <tr>\n",
       "      <th>25%</th>\n",
       "      <td>0.237301</td>\n",
       "      <td>0.237301</td>\n",
       "      <td>0.263332</td>\n",
       "      <td>0.281160</td>\n",
       "    </tr>\n",
       "    <tr>\n",
       "      <th>50%</th>\n",
       "      <td>0.333755</td>\n",
       "      <td>0.352131</td>\n",
       "      <td>0.362994</td>\n",
       "      <td>0.381333</td>\n",
       "    </tr>\n",
       "    <tr>\n",
       "      <th>75%</th>\n",
       "      <td>0.360278</td>\n",
       "      <td>0.390484</td>\n",
       "      <td>0.380750</td>\n",
       "      <td>0.387804</td>\n",
       "    </tr>\n",
       "    <tr>\n",
       "      <th>max</th>\n",
       "      <td>0.387786</td>\n",
       "      <td>0.398359</td>\n",
       "      <td>0.398359</td>\n",
       "      <td>0.387859</td>\n",
       "    </tr>\n",
       "  </tbody>\n",
       "</table>\n",
       "</div>"
      ],
      "text/plain": [
       "              0         1         2         3\n",
       "count  4.000000  4.000000  4.000000  4.000000\n",
       "mean   0.263824  0.275655  0.281087  0.287631\n",
       "std    0.178281  0.187343  0.188382  0.191851\n",
       "min    0.000000  0.000000  0.000000  0.000000\n",
       "25%    0.237301  0.237301  0.263332  0.281160\n",
       "50%    0.333755  0.352131  0.362994  0.381333\n",
       "75%    0.360278  0.390484  0.380750  0.387804\n",
       "max    0.387786  0.398359  0.398359  0.387859"
      ]
     },
     "execution_count": 26,
     "metadata": {},
     "output_type": "execute_result"
    }
   ],
   "source": [
    "df_corr.replace(1,0).describe()"
   ]
  },
  {
   "cell_type": "code",
   "execution_count": null,
   "metadata": {},
   "outputs": [],
   "source": []
  },
  {
   "cell_type": "code",
   "execution_count": null,
   "metadata": {},
   "outputs": [],
   "source": []
  },
  {
   "cell_type": "code",
   "execution_count": null,
   "metadata": {},
   "outputs": [],
   "source": []
  },
  {
   "cell_type": "code",
   "execution_count": null,
   "metadata": {},
   "outputs": [],
   "source": []
  }
 ],
 "metadata": {
  "kernelspec": {
   "display_name": "Python 3 (ipykernel)",
   "language": "python",
   "name": "python3"
  },
  "language_info": {
   "codemirror_mode": {
    "name": "ipython",
    "version": 3
   },
   "file_extension": ".py",
   "mimetype": "text/x-python",
   "name": "python",
   "nbconvert_exporter": "python",
   "pygments_lexer": "ipython3",
   "version": "3.11.3"
  }
 },
 "nbformat": 4,
 "nbformat_minor": 4
}
