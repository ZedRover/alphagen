{
 "cells": [
  {
   "cell_type": "code",
   "execution_count": 9,
   "metadata": {},
   "outputs": [],
   "source": [
    "import torch\n",
    "import numpy as np\n",
    "import SharedArray as sa\n",
    "import taichi as ti\n",
    "import taichi.math as tm"
   ]
  },
  {
   "cell_type": "code",
   "execution_count": 4,
   "metadata": {},
   "outputs": [
    {
     "name": "stdout",
     "output_type": "stream",
     "text": [
      "[Taichi] Starting on arch=x64\n"
     ]
    }
   ],
   "source": [
    "ti.init(arch=ti.cpu, default_fp=ti.f32)"
   ]
  },
  {
   "cell_type": "code",
   "execution_count": 7,
   "metadata": {},
   "outputs": [],
   "source": [
    "feat = sa.attach(\"qopen\").reshape(-1, 6000)"
   ]
  },
  {
   "cell_type": "code",
   "execution_count": 8,
   "metadata": {},
   "outputs": [
    {
     "data": {
      "text/plain": [
       "(11664, 6000)"
      ]
     },
     "execution_count": 8,
     "metadata": {},
     "output_type": "execute_result"
    }
   ],
   "source": [
    "feat.shape"
   ]
  },
  {
   "cell_type": "code",
   "execution_count": 21,
   "metadata": {},
   "outputs": [
    {
     "ename": "TaichiCompilationError",
     "evalue": "\nFile \"/tmp/ipykernel_27506/703058511.py\", line 8, in _apply:\n        res = operand.unfold(0, window, 1)\n              ^^^^^^^^^^^^^^\nTraceback (most recent call last):\n  File \"/home/ray/anaconda3/envs/qlib/lib/python3.8/site-packages/taichi/lang/ast/ast_transformer_utils.py\", line 27, in __call__\n    return method(ctx, node)\n  File \"/home/ray/anaconda3/envs/qlib/lib/python3.8/site-packages/taichi/lang/ast/ast_transformer.py\", line 899, in build_Attribute\n    node.ptr = getattr(node.value.ptr, node.attr)\nAttributeError: 'AnyArray' object has no attribute 'unfold'\n",
     "output_type": "error",
     "traceback": [
      "\u001b[0;31m---------------------------------------------------------------------------\u001b[0m",
      "\u001b[0;31mTaichiCompilationError\u001b[0m                    Traceback (most recent call last)",
      "\u001b[1;32m/home/ray/workspace/alphagen/test_taichi.ipynb Cell 5\u001b[0m in \u001b[0;36m<cell line: 17>\u001b[0;34m()\u001b[0m\n\u001b[1;32m     <a href='vscode-notebook-cell://ssh-remote%2Bray/home/ray/workspace/alphagen/test_taichi.ipynb#W5sdnNjb2RlLXJlbW90ZQ%3D%3D?line=14'>15</a>\u001b[0m         rank[mask[\u001b[39m0\u001b[39m]] \u001b[39m=\u001b[39m torch\u001b[39m.\u001b[39mtensor(\u001b[39mfloat\u001b[39m(\u001b[39m\"\u001b[39m\u001b[39mnan\u001b[39m\u001b[39m\"\u001b[39m))\n\u001b[1;32m     <a href='vscode-notebook-cell://ssh-remote%2Bray/home/ray/workspace/alphagen/test_taichi.ipynb#W5sdnNjb2RlLXJlbW90ZQ%3D%3D?line=15'>16</a>\u001b[0m         \u001b[39mreturn\u001b[39;00m rank\n\u001b[0;32m---> <a href='vscode-notebook-cell://ssh-remote%2Bray/home/ray/workspace/alphagen/test_taichi.ipynb#W5sdnNjb2RlLXJlbW90ZQ%3D%3D?line=16'>17</a>\u001b[0m ts \u001b[39m=\u001b[39m TsRank(feat)\u001b[39m.\u001b[39;49m_apply(feat)\n",
      "File \u001b[0;32m~/anaconda3/envs/qlib/lib/python3.8/site-packages/taichi/lang/kernel_impl.py:1035\u001b[0m, in \u001b[0;36m_BoundedDifferentiableMethod.__call__\u001b[0;34m(self, *args, **kwargs)\u001b[0m\n\u001b[1;32m   1033\u001b[0m     \u001b[39mreturn\u001b[39;00m \u001b[39mself\u001b[39m\u001b[39m.\u001b[39m_primal(\u001b[39mself\u001b[39m\u001b[39m.\u001b[39m_kernel_owner, \u001b[39m*\u001b[39margs, \u001b[39m*\u001b[39m\u001b[39m*\u001b[39mkwargs)\n\u001b[1;32m   1034\u001b[0m \u001b[39mexcept\u001b[39;00m (TaichiCompilationError, TaichiRuntimeError) \u001b[39mas\u001b[39;00m e:\n\u001b[0;32m-> 1035\u001b[0m     \u001b[39mraise\u001b[39;00m \u001b[39mtype\u001b[39m(e)(\u001b[39m\"\u001b[39m\u001b[39m\\n\u001b[39;00m\u001b[39m\"\u001b[39m \u001b[39m+\u001b[39m \u001b[39mstr\u001b[39m(e)) \u001b[39mfrom\u001b[39;00m \u001b[39mNone\u001b[39;00m\n",
      "\u001b[0;31mTaichiCompilationError\u001b[0m: \nFile \"/tmp/ipykernel_27506/703058511.py\", line 8, in _apply:\n        res = operand.unfold(0, window, 1)\n              ^^^^^^^^^^^^^^\nTraceback (most recent call last):\n  File \"/home/ray/anaconda3/envs/qlib/lib/python3.8/site-packages/taichi/lang/ast/ast_transformer_utils.py\", line 27, in __call__\n    return method(ctx, node)\n  File \"/home/ray/anaconda3/envs/qlib/lib/python3.8/site-packages/taichi/lang/ast/ast_transformer.py\", line 899, in build_Attribute\n    node.ptr = getattr(node.value.ptr, node.attr)\nAttributeError: 'AnyArray' object has no attribute 'unfold'\n"
     ]
    }
   ],
   "source": [
    "@ti.data_oriented\n",
    "class TsRank:\n",
    "    def __init__(self, operand: ti.types.f32):\n",
    "        pass\n",
    "\n",
    "    @ti.kernel\n",
    "    def _apply(self, operand: ti.types.ndarray(ndim=2)):\n",
    "        window = 5\n",
    "        res = operand.unfold(0, window, 1)\n",
    "        mask = torch.isnan(res)\n",
    "        validnum = torch.sum(torch.isfinite(res), dim=1, keepdim=True)\n",
    "        low = torch.sum(res < res[[0], :], dim=1, keepdim=True)\n",
    "        high = validnum - torch.sum(res > res[[0], :], dim=1, keepdim=True)\n",
    "        rank = (high + low - 1) / (validnum - 1) - 1\n",
    "        rank[validnum == 1] = 0\n",
    "        rank[mask[0]] = torch.tensor(float(\"nan\"))\n",
    "        return rank\n",
    "\n",
    "\n",
    "ts = TsRank(feat)._apply(feat)"
   ]
  },
  {
   "cell_type": "code",
   "execution_count": 33,
   "metadata": {},
   "outputs": [
    {
     "ename": "TaichiCompilationError",
     "evalue": "\nFile \"/tmp/ipykernel_27506/3714816978.py\", line 19, in _apply:\n                values = ti.field(dtype=ti.f32, shape=(cols,))\n                         ^^^^^^^^^^^^^^^^^^^^^^^^^^^^^^^^^^^^^\nTraceback (most recent call last):\n  File \"/home/ray/anaconda3/envs/qlib/lib/python3.8/site-packages/taichi/lang/ast/ast_transformer_utils.py\", line 27, in __call__\n    return method(ctx, node)\n  File \"/home/ray/anaconda3/envs/qlib/lib/python3.8/site-packages/taichi/lang/ast/ast_transformer.py\", line 581, in build_Call\n    node.ptr = func(*args, **keywords)\n  File \"/home/ray/anaconda3/envs/qlib/lib/python3.8/site-packages/taichi/lang/util.py\", line 320, in wrapped\n    assert in_python_scope(), f\"{func.__name__} cannot be called in Taichi-scope\"\nAssertionError: field cannot be called in Taichi-scope\n",
     "output_type": "error",
     "traceback": [
      "\u001b[0;31m---------------------------------------------------------------------------\u001b[0m",
      "\u001b[0;31mTaichiCompilationError\u001b[0m                    Traceback (most recent call last)",
      "\u001b[1;32m/home/ray/workspace/alphagen/test_taichi.ipynb Cell 6\u001b[0m in \u001b[0;36m<cell line: 37>\u001b[0;34m()\u001b[0m\n\u001b[1;32m     <a href='vscode-notebook-cell://ssh-remote%2Bray/home/ray/workspace/alphagen/test_taichi.ipynb#X10sdnNjb2RlLXJlbW90ZQ%3D%3D?line=34'>35</a>\u001b[0m \u001b[39m# Assuming feat is a 2D numpy array\u001b[39;00m\n\u001b[1;32m     <a href='vscode-notebook-cell://ssh-remote%2Bray/home/ray/workspace/alphagen/test_taichi.ipynb#X10sdnNjb2RlLXJlbW90ZQ%3D%3D?line=35'>36</a>\u001b[0m feat \u001b[39m=\u001b[39m np\u001b[39m.\u001b[39mrandom\u001b[39m.\u001b[39mrand(\u001b[39m100\u001b[39m, \u001b[39m50\u001b[39m)\u001b[39m.\u001b[39mastype(np\u001b[39m.\u001b[39mfloat32)\n\u001b[0;32m---> <a href='vscode-notebook-cell://ssh-remote%2Bray/home/ray/workspace/alphagen/test_taichi.ipynb#X10sdnNjb2RlLXJlbW90ZQ%3D%3D?line=36'>37</a>\u001b[0m test \u001b[39m=\u001b[39m TsRank(feat\u001b[39m.\u001b[39;49mshape)\u001b[39m.\u001b[39;49m_apply(feat)\n",
      "File \u001b[0;32m~/anaconda3/envs/qlib/lib/python3.8/site-packages/taichi/lang/kernel_impl.py:1035\u001b[0m, in \u001b[0;36m_BoundedDifferentiableMethod.__call__\u001b[0;34m(self, *args, **kwargs)\u001b[0m\n\u001b[1;32m   1033\u001b[0m     \u001b[39mreturn\u001b[39;00m \u001b[39mself\u001b[39m\u001b[39m.\u001b[39m_primal(\u001b[39mself\u001b[39m\u001b[39m.\u001b[39m_kernel_owner, \u001b[39m*\u001b[39margs, \u001b[39m*\u001b[39m\u001b[39m*\u001b[39mkwargs)\n\u001b[1;32m   1034\u001b[0m \u001b[39mexcept\u001b[39;00m (TaichiCompilationError, TaichiRuntimeError) \u001b[39mas\u001b[39;00m e:\n\u001b[0;32m-> 1035\u001b[0m     \u001b[39mraise\u001b[39;00m \u001b[39mtype\u001b[39m(e)(\u001b[39m\"\u001b[39m\u001b[39m\\n\u001b[39;00m\u001b[39m\"\u001b[39m \u001b[39m+\u001b[39m \u001b[39mstr\u001b[39m(e)) \u001b[39mfrom\u001b[39;00m \u001b[39mNone\u001b[39;00m\n",
      "\u001b[0;31mTaichiCompilationError\u001b[0m: \nFile \"/tmp/ipykernel_27506/3714816978.py\", line 19, in _apply:\n                values = ti.field(dtype=ti.f32, shape=(cols,))\n                         ^^^^^^^^^^^^^^^^^^^^^^^^^^^^^^^^^^^^^\nTraceback (most recent call last):\n  File \"/home/ray/anaconda3/envs/qlib/lib/python3.8/site-packages/taichi/lang/ast/ast_transformer_utils.py\", line 27, in __call__\n    return method(ctx, node)\n  File \"/home/ray/anaconda3/envs/qlib/lib/python3.8/site-packages/taichi/lang/ast/ast_transformer.py\", line 581, in build_Call\n    node.ptr = func(*args, **keywords)\n  File \"/home/ray/anaconda3/envs/qlib/lib/python3.8/site-packages/taichi/lang/util.py\", line 320, in wrapped\n    assert in_python_scope(), f\"{func.__name__} cannot be called in Taichi-scope\"\nAssertionError: field cannot be called in Taichi-scope\n"
     ]
    }
   ],
   "source": [
    "import taichi as ti\n",
    "import numpy as np\n",
    "\n",
    "\n",
    "@ti.data_oriented\n",
    "class TsRank:\n",
    "    def __init__(self, shape):\n",
    "        self.rank = ti.field(dtype=ti.f32, shape=shape)\n",
    "\n",
    "    @ti.kernel\n",
    "    def _apply(self, operand: ti.types.ndarray(ndim=2)):\n",
    "        window = 5\n",
    "        rows, cols = operand.shape[0], operand.shape[1]\n",
    "\n",
    "        for i in range(rows):\n",
    "            for j in range(cols):\n",
    "                if i < window - 1:\n",
    "                    continue  # Skip the nan assignment\n",
    "\n",
    "                values = ti.field(dtype=ti.f32, shape=(cols,))\n",
    "                for k in ti.static(range(cols)):\n",
    "                    values[k] = operand[i, k]\n",
    "\n",
    "                current_val = operand[i, j]\n",
    "                less_than = sum([1 for v in values if v < current_val])\n",
    "                greater_than = sum([1 for v in values if v > current_val])\n",
    "                valid_num = sum([1 for v in values if not ti.is_inf(v)])\n",
    "\n",
    "                if valid_num == 1:\n",
    "                    self.rank[i, j] = 0\n",
    "                else:\n",
    "                    self.rank[i, j] = (less_than + greater_than - 1) / (\n",
    "                        valid_num - 1\n",
    "                    ) - 1\n",
    "\n",
    "        return self.rank\n",
    "\n",
    "\n",
    "# Assuming feat is a 2D numpy array\n",
    "feat = np.random.rand(100, 50).astype(np.float32)\n",
    "test = TsRank(feat.shape)._apply(feat)"
   ]
  },
  {
   "cell_type": "code",
   "execution_count": 2,
   "metadata": {},
   "outputs": [],
   "source": [
    "from alphagen.data.expression_ocean import TsMax"
   ]
  },
  {
   "cell_type": "code",
   "execution_count": null,
   "metadata": {},
   "outputs": [],
   "source": []
  },
  {
   "cell_type": "code",
   "execution_count": null,
   "metadata": {},
   "outputs": [],
   "source": []
  },
  {
   "cell_type": "code",
   "execution_count": null,
   "metadata": {},
   "outputs": [],
   "source": []
  },
  {
   "cell_type": "code",
   "execution_count": null,
   "metadata": {},
   "outputs": [],
   "source": []
  }
 ],
 "metadata": {
  "kernelspec": {
   "display_name": "qlib",
   "language": "python",
   "name": "python3"
  },
  "language_info": {
   "codemirror_mode": {
    "name": "ipython",
    "version": 3
   },
   "file_extension": ".py",
   "mimetype": "text/x-python",
   "name": "python",
   "nbconvert_exporter": "python",
   "pygments_lexer": "ipython3",
   "version": "3.8.0"
  },
  "orig_nbformat": 4
 },
 "nbformat": 4,
 "nbformat_minor": 2
}
