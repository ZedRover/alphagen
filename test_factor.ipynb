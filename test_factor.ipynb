{
 "cells": [
  {
   "cell_type": "code",
   "execution_count": 2,
   "metadata": {},
   "outputs": [],
   "source": [
    "import SharedArray as sa\n",
    "import numpy as np\n",
    "import pandas as pd"
   ]
  },
  {
   "cell_type": "code",
   "execution_count": 3,
   "metadata": {},
   "outputs": [],
   "source": [
    "qintra_spreadavgmidp11 = sa.attach(\"qintra_spreadavgmidp11\").reshape(-1, 6000)\n",
    "qtwap = sa.attach(\"qtwap\").reshape(-1, 6000)\n",
    "qhigh = sa.attach(\"qhigh\").reshape(-1, 6000)\n",
    "qs_val_mv = sa.attach(\"qs_val_mv\").reshape(-1, 6000)\n",
    "qret10 = sa.attach(\"qret10\").reshape(-1, 6000)\n",
    "qintra_midprice10_ret_stdev = sa.attach(\"qintra_midprice10_ret_stdev\").reshape(-1, 6000)\n",
    "qintra_price5avgmidp11 = sa.attach(\"qintra_price5avgmidp11\").reshape(-1, 6000)\n",
    "qopen_moneyflow_pct_value_l = sa.attach(\"qopen_moneyflow_pct_value_l\").reshape(-1, 6000)"
   ]
  },
  {
   "cell_type": "code",
   "execution_count": 4,
   "metadata": {},
   "outputs": [
    {
     "data": {
      "text/plain": [
       "array([1, 1, 1, 1])"
      ]
     },
     "execution_count": 4,
     "metadata": {},
     "output_type": "execute_result"
    }
   ],
   "source": [
    "a = np.array([1, 2, 3, 4])\n",
    "np.diff(a, prepend=[0])"
   ]
  },
  {
   "cell_type": "code",
   "execution_count": 5,
   "metadata": {},
   "outputs": [
    {
     "data": {
      "text/plain": [
       "array([4, 1, 2, 3])"
      ]
     },
     "execution_count": 5,
     "metadata": {},
     "output_type": "execute_result"
    }
   ],
   "source": [
    "np.roll(a, 1)"
   ]
  },
  {
   "cell_type": "code",
   "execution_count": 12,
   "metadata": {},
   "outputs": [
    {
     "data": {
      "text/plain": [
       "array([[3.9236556e-07, 3.9236556e-07, 3.9236556e-07, ..., 3.9236556e-07,\n",
       "        3.9236556e-07, 3.9236556e-07],\n",
       "       [2.1579437e-07, 2.1579437e-07, 2.1579437e-07, ..., 2.1579437e-07,\n",
       "        2.1579437e-07, 2.1579437e-07],\n",
       "       [3.2096884e-07, 3.2096884e-07, 3.2096884e-07, ..., 3.2096884e-07,\n",
       "        3.2096884e-07, 3.2096884e-07],\n",
       "       ...,\n",
       "       [1.4150245e-07, 1.4150245e-07, 1.4150245e-07, ..., 1.4150245e-07,\n",
       "        1.4150245e-07, 1.4150245e-07],\n",
       "       [1.3409537e-07, 1.3409537e-07, 1.3409537e-07, ..., 1.3409537e-07,\n",
       "        1.3409537e-07, 1.3409537e-07],\n",
       "       [1.7654948e-07, 1.7654948e-07, 1.7654948e-07, ..., 1.7654948e-07,\n",
       "        1.7654948e-07, 1.7654948e-07]], dtype=float32)"
      ]
     },
     "execution_count": 12,
     "metadata": {},
     "output_type": "execute_result"
    }
   ],
   "source": [
    "np.nanvar(qintra_midprice10_ret_stdev, axis=1).reshape(-1, 1).repeat(6000).reshape(\n",
    "    -1, 6000\n",
    ")"
   ]
  },
  {
   "cell_type": "code",
   "execution_count": 13,
   "metadata": {},
   "outputs": [],
   "source": [
    "factor = [\n",
    "    np.add(qintra_spreadavgmidp11, 50),\n",
    "    qintra_spreadavgmidp11 - np.mean(qintra_spreadavgmidp11),\n",
    "    np.divide(qtwap, qhigh),\n",
    "    qintra_spreadavgmidp11 - qs_val_mv - np.roll(qs_val_mv, 1),\n",
    "    qret10,\n",
    "    np.nanvar(qintra_midprice10_ret_stdev, axis=1)\n",
    "    .reshape(-1, 1)\n",
    "    .repeat(6000)\n",
    "    .reshape(-1, 6000),\n",
    "    qintra_price5avgmidp11,\n",
    "    np.zeros_like(qintra_price5avgmidp11),\n",
    "    np.minimum(qintra_spreadavgmidp11, 10),\n",
    "    np.add(qopen_moneyflow_pct_value_l, qintra_spreadavgmidp11),\n",
    "]"
   ]
  },
  {
   "cell_type": "code",
   "execution_count": 14,
   "metadata": {},
   "outputs": [],
   "source": [
    "weights = np.array(\n",
    "    [\n",
    "        0.01935759658112865,\n",
    "        -0.013828770619796444,\n",
    "        0.018830056369921407,\n",
    "        -0.020424429368565564,\n",
    "        -0.015565638852459636,\n",
    "        -0.03826804504806913,\n",
    "        -0.016740935787083692,\n",
    "        0.06776920156106174,\n",
    "        0.05998665475668967,\n",
    "        0.016451108364566647,\n",
    "    ]\n",
    ")"
   ]
  },
  {
   "cell_type": "code",
   "execution_count": 16,
   "metadata": {},
   "outputs": [
    {
     "ename": "ValueError",
     "evalue": "shapes (10,) and (10,11664,6000) not aligned: 10 (dim 0) != 11664 (dim 1)",
     "output_type": "error",
     "traceback": [
      "\u001b[0;31m---------------------------------------------------------------------------\u001b[0m",
      "\u001b[0;31mValueError\u001b[0m                                Traceback (most recent call last)",
      "\u001b[1;32m/home/ray/workspace/alphagen/test_factor.ipynb Cell 8\u001b[0m in \u001b[0;36m<cell line: 1>\u001b[0;34m()\u001b[0m\n\u001b[0;32m----> <a href='vscode-notebook-cell://ssh-remote%2Bray/home/ray/workspace/alphagen/test_factor.ipynb#W6sdnNjb2RlLXJlbW90ZQ%3D%3D?line=0'>1</a>\u001b[0m np\u001b[39m.\u001b[39;49mdot(weights,factor)\n",
      "File \u001b[0;32m<__array_function__ internals>:180\u001b[0m, in \u001b[0;36mdot\u001b[0;34m(*args, **kwargs)\u001b[0m\n",
      "\u001b[0;31mValueError\u001b[0m: shapes (10,) and (10,11664,6000) not aligned: 10 (dim 0) != 11664 (dim 1)"
     ]
    }
   ],
   "source": [
    "np.dot(weights, factor)"
   ]
  },
  {
   "cell_type": "code",
   "execution_count": 20,
   "metadata": {},
   "outputs": [],
   "source": [
    "res = np.zeros_like(factor[0])\n",
    "for i in range(10):\n",
    "    res += weights[i] + np.nan_to_num(factor[i], 0, 0, 0)"
   ]
  },
  {
   "cell_type": "code",
   "execution_count": 22,
   "metadata": {},
   "outputs": [
    {
     "data": {
      "text/plain": [
       "(11664, 6000)"
      ]
     },
     "execution_count": 22,
     "metadata": {},
     "output_type": "execute_result"
    }
   ],
   "source": [
    "res.shape"
   ]
  },
  {
   "cell_type": "code",
   "execution_count": 23,
   "metadata": {},
   "outputs": [
    {
     "data": {
      "text/plain": [
       "array([[ 6.4265060e+01, -8.3574190e+09, -1.2342139e+10, ...,\n",
       "         7.7567190e-02,  7.7567190e-02,  7.7567190e-02],\n",
       "       [ 6.2481525e+01, -8.3574190e+09, -1.2342139e+10, ...,\n",
       "         7.7567019e-02,  7.7567019e-02,  7.7567019e-02],\n",
       "       [ 6.2179817e+01, -8.3574190e+09, -1.2342139e+10, ...,\n",
       "         7.7567123e-02,  7.7567123e-02,  7.7567123e-02],\n",
       "       ...,\n",
       "       [ 6.4138420e+01, -7.8454303e+09, -1.4270228e+10, ...,\n",
       "         7.7566944e-02,  7.7566944e-02,  7.7566944e-02],\n",
       "       [ 6.4108963e+01, -7.8454303e+09, -1.4270228e+10, ...,\n",
       "         7.7566937e-02,  7.7566937e-02,  7.7566937e-02],\n",
       "       [ 6.2991024e+01, -7.8454303e+09, -1.4270228e+10, ...,\n",
       "         7.7566974e-02,  7.7566974e-02,  7.7566974e-02]], dtype=float32)"
      ]
     },
     "execution_count": 23,
     "metadata": {},
     "output_type": "execute_result"
    }
   ],
   "source": [
    "res"
   ]
  },
  {
   "cell_type": "code",
   "execution_count": 25,
   "metadata": {},
   "outputs": [],
   "source": [
    "y = np.load(\"/home/public2/share_yw/data/basic_info/RET1D.npy\")"
   ]
  },
  {
   "cell_type": "code",
   "execution_count": 30,
   "metadata": {},
   "outputs": [],
   "source": [
    "from scipy.stats import pearsonr\n",
    "\n",
    "\n",
    "def batch_pearsonr(x, y):\n",
    "    results = []\n",
    "    for row in range(len(x)):\n",
    "        x_row = x[row]\n",
    "        y_row = y[row]\n",
    "        mask = ~np.isnan(y_row)\n",
    "        x_row = x_row[mask]\n",
    "        y_row = y_row[mask]\n",
    "        if len(x_row) > 0:\n",
    "            ic = pearsonr(x_row, y_row)[0]\n",
    "            results.append(ic)\n",
    "    return results"
   ]
  },
  {
   "cell_type": "code",
   "execution_count": 31,
   "metadata": {},
   "outputs": [
    {
     "data": {
      "text/plain": [
       "(729, 16, 6000)"
      ]
     },
     "execution_count": 31,
     "metadata": {},
     "output_type": "execute_result"
    }
   ],
   "source": [
    "y.shape"
   ]
  },
  {
   "cell_type": "code",
   "execution_count": 32,
   "metadata": {},
   "outputs": [],
   "source": [
    "ics = batch_pearsonr(res, y.reshape(-1, 6000))"
   ]
  },
  {
   "cell_type": "code",
   "execution_count": 35,
   "metadata": {},
   "outputs": [
    {
     "data": {
      "text/plain": [
       "0.0015701212946634558"
      ]
     },
     "execution_count": 35,
     "metadata": {},
     "output_type": "execute_result"
    }
   ],
   "source": [
    "np.mean(ics)"
   ]
  },
  {
   "cell_type": "code",
   "execution_count": null,
   "metadata": {},
   "outputs": [],
   "source": []
  }
 ],
 "metadata": {
  "kernelspec": {
   "display_name": "qlib",
   "language": "python",
   "name": "python3"
  },
  "language_info": {
   "codemirror_mode": {
    "name": "ipython",
    "version": 3
   },
   "file_extension": ".py",
   "mimetype": "text/x-python",
   "name": "python",
   "nbconvert_exporter": "python",
   "pygments_lexer": "ipython3",
   "version": "3.8.0"
  },
  "orig_nbformat": 4
 },
 "nbformat": 4,
 "nbformat_minor": 2
}
