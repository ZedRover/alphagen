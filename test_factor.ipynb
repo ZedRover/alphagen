{
 "cells": [
  {
   "cell_type": "code",
   "execution_count": null,
   "metadata": {},
   "outputs": [],
   "source": [
    "import json\n",
    "import os\n",
    "import SharedArray as sa\n",
    "from typing import Optional\n",
    "from datetime import datetime\n",
    "import json\n",
    "import random\n",
    "import numpy as np\n",
    "import torch\n",
    "import pandas as pd\n",
    "import glob\n",
    "from alphagen.data.expression import *\n",
    "from alphagen_ocean.calculator import QLibStockDataCalculator\n",
    "from alphagen_ocean.stock_data import ArgData\n",
    "from alphagen.config import *\n",
    "from alphagen.data.tree import ExpressionBuilder\n",
    "from alphagen.data.tokens import *\n",
    "\n",
    "from utils import formula_to_expression"
   ]
  },
  {
   "cell_type": "code",
   "execution_count": null,
   "metadata": {},
   "outputs": [],
   "source": [
    "device = torch.device(\"cpu\")\n",
    "cuda = torch.device(\"cuda:3\")\n",
    "data_test = ArgData(\n",
    "    start_time=20210101,\n",
    "    end_time=20211231,\n",
    "    device=device,\n",
    ")"
   ]
  },
  {
   "cell_type": "code",
   "execution_count": null,
   "metadata": {},
   "outputs": [],
   "source": [
    "from glob import glob\n",
    "paths = sorted(glob('checkpoints/*/'))\n",
    "json_paths = [sorted(\n",
    "              glob(path + \"*.json\"), key=lambda x: int(x.split(\"/\")[-1].split(\"_\")[0])\n",
    "            )[-1] for path in paths]"
   ]
  },
  {
   "cell_type": "code",
   "execution_count": null,
   "metadata": {},
   "outputs": [],
   "source": [
    "import utils\n",
    "from concurrent.futures import ProcessPoolExecutor"
   ]
  },
  {
   "cell_type": "code",
   "execution_count": null,
   "metadata": {},
   "outputs": [],
   "source": [
    "with ProcessPoolExecutor(max_workers=160) as executor:\n",
    "    results = executor.map(utils.json_to_factor, json_paths)\n",
    "    "
   ]
  },
  {
   "cell_type": "code",
   "execution_count": null,
   "metadata": {},
   "outputs": [],
   "source": [
    "factors = list(results)"
   ]
  },
  {
   "cell_type": "code",
   "execution_count": null,
   "metadata": {},
   "outputs": [],
   "source": [
    "factors"
   ]
  },
  {
   "cell_type": "code",
   "execution_count": null,
   "metadata": {},
   "outputs": [],
   "source": [
    "import ray\n",
    "ray.init(num_cpus=160)"
   ]
  },
  {
   "cell_type": "code",
   "execution_count": null,
   "metadata": {},
   "outputs": [],
   "source": [
    "n = len(factors)\n",
    "futures = []\n",
    "\n",
    "for i in range(n):\n",
    "        for j in range(i + 1, n):\n",
    "                future = utils.remote_batch_pearsonr.remote(factors[i], factors[j])\n",
    "                futures.append(future)\n",
    "df_corr = np.zeros((n, n), dtype=np.float32)\n",
    "results = ray.get(futures)\n",
    "for i in range(n):\n",
    "        for j in range(i + 1, n):\n",
    "                df_corr[i][j] = results[i + j]\n",
    "                df_corr[j][i] = results[i + j]\n",
    "df_corr = df_corr"
   ]
  },
  {
   "cell_type": "code",
   "execution_count": null,
   "metadata": {},
   "outputs": [],
   "source": [
    "pd.DataFrame(df_corr).round(4)"
   ]
  },
  {
   "cell_type": "code",
   "execution_count": null,
   "metadata": {},
   "outputs": [],
   "source": [
    "import modin.pandas as mpd"
   ]
  },
  {
   "cell_type": "code",
   "execution_count": null,
   "metadata": {},
   "outputs": [],
   "source": [
    "featmat = torch.stack([factor.reshape(-1,1) for factor in factors],dim=1).squeeze()"
   ]
  },
  {
   "cell_type": "code",
   "execution_count": null,
   "metadata": {},
   "outputs": [],
   "source": [
    "featmat.shape"
   ]
  },
  {
   "cell_type": "code",
   "execution_count": null,
   "metadata": {},
   "outputs": [],
   "source": [
    "import pandas as pd\n",
    "import numpy as np\n",
    "from alphagen.utils.correlation import pd_corr_numba"
   ]
  },
  {
   "cell_type": "code",
   "execution_count": null,
   "metadata": {},
   "outputs": [],
   "source": [
    "a = pd.DataFrame(np.random.randn(8532000, 114))"
   ]
  },
  {
   "cell_type": "code",
   "execution_count": null,
   "metadata": {},
   "outputs": [],
   "source": [
    "pd_corr_numba(a)"
   ]
  },
  {
   "cell_type": "code",
   "execution_count": null,
   "metadata": {},
   "outputs": [],
   "source": []
  }
 ],
 "metadata": {
  "kernelspec": {
   "display_name": "qlib",
   "language": "python",
   "name": "python3"
  },
  "language_info": {
   "codemirror_mode": {
    "name": "ipython",
    "version": 3
   },
   "file_extension": ".py",
   "mimetype": "text/x-python",
   "name": "python",
   "nbconvert_exporter": "python",
   "pygments_lexer": "ipython3",
   "version": "3.11.3"
  },
  "orig_nbformat": 4
 },
 "nbformat": 4,
 "nbformat_minor": 2
}
