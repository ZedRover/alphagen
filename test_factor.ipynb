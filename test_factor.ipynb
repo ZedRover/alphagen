{
 "cells": [
  {
   "cell_type": "code",
   "execution_count": 1,
   "metadata": {},
   "outputs": [],
   "source": [
    "import json\n",
    "import os\n",
    "import SharedArray as sa\n",
    "from typing import Optional\n",
    "from datetime import datetime\n",
    "import json\n",
    "import random\n",
    "import numpy as np\n",
    "import torch\n",
    "\n",
    "from alphagen.data.expression import *\n",
    "from alphagen_ocean.calculator_ import QLibStockDataCalculator\n",
    "from alphagen_ocean.stock_data_ import StockData\n",
    "from alphagen.config import *\n",
    "from alphagen.data.tree import ExpressionBuilder\n",
    "from alphagen.data.tokens import *\n",
    "\n",
    "from utils import formula_to_expression"
   ]
  },
  {
   "cell_type": "code",
   "execution_count": 2,
   "metadata": {},
   "outputs": [],
   "source": [
    "device = torch.device(\"cpu\")\n",
    "cuda = torch.device(\"cuda:3\")\n",
    "data_test = StockData(\n",
    "    start_time=20210101,\n",
    "    end_time=20210601,\n",
    "    device=device,\n",
    ")"
   ]
  },
  {
   "cell_type": "code",
   "execution_count": 3,
   "metadata": {},
   "outputs": [],
   "source": [
    "path = \"checkpoints/ocean_lexpr8_lopt34_10_962_20230811101530/251904_steps_pool.json\"\n",
    "with open(path, \"r\") as f:\n",
    "    alpha = json.load(f)"
   ]
  },
  {
   "cell_type": "code",
   "execution_count": 4,
   "metadata": {},
   "outputs": [],
   "source": [
    "factors = [0] * 10\n",
    "for i in range(10):\n",
    "    if alpha[\"exprs\"][i][0] == \"$\":\n",
    "        factors[i] = Feature(getattr(FeatureType, alpha[\"exprs\"][i][1:])).evaluate(\n",
    "            data_test\n",
    "        )\n",
    "    else:\n",
    "        factors[i] = formula_to_expression(alpha[\"exprs\"][i]).evaluate(data_test)"
   ]
  },
  {
   "cell_type": "code",
   "execution_count": 5,
   "metadata": {},
   "outputs": [],
   "source": [
    "weights = torch.Tensor(alpha[\"weights\"])"
   ]
  },
  {
   "cell_type": "code",
   "execution_count": 6,
   "metadata": {},
   "outputs": [],
   "source": [
    "factor_value = torch.zeros_like(factors[0])\n",
    "for i in range(10):\n",
    "    factor_value += factors[i] * weights[i]"
   ]
  },
  {
   "cell_type": "code",
   "execution_count": 7,
   "metadata": {},
   "outputs": [],
   "source": [
    "from alphagen.utils.pytorch_utils import normalize_by_day"
   ]
  },
  {
   "cell_type": "code",
   "execution_count": 8,
   "metadata": {},
   "outputs": [],
   "source": [
    "yhat = normalize_by_day(factor_value)"
   ]
  },
  {
   "cell_type": "code",
   "execution_count": 9,
   "metadata": {},
   "outputs": [
    {
     "name": "stdout",
     "output_type": "stream",
     "text": [
      "mem of retx:65.093994140625 MB\n"
     ]
    }
   ],
   "source": [
    "cal_test = QLibStockDataCalculator(data_test)"
   ]
  },
  {
   "cell_type": "code",
   "execution_count": 10,
   "metadata": {},
   "outputs": [],
   "source": [
    "y1d = cal_test.ret1d\n",
    "y2d = cal_test.ret2d\n",
    "y5d = cal_test.ret5d"
   ]
  },
  {
   "cell_type": "code",
   "execution_count": 11,
   "metadata": {},
   "outputs": [],
   "source": [
    "from alphagen.utils.correlation import batch_pearsonr, batch_spearmanr"
   ]
  },
  {
   "cell_type": "code",
   "execution_count": 20,
   "metadata": {},
   "outputs": [
    {
     "name": "stdout",
     "output_type": "stream",
     "text": [
      "0.01371405838093669\n",
      "0.016069599268724873\n",
      "0.016069599268724873\n"
     ]
    }
   ],
   "source": [
    "for y in [y1d, y2d, y5d]:\n",
    "    print(torch.nanmean(batch_pearsonr(yhat, y)).item())\n",
    "    # print(torch.mean(batch_spearmanr(yhat, y)))"
   ]
  },
  {
   "cell_type": "code",
   "execution_count": 14,
   "metadata": {},
   "outputs": [],
   "source": [
    "import torch as th\n",
    "\n",
    "\n",
    "def calc_topk(input: Tensor, target: Tensor, topk: int = 10) -> Tensor:\n",
    "    idx = ~th.isnan(target)\n",
    "    input, target = input[idx], target[idx]\n",
    "    top_q_indices = th.topk(input, int(len(target) * topk / 100), largest=True).indices\n",
    "    q_ret = th.nanmean(target[top_q_indices])\n",
    "    return q_ret"
   ]
  },
  {
   "cell_type": "code",
   "execution_count": 18,
   "metadata": {},
   "outputs": [
    {
     "data": {
      "text/plain": [
       "0.0005885508181959288"
      ]
     },
     "execution_count": 18,
     "metadata": {},
     "output_type": "execute_result"
    }
   ],
   "source": [
    "q90 = []\n",
    "for i in range(len(yhat)):\n",
    "    q90.append(calc_topk(yhat[i], y[i], 10).item())\n",
    "np.mean(q90)"
   ]
  },
  {
   "cell_type": "code",
   "execution_count": 19,
   "metadata": {},
   "outputs": [
    {
     "data": {
      "text/plain": [
       "0.00028853024088446966"
      ]
     },
     "execution_count": 19,
     "metadata": {},
     "output_type": "execute_result"
    }
   ],
   "source": [
    "q99 = []\n",
    "for i in range(len(yhat)):\n",
    "    q99.append(calc_topk(yhat[i], y[i], 1).item())\n",
    "np.mean(q99)"
   ]
  },
  {
   "cell_type": "code",
   "execution_count": 22,
   "metadata": {},
   "outputs": [
    {
     "data": {
      "text/plain": [
       "0.016069599288809938"
      ]
     },
     "execution_count": 22,
     "metadata": {},
     "output_type": "execute_result"
    }
   ],
   "source": [
    "def nan_pearsonr(input, target):\n",
    "    nan_mask = ~th.isnan(target)\n",
    "    input, target = input[nan_mask], target[nan_mask]\n",
    "    return th.corrcoef(th.stack([input, target]))[0, 1]\n",
    "\n",
    "\n",
    "ic = []\n",
    "for i in range(len(yhat)):\n",
    "    ic.append(nan_pearsonr(yhat[i], y[i]))\n",
    "np.mean(ic)"
   ]
  },
  {
   "cell_type": "code",
   "execution_count": null,
   "metadata": {},
   "outputs": [],
   "source": []
  },
  {
   "cell_type": "code",
   "execution_count": null,
   "metadata": {},
   "outputs": [],
   "source": []
  },
  {
   "cell_type": "code",
   "execution_count": null,
   "metadata": {},
   "outputs": [],
   "source": []
  },
  {
   "cell_type": "code",
   "execution_count": null,
   "metadata": {},
   "outputs": [],
   "source": []
  },
  {
   "cell_type": "code",
   "execution_count": null,
   "metadata": {},
   "outputs": [],
   "source": []
  },
  {
   "cell_type": "code",
   "execution_count": null,
   "metadata": {},
   "outputs": [],
   "source": []
  }
 ],
 "metadata": {
  "kernelspec": {
   "display_name": "qlib",
   "language": "python",
   "name": "python3"
  },
  "language_info": {
   "codemirror_mode": {
    "name": "ipython",
    "version": 3
   },
   "file_extension": ".py",
   "mimetype": "text/x-python",
   "name": "python",
   "nbconvert_exporter": "python",
   "pygments_lexer": "ipython3",
   "version": "3.11.3"
  },
  "orig_nbformat": 4
 },
 "nbformat": 4,
 "nbformat_minor": 2
}
